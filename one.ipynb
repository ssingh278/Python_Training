{
 "cells": [
  {
   "cell_type": "code",
   "execution_count": 1,
   "id": "87051736-7872-448d-a9d4-12e25ff998fa",
   "metadata": {},
   "outputs": [
    {
     "name": "stdout",
     "output_type": "stream",
     "text": [
      "Welcome\n"
     ]
    }
   ],
   "source": [
    "print(\"Welcome\")"
   ]
  },
  {
   "cell_type": "code",
   "execution_count": 2,
   "id": "bd000202-2d55-4644-8305-1112915226f1",
   "metadata": {},
   "outputs": [],
   "source": [
    "import platform as p"
   ]
  },
  {
   "cell_type": "code",
   "execution_count": 3,
   "id": "69659d26-84eb-4b07-a629-7be7c01ea5b0",
   "metadata": {},
   "outputs": [
    {
     "name": "stdout",
     "output_type": "stream",
     "text": [
      "3.11.5\n"
     ]
    }
   ],
   "source": [
    "print(p.python_version())"
   ]
  },
  {
   "cell_type": "code",
   "execution_count": 4,
   "id": "bc4362c2-2dfc-4e91-be07-10ee4ac117d3",
   "metadata": {},
   "outputs": [
    {
     "name": "stdout",
     "output_type": "stream",
     "text": [
      "Windows-10-10.0.26100-SP0\n"
     ]
    }
   ],
   "source": [
    "print(p.platform())"
   ]
  },
  {
   "cell_type": "code",
   "execution_count": 5,
   "id": "6711f99f-1d29-4963-9ca6-3c2f610e4297",
   "metadata": {},
   "outputs": [
    {
     "name": "stdout",
     "output_type": "stream",
     "text": [
      "Writing first.py\n"
     ]
    }
   ],
   "source": [
    "%%writefile first.py\n",
    "print(\"Hello\")"
   ]
  },
  {
   "cell_type": "code",
   "execution_count": 6,
   "id": "141c8f69-cd07-453f-8be0-01a70087db20",
   "metadata": {},
   "outputs": [
    {
     "ename": "SyntaxError",
     "evalue": "invalid syntax (1342964882.py, line 1)",
     "output_type": "error",
     "traceback": [
      "  \u001b[36mCell\u001b[39m\u001b[36m \u001b[39m\u001b[32mIn[6]\u001b[39m\u001b[32m, line 1\u001b[39m\n\u001b[31m    \u001b[39m\u001b[31mpython first.py\u001b[39m\n           ^\n\u001b[31mSyntaxError\u001b[39m\u001b[31m:\u001b[39m invalid syntax\n"
     ]
    }
   ],
   "source": [
    "!python first.py"
   ]
  },
  {
   "cell_type": "code",
   "execution_count": null,
   "id": "a291602a-4cbe-4d90-a1b2-b12dba2f5d6a",
   "metadata": {},
   "outputs": [],
   "source": []
  }
 ],
 "metadata": {
  "kernelspec": {
   "display_name": "Python 3 (ipykernel)",
   "language": "python",
   "name": "python3"
  },
  "language_info": {
   "codemirror_mode": {
    "name": "ipython",
    "version": 3
   },
   "file_extension": ".py",
   "mimetype": "text/x-python",
   "name": "python",
   "nbconvert_exporter": "python",
   "pygments_lexer": "ipython3",
   "version": "3.11.5"
  }
 },
 "nbformat": 4,
 "nbformat_minor": 5
}
