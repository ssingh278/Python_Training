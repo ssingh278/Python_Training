{
 "cells": [
  {
   "cell_type": "code",
   "execution_count": 9,
   "id": "b0c9ad60-efb6-4ccd-95d5-7f74b8bd9183",
   "metadata": {},
   "outputs": [],
   "source": [
    "def fun_return(m):\n",
    "    for i in range(m):\n",
    "        return i  \n",
    "def fun_yield(m):\n",
    "    for i in range(m):\n",
    "        yield i  "
   ]
  },
  {
   "cell_type": "code",
   "execution_count": 5,
   "id": "d4f7a661-e552-4366-a0dc-606ae05920c9",
   "metadata": {},
   "outputs": [
    {
     "name": "stdout",
     "output_type": "stream",
     "text": [
      "The snakeviz extension is already loaded. To reload it, use:\n",
      "  %reload_ext snakeviz\n"
     ]
    }
   ],
   "source": [
    "%load_ext snakeviz"
   ]
  },
  {
   "cell_type": "code",
   "execution_count": 10,
   "id": "33c50c08-03c2-467e-ba7e-64f93dc7eed1",
   "metadata": {},
   "outputs": [
    {
     "name": "stdout",
     "output_type": "stream",
     "text": [
      " \n",
      "*** Profile stats marshalled to file 'C:\\\\Users\\\\sshar\\\\AppData\\\\Local\\\\Temp\\\\tmp6rg3551a'.\n",
      "Embedding SnakeViz in this document...\n",
      "<function display at 0x0000028AC3977EC0>\n"
     ]
    },
    {
     "data": {
      "text/html": [
       "\n",
       "<iframe id='snakeviz-34dcfab0-4e3a-11f0-91cd-088fc329c527' frameborder=0 seamless width='100%' height='1000'></iframe>\n",
       "<script>document.getElementById(\"snakeviz-34dcfab0-4e3a-11f0-91cd-088fc329c527\").setAttribute(\"src\", \"http://\" + document.location.hostname + \":8080/snakeviz/C%3A%5CUsers%5Csshar%5CAppData%5CLocal%5CTemp%5Ctmp6rg3551a\")</script>\n"
      ],
      "text/plain": [
       "<IPython.core.display.HTML object>"
      ]
     },
     "metadata": {},
     "output_type": "display_data"
    }
   ],
   "source": [
    "%snakeviz fun_return(5)"
   ]
  },
  {
   "cell_type": "code",
   "execution_count": 11,
   "id": "eacd1376-a6d6-4e6f-bccc-b1932b12cc49",
   "metadata": {},
   "outputs": [
    {
     "name": "stdout",
     "output_type": "stream",
     "text": [
      " \n",
      "*** Profile stats marshalled to file 'C:\\\\Users\\\\sshar\\\\AppData\\\\Local\\\\Temp\\\\tmpcbjq8x4q'.\n",
      "Embedding SnakeViz in this document...\n",
      "<function display at 0x0000028AC3977EC0>\n"
     ]
    },
    {
     "data": {
      "text/html": [
       "\n",
       "<iframe id='snakeviz-40b67d30-4e3a-11f0-be55-088fc329c527' frameborder=0 seamless width='100%' height='1000'></iframe>\n",
       "<script>document.getElementById(\"snakeviz-40b67d30-4e3a-11f0-be55-088fc329c527\").setAttribute(\"src\", \"http://\" + document.location.hostname + \":8080/snakeviz/C%3A%5CUsers%5Csshar%5CAppData%5CLocal%5CTemp%5Ctmpcbjq8x4q\")</script>\n"
      ],
      "text/plain": [
       "<IPython.core.display.HTML object>"
      ]
     },
     "metadata": {},
     "output_type": "display_data"
    }
   ],
   "source": [
    "%snakeviz fun_yield(5)"
   ]
  },
  {
   "cell_type": "code",
   "execution_count": null,
   "id": "1f8d7ff5-1abe-4fef-884e-f8f617ce2ba8",
   "metadata": {},
   "outputs": [],
   "source": []
  }
 ],
 "metadata": {
  "kernelspec": {
   "display_name": "Python 3 (ipykernel)",
   "language": "python",
   "name": "python3"
  },
  "language_info": {
   "codemirror_mode": {
    "name": "ipython",
    "version": 3
   },
   "file_extension": ".py",
   "mimetype": "text/x-python",
   "name": "python",
   "nbconvert_exporter": "python",
   "pygments_lexer": "ipython3",
   "version": "3.11.5"
  }
 },
 "nbformat": 4,
 "nbformat_minor": 5
}
