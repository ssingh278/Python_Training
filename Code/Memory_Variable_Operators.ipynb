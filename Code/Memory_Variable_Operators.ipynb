{
  "nbformat": 4,
  "nbformat_minor": 0,
  "metadata": {
    "colab": {
      "provenance": []
    },
    "kernelspec": {
      "name": "python3",
      "display_name": "Python 3"
    },
    "language_info": {
      "name": "python"
    }
  },
  "cells": [
    {
      "cell_type": "code",
      "execution_count": 1,
      "metadata": {
        "id": "ZuiHNjENTkIM"
      },
      "outputs": [],
      "source": [
        "import sys\n"
      ]
    },
    {
      "cell_type": "markdown",
      "source": [
        "#The sys.getsizeof() Built-in Function\n",
        "The standard library's sys module provides the getsizeof() function. That function accepts an object (and optional default), calls the object's sizeof() method, and returns the result"
      ],
      "metadata": {
        "id": "BHcuYMvSUNZ0"
      }
    },
    {
      "cell_type": "code",
      "source": [
        "name=\"gagan\"\n",
        "rollno=1\n",
        "print(name)\n",
        "print(sys.getsizeof(name))\n",
        "print(rollno)\n",
        "print(sys.getsizeof(rollno))"
      ],
      "metadata": {
        "colab": {
          "base_uri": "https://localhost:8080/"
        },
        "id": "dNpGI3qRT0bt",
        "outputId": "3f05f1db-1f0d-4930-fa02-9ab0af113bd7"
      },
      "execution_count": 3,
      "outputs": [
        {
          "output_type": "stream",
          "name": "stdout",
          "text": [
            "gagan\n",
            "54\n",
            "1\n",
            "28\n"
          ]
        }
      ]
    },
    {
      "cell_type": "code",
      "source": [
        "print(sys.getsizeof(5))"
      ],
      "metadata": {
        "colab": {
          "base_uri": "https://localhost:8080/"
        },
        "id": "WfmJIRB4UEft",
        "outputId": "fa3ac52b-f399-437d-8814-c63598144b0c"
      },
      "execution_count": 4,
      "outputs": [
        {
          "output_type": "stream",
          "name": "stdout",
          "text": [
            "28\n"
          ]
        }
      ]
    },
    {
      "cell_type": "code",
      "source": [
        "sys.getsizeof('')\n",
        "49\n",
        "sys.getsizeof('1')\n",
        "50\n",
        "sys.getsizeof('12')\n",
        "51\n",
        "sys.getsizeof('123')\n",
        "52\n",
        "sys.getsizeof('1234')\n",
        "53"
      ],
      "metadata": {
        "colab": {
          "base_uri": "https://localhost:8080/"
        },
        "id": "mwt12T2AUYvm",
        "outputId": "b49b462b-dfa1-452a-d9b4-7baa3ac3db12"
      },
      "execution_count": 5,
      "outputs": [
        {
          "output_type": "execute_result",
          "data": {
            "text/plain": [
              "53"
            ]
          },
          "metadata": {},
          "execution_count": 5
        }
      ]
    },
    {
      "cell_type": "code",
      "source": [
        "sys.getsizeof(bytes())\n"
      ],
      "metadata": {
        "colab": {
          "base_uri": "https://localhost:8080/"
        },
        "id": "HHhsrodEUckC",
        "outputId": "eaba3b77-23bd-4de2-81de-ff28567d1443"
      },
      "execution_count": 7,
      "outputs": [
        {
          "output_type": "execute_result",
          "data": {
            "text/plain": [
              "33"
            ]
          },
          "metadata": {},
          "execution_count": 7
        }
      ]
    },
    {
      "cell_type": "code",
      "source": [
        "sys.getsizeof([])"
      ],
      "metadata": {
        "colab": {
          "base_uri": "https://localhost:8080/"
        },
        "id": "bBiVfzHjUg-j",
        "outputId": "685d0f95-06ee-4a2f-f064-f98df99a4840"
      },
      "execution_count": 8,
      "outputs": [
        {
          "output_type": "execute_result",
          "data": {
            "text/plain": [
              "56"
            ]
          },
          "metadata": {},
          "execution_count": 8
        }
      ]
    },
    {
      "cell_type": "code",
      "source": [
        "sys.getsizeof([1])"
      ],
      "metadata": {
        "colab": {
          "base_uri": "https://localhost:8080/"
        },
        "id": "O01EXw-4Ujse",
        "outputId": "b7a66354-6c46-477d-dff0-b6fc12dfe9ec"
      },
      "execution_count": 9,
      "outputs": [
        {
          "output_type": "execute_result",
          "data": {
            "text/plain": [
              "64"
            ]
          },
          "metadata": {},
          "execution_count": 9
        }
      ]
    },
    {
      "cell_type": "code",
      "source": [
        "sys.getsizeof([1, 2])"
      ],
      "metadata": {
        "colab": {
          "base_uri": "https://localhost:8080/"
        },
        "id": "q1iiYnCFUmYq",
        "outputId": "0637ea4b-72fc-47dc-d1df-4ed7ad20d3f9"
      },
      "execution_count": 10,
      "outputs": [
        {
          "output_type": "execute_result",
          "data": {
            "text/plain": [
              "72"
            ]
          },
          "metadata": {},
          "execution_count": 10
        }
      ]
    },
    {
      "cell_type": "code",
      "source": [
        "sys.getsizeof(())"
      ],
      "metadata": {
        "colab": {
          "base_uri": "https://localhost:8080/"
        },
        "id": "THb1dEXdUpNb",
        "outputId": "e850afcd-1c62-491d-869b-97617be06da2"
      },
      "execution_count": 11,
      "outputs": [
        {
          "output_type": "execute_result",
          "data": {
            "text/plain": [
              "40"
            ]
          },
          "metadata": {},
          "execution_count": 11
        }
      ]
    },
    {
      "cell_type": "code",
      "source": [
        "sys.getsizeof((1,))"
      ],
      "metadata": {
        "colab": {
          "base_uri": "https://localhost:8080/"
        },
        "id": "4Q7yAol8UrNd",
        "outputId": "aa432bb4-f7d6-46f9-a000-9672f84d70c0"
      },
      "execution_count": 12,
      "outputs": [
        {
          "output_type": "execute_result",
          "data": {
            "text/plain": [
              "48"
            ]
          },
          "metadata": {},
          "execution_count": 12
        }
      ]
    },
    {
      "cell_type": "code",
      "source": [
        "sys.getsizeof((1,2,))"
      ],
      "metadata": {
        "colab": {
          "base_uri": "https://localhost:8080/"
        },
        "id": "6vHlifAoUtzR",
        "outputId": "0a53c75b-5fb1-4b69-8640-d32791e5305e"
      },
      "execution_count": 13,
      "outputs": [
        {
          "output_type": "execute_result",
          "data": {
            "text/plain": [
              "56"
            ]
          },
          "metadata": {},
          "execution_count": 13
        }
      ]
    },
    {
      "cell_type": "code",
      "source": [
        "sys.getsizeof(set())"
      ],
      "metadata": {
        "colab": {
          "base_uri": "https://localhost:8080/"
        },
        "id": "g8MJuExzUv95",
        "outputId": "e7584d1b-30e6-476d-b512-c2751f4ca459"
      },
      "execution_count": 14,
      "outputs": [
        {
          "output_type": "execute_result",
          "data": {
            "text/plain": [
              "216"
            ]
          },
          "metadata": {},
          "execution_count": 14
        }
      ]
    },
    {
      "cell_type": "code",
      "source": [
        "sys.getsizeof(set([1]))"
      ],
      "metadata": {
        "colab": {
          "base_uri": "https://localhost:8080/"
        },
        "id": "1NV_yYJiUySo",
        "outputId": "b5ee41df-62be-4303-a96b-6be0af66b34c"
      },
      "execution_count": 16,
      "outputs": [
        {
          "output_type": "execute_result",
          "data": {
            "text/plain": [
              "216"
            ]
          },
          "metadata": {},
          "execution_count": 16
        }
      ]
    },
    {
      "cell_type": "code",
      "source": [
        "sys.getsizeof({})"
      ],
      "metadata": {
        "colab": {
          "base_uri": "https://localhost:8080/"
        },
        "id": "q7NHCJZrU3yC",
        "outputId": "70a3c02e-1b1a-433d-a207-4b8be342c269"
      },
      "execution_count": 17,
      "outputs": [
        {
          "output_type": "execute_result",
          "data": {
            "text/plain": [
              "64"
            ]
          },
          "metadata": {},
          "execution_count": 17
        }
      ]
    },
    {
      "cell_type": "markdown",
      "source": [
        "#Operators and Operand in Python Programming"
      ],
      "metadata": {
        "id": "4mBwb2PRVEMq"
      }
    },
    {
      "cell_type": "markdown",
      "source": [
        "#Operators in Python:\n",
        " Like other programming languages python also implements the concepts of operators. Operators are special symbols that represent operations like addition, multiplication etc.\n",
        "\n",
        "Operand: The values required by the operator to operate is called operand.\n",
        "\n",
        "Following are some valid expressions:\n",
        "\n",
        "\n",
        "32+20          hour-1         hour*60+minutes\n",
        "\n",
        "\n",
        "When the variable name appears at the place of an operand, it is replaced with its (variable) value. Like as you see above three examples are there. The first one is very clear ie. 32+20 but the second one little bit confusing because it’s showing hour-1. It does not return any meaning here, what does hour indicate?. I will let you know that here hour is a variable whose value can be 2,3,4 or anything."
      ],
      "metadata": {
        "id": "vIxNTXXHVJlh"
      }
    },
    {
      "cell_type": "markdown",
      "source": [
        "#Priority of Operations:\n",
        " In most cases, sometimes more than one operator appears in an expression, In that case, the order of operator evaluation depends upon rules of Precedence. Python follows the same precedence rules for its mathematical operators that mathematics does. We follow the\n",
        "\n",
        "#PEMDAS\n",
        "\n",
        " acronym to remember that order of operations.\n",
        "\n",
        "#P: Parenthesis have the highest precedence.\n",
        "#E: Exponent has the next highest precedence.\n",
        "#M: Multiplication and division have the same precedence.\n",
        "#S: Precedence of subtraction and addition is next to the multiplication and division."
      ],
      "metadata": {
        "id": "aXq0HSkBVUzi"
      }
    },
    {
      "cell_type": "markdown",
      "source": [
        "#Types of Operators in Python"
      ],
      "metadata": {
        "id": "DuNmZiaOVwyz"
      }
    },
    {
      "cell_type": "markdown",
      "source": [
        "#Python Arithmetic Operators\n",
        "\n",
        "Arithmetic operations in Python are used to perform mathematical operations. Some of the mathematical operations are addition, subtraction and multiplication etc."
      ],
      "metadata": {
        "id": "jghojyKxVzlt"
      }
    },
    {
      "cell_type": "markdown",
      "source": [
        "#Operator\tName\tExample\tOutput\n",
        "\n",
        "+Addition\t1+1\t2\n",
        "\n",
        "–Subtraction\t3-2\t1\n",
        "\n",
        "**Multiplication\t2*2\t4\n",
        "\n",
        "/Division (returns quotient)\t10/2\t5\n",
        "\n",
        "%\tModulus (returns remainder)\t4%3\t1\n",
        "\n",
        "**\tExponentiation\t2**3\t8\n",
        "\n",
        "//\tFloor Division\t5//2\t2\n"
      ],
      "metadata": {
        "id": "1YGpOZwWV8wI"
      }
    },
    {
      "cell_type": "code",
      "source": [
        "a=10\n",
        "b=3\n",
        "print(a+b)\n",
        "print(a-b)\n",
        "print(a*b)\n",
        "print(a/b)\n",
        "print(a%b)\n",
        "print(a**2)\n",
        "print(a//b)\n",
        "\n"
      ],
      "metadata": {
        "colab": {
          "base_uri": "https://localhost:8080/"
        },
        "id": "U7ox03KbWG1k",
        "outputId": "0e21ae43-d41d-4aba-f66b-ebd290bbc13a"
      },
      "execution_count": 18,
      "outputs": [
        {
          "output_type": "stream",
          "name": "stdout",
          "text": [
            "13\n",
            "7\n",
            "30\n",
            "3.3333333333333335\n",
            "1\n",
            "100\n",
            "3\n"
          ]
        }
      ]
    },
    {
      "cell_type": "markdown",
      "source": [
        "#Predefine module operator"
      ],
      "metadata": {
        "id": "RVpZYNrjWvNi"
      }
    },
    {
      "cell_type": "code",
      "source": [
        "import operator as O\n",
        "a=10\n",
        "b=3\n",
        "print(O.add(a,b))\n",
        "print(O.sub(a,b))\n",
        "print(O.mul(a,b))\n",
        "print(O.truediv(a,b))\n",
        "print(O.floordiv(a,b))\n",
        "print(O.mod(a,b))\n",
        "print(O.pow(a,2))\n",
        "\n"
      ],
      "metadata": {
        "colab": {
          "base_uri": "https://localhost:8080/"
        },
        "id": "Cd7fPPT5WyLe",
        "outputId": "f976b111-6608-4e3d-d77b-d63def23a7a4"
      },
      "execution_count": 21,
      "outputs": [
        {
          "output_type": "stream",
          "name": "stdout",
          "text": [
            "13\n",
            "7\n",
            "30\n",
            "3.3333333333333335\n",
            "3\n",
            "1\n",
            "100\n"
          ]
        }
      ]
    },
    {
      "cell_type": "markdown",
      "source": [
        "#Assignment Operators in Python\n",
        "Assignment operations in Python are mainly used to assign some values to variables. A very simple assignment operation is x = 10 that assigns value 10 to variable x.\n",
        "\n",
        "There are many assignment operators in Python i.e x *= 5. This operation is same as x = x*5"
      ],
      "metadata": {
        "id": "hdd9eky2XZg6"
      }
    },
    {
      "cell_type": "code",
      "source": [
        "a=10\n",
        "print(a)\n",
        "a=a+10\n",
        "print(a)\n",
        "a+=10\n",
        "print(a)"
      ],
      "metadata": {
        "colab": {
          "base_uri": "https://localhost:8080/"
        },
        "id": "hhowdz4rXda9",
        "outputId": "68e5f936-0070-47aa-9c05-8d826c90bbc2"
      },
      "execution_count": 23,
      "outputs": [
        {
          "output_type": "stream",
          "name": "stdout",
          "text": [
            "10\n",
            "20\n",
            "30\n"
          ]
        }
      ]
    },
    {
      "cell_type": "code",
      "source": [
        "a=10\n",
        "print(a)\n",
        "O.iadd(a,10)"
      ],
      "metadata": {
        "colab": {
          "base_uri": "https://localhost:8080/"
        },
        "id": "G8dBPU8eXp3v",
        "outputId": "bf4edb43-943a-4dd3-eabc-bf16e5d66674"
      },
      "execution_count": 24,
      "outputs": [
        {
          "output_type": "stream",
          "name": "stdout",
          "text": [
            "10\n"
          ]
        },
        {
          "output_type": "execute_result",
          "data": {
            "text/plain": [
              "20"
            ]
          },
          "metadata": {},
          "execution_count": 24
        }
      ]
    },
    {
      "cell_type": "markdown",
      "source": [
        "#Comparison Operators in Python\n",
        "\n",
        "Comparison operators are used to compare two values. If returns the result as True or False. Suppose we have two variables a and b. If both values of both variables are equal to each other then it returns the result as True and if the values of both differ from each other then it returns False."
      ],
      "metadata": {
        "id": "nqmRzwSzX03W"
      }
    },
    {
      "cell_type": "markdown",
      "source": [
        "#Operator\tName\tExample\n",
        "\n",
        "==\tDouble Equal\tx == y\n",
        "\n",
        "!=Not Equal\tx != y\n",
        "\n",
        ">Greater than\tx > y\n",
        "\n",
        "<Less than\tx < y\n",
        "\n",
        ">=Greater than or equal to\tx <= y\n",
        "\n",
        "<=Less than or equal to\tx <= y"
      ],
      "metadata": {
        "id": "2GUMKcBfX5kB"
      }
    },
    {
      "cell_type": "markdown",
      "source": [
        "#Logical Operators in Python\n",
        "\n",
        "Logical operators in Python are used in combining conditional statements. It also returns True or False based on conditions. It works on the principle of Logic gates"
      ],
      "metadata": {
        "id": "aD8CP-DOYA8T"
      }
    },
    {
      "cell_type": "markdown",
      "source": [
        "#Operator\tOutput\tSyntax\n",
        "\n",
        "and\tReturns True if both statements are true\tx < 5 and x < 10\n",
        "\n",
        "or\tReturns True if one of the statement is true\tx < 5 or x < 4\n",
        "\n",
        "not\tReverse the result, returns False if the result is true\tnot(x < 5 and x < 10)"
      ],
      "metadata": {
        "id": "RV6wNsE3YIMI"
      }
    },
    {
      "cell_type": "code",
      "source": [
        "a =int( input(\"Enter number: \"))\n",
        "print(a,' * 1 =',a*1)\n",
        "print(a,' * 2 =',a*2)\n"
      ],
      "metadata": {
        "colab": {
          "base_uri": "https://localhost:8080/"
        },
        "id": "Cc6mMfo3YNYi",
        "outputId": "0f515e53-6a88-4cfb-8c23-fc6c81d87aa8"
      },
      "execution_count": 27,
      "outputs": [
        {
          "output_type": "stream",
          "name": "stdout",
          "text": [
            "Enter number: 6\n",
            "6  * 1 = 6\n",
            "6  * 2 = 12\n"
          ]
        }
      ]
    },
    {
      "cell_type": "code",
      "source": [
        "a =int( input(\"Enter number: \"))\n",
        "print(\"%d * %d = %d\"%(a,1,a*1))\n",
        "print(\"%d * %d = %d\"%(a,2,a*2))\n",
        "\n"
      ],
      "metadata": {
        "colab": {
          "base_uri": "https://localhost:8080/"
        },
        "id": "6JeT2QJ7ZAds",
        "outputId": "ef1bb916-50fd-4dae-b1f9-9a90825b6026"
      },
      "execution_count": 28,
      "outputs": [
        {
          "output_type": "stream",
          "name": "stdout",
          "text": [
            "Enter number: 3\n",
            "3 * 1 = 3\n",
            "3 * 2 = 6\n"
          ]
        }
      ]
    },
    {
      "cell_type": "code",
      "source": [
        "a =int( input(\"Enter number: \"))\n",
        "print(f\"{a}*1={a*1}\")\n",
        "print(f\"{a}*2={a*2}\")\n"
      ],
      "metadata": {
        "colab": {
          "base_uri": "https://localhost:8080/"
        },
        "id": "LTcBgOJuYlf7",
        "outputId": "a7ab6f8c-fc3b-49db-b538-cd08c98ff79d"
      },
      "execution_count": 30,
      "outputs": [
        {
          "output_type": "stream",
          "name": "stdout",
          "text": [
            "Enter number: 6\n",
            "6*1=6\n",
            "6*2=12\n"
          ]
        }
      ]
    },
    {
      "cell_type": "code",
      "source": [
        "a=int(input(\"Enter Your First Number=\"))\n",
        "b=int(input(\"Enter Your Second Number=\"))\n",
        "print(\"Value of a before swap=\",a)\n",
        "print(\"Value of b before swap=\",b)\n",
        "a=a+b\n",
        "b=a-b\n",
        "a=a-b\n",
        "print(\"Value of a after swap=\",a)\n",
        "print(\"Value of b after swap=\",b)\n",
        "\n",
        "\n"
      ],
      "metadata": {
        "colab": {
          "base_uri": "https://localhost:8080/"
        },
        "id": "duY06s63ZllK",
        "outputId": "add1f8f6-0d07-42e1-d22f-4a6f28f58ed9"
      },
      "execution_count": 31,
      "outputs": [
        {
          "output_type": "stream",
          "name": "stdout",
          "text": [
            "Enter Your First Number=19\n",
            "Enter Your Second Number=29\n",
            "Value of a before swap= 19\n",
            "Value of b before swap= 29\n",
            "Value of a after swap= 29\n",
            "Value of b after swap= 19\n"
          ]
        }
      ]
    },
    {
      "cell_type": "code",
      "source": [
        "a=int(input(\"Enter Your First Number=\"))\n",
        "b=int(input(\"Enter Your Second Number=\"))\n",
        "print(\"Value of a before swap=\",a)\n",
        "print(\"Value of b before swap=\",b)\n",
        "a=a^b\n",
        "b=a^b\n",
        "a=a^b\n",
        "print(\"Value of a after swap=\",a)\n",
        "print(\"Value of b after swap=\",b)\n"
      ],
      "metadata": {
        "colab": {
          "base_uri": "https://localhost:8080/"
        },
        "id": "7DQnS_k4aEFT",
        "outputId": "1e7f6996-9939-44de-b9c7-bde76268d393"
      },
      "execution_count": 32,
      "outputs": [
        {
          "output_type": "stream",
          "name": "stdout",
          "text": [
            "Enter Your First Number=10\n",
            "Enter Your Second Number=20\n",
            "Value of a before swap= 10\n",
            "Value of b before swap= 20\n",
            "Value of a after swap= 20\n",
            "Value of b after swap= 10\n"
          ]
        }
      ]
    },
    {
      "cell_type": "markdown",
      "source": [
        "#Bitwise Operators\n",
        "\n",
        "\n",
        "The are a few number system. Among which we usually use the decimal numbers (i.e. 1, 2,3, .... ). And there is also something called 'Binary Numbers'(i.e. '0' and '1').\n",
        "\n",
        "Say for example, if we convert the decimal number '5' to Binary, it is '101'.\n",
        "\n",
        "'0' and '1' are also called as 'Bit'. And the operator that we are going to use, deals with 'Bits'."
      ],
      "metadata": {
        "id": "Mb3PufwBaYJ0"
      }
    },
    {
      "cell_type": "markdown",
      "source": [
        "#Operator\tName\tExample\n",
        "\n",
        "&\tAND\tx & y\n",
        "\n",
        "|\tOR\tx | y\n",
        "\n",
        "~\tNOT\t~x\n",
        "\n",
        "^\tXOR\tx ^ y\n",
        "\n",
        ">>Right Shift\tx >>\n",
        "\n",
        "<<Left Shift\tx <<"
      ],
      "metadata": {
        "id": "PueOXkilac--"
      }
    },
    {
      "cell_type": "markdown",
      "source": [
        "#The Operator '&' or 'AND'\n",
        "\n",
        "The '&' Operator checks, if both the bits are '1' then it returns '1' else it returns '0'.\n"
      ],
      "metadata": {
        "id": "s0ECIp3xanSW"
      }
    },
    {
      "cell_type": "code",
      "source": [
        "x = 5\n",
        "y = 2\n",
        "z = x & y\n",
        "print(z)"
      ],
      "metadata": {
        "colab": {
          "base_uri": "https://localhost:8080/"
        },
        "id": "YM2D_RVnai6s",
        "outputId": "7dd6e2b0-cdc0-4a52-9f60-073311e303d4"
      },
      "execution_count": 33,
      "outputs": [
        {
          "output_type": "stream",
          "name": "stdout",
          "text": [
            "0\n"
          ]
        }
      ]
    },
    {
      "cell_type": "markdown",
      "source": [
        "So, what Python does internally is, converts both the numbers (i.e. '5' and '2') to binary.\n",
        "\n",
        "The binary equivalent of '5' is '101'\n",
        "\n",
        "And the binary equivalent of '2' is '10'\n",
        "\n",
        "Now, if we calculate the '&' of '5' and '2'.\n",
        "\n",
        "101\n",
        "\n",
        "010\n",
        "\n",
        "------\n",
        "000\n",
        "\n",
        "And we got the output '000' because we could only get a '1' if both are '1'.\n",
        "\n",
        "But in this case, '1 & 0' is '0', '0 & 1' is '0' and '1 & 0' is also '0' i.e. '000'.\n",
        "\n",
        "And if we convert '000' to decimal we get '0' as output."
      ],
      "metadata": {
        "id": "3jkCGZRVaw8E"
      }
    },
    {
      "cell_type": "markdown",
      "source": [
        "#The Operator '|' or 'OR'\n",
        "\n",
        "The '|' Operator checks, if either one of the bits is '1' then it returns '1' else it returns '0'."
      ],
      "metadata": {
        "id": "Q6jiFe0abDiU"
      }
    },
    {
      "cell_type": "code",
      "source": [
        "x = 5\n",
        "y = 2\n",
        "z = x | y\n",
        "print(z)"
      ],
      "metadata": {
        "colab": {
          "base_uri": "https://localhost:8080/"
        },
        "id": "6bWkydBbbGC5",
        "outputId": "72be68d5-6b3a-4ae6-9e0d-28071b5eabcb"
      },
      "execution_count": 34,
      "outputs": [
        {
          "output_type": "stream",
          "name": "stdout",
          "text": [
            "7\n"
          ]
        }
      ]
    },
    {
      "cell_type": "markdown",
      "source": [
        "#So, what Python does internally is,\n",
        " converts both the numbers (i.e. '5' and '2') to binary.\n",
        "\n",
        "The binary equivalent of '5' is '101'\n",
        "\n",
        "And the binary equivalent of '2' is '10'\n",
        "\n",
        "Now, if we calculate the '|' of '5' and '2'.\n",
        "\n",
        "101\n",
        "\n",
        "010\n",
        "------\n",
        "\n",
        "111"
      ],
      "metadata": {
        "id": "BfDcHlGBbJVM"
      }
    },
    {
      "cell_type": "markdown",
      "source": [
        "And we got the output '111' because we can get a '1' if either of the bits are '1'.\n",
        "\n",
        "But in this case, '1 | 0' is '1', '0 | 1' is '1' and '1 | 0' is also '1' i.e. '111'.\n",
        "\n",
        "And if we convert '111' to decimal, it is '7'."
      ],
      "metadata": {
        "id": "njUrcyZ-bTLg"
      }
    },
    {
      "cell_type": "markdown",
      "source": [
        "#The Operator '~' or '' NOT\n",
        "\n",
        "The '~' Operator or 'not', simply converts '1's to '0's and '0's to '1's."
      ],
      "metadata": {
        "id": "_tC1ruC7bVlK"
      }
    },
    {
      "cell_type": "code",
      "source": [
        "x = 5\n",
        "z = ~x\n",
        "print(z)"
      ],
      "metadata": {
        "colab": {
          "base_uri": "https://localhost:8080/"
        },
        "id": "NjwkiYOqbYxz",
        "outputId": "30a41c83-0231-4820-f2b5-53058cd7d08c"
      },
      "execution_count": 35,
      "outputs": [
        {
          "output_type": "stream",
          "name": "stdout",
          "text": [
            "-6\n"
          ]
        }
      ]
    },
    {
      "cell_type": "markdown",
      "source": [
        "If we look at the output, it looks a little weird. Where on earth did '-6' come from.\n",
        "\n",
        "Well! Let us not get much deeper into it and understand a simple formula.\n",
        "\n",
        "i.e.\n",
        "\n",
        "~x can be written as '-x-1' or '-(x+1)'"
      ],
      "metadata": {
        "id": "cIJKc4nEbdKc"
      }
    },
    {
      "cell_type": "markdown",
      "source": [
        "~x = -(101 + 1)\n",
        "\n",
        "101\n",
        "1\n",
        "------\n",
        "110"
      ],
      "metadata": {
        "id": "MjjSu13pbfL2"
      }
    },
    {
      "cell_type": "markdown",
      "source": [
        "The decimal equivalent of '110' is 6.\n",
        "\n",
        "So,  ~x = -6"
      ],
      "metadata": {
        "id": "eyS7l1M7blWs"
      }
    },
    {
      "cell_type": "markdown",
      "source": [
        "#The Operator '^' or 'XOR'\n",
        "\n",
        "The '^' or 'XOR'/'eXclusive OR' is almost same as the 'OR' Operator. The only difference is, if both are '1' it returns '0'. Else for '1' and '0' or '0' and '1' it returns '1'."
      ],
      "metadata": {
        "id": "fc9PcKdybor2"
      }
    },
    {
      "cell_type": "code",
      "source": [
        "x = 5\n",
        "y = 4\n",
        "z = x ^ y\n",
        "print(z)"
      ],
      "metadata": {
        "colab": {
          "base_uri": "https://localhost:8080/"
        },
        "id": "kBeSMAzobrQC",
        "outputId": "34ccef02-1f62-4619-e3e9-6c37cd9a0e31"
      },
      "execution_count": 36,
      "outputs": [
        {
          "output_type": "stream",
          "name": "stdout",
          "text": [
            "1\n"
          ]
        }
      ]
    },
    {
      "cell_type": "markdown",
      "source": [
        "So, what Python does internally is, converts both the numbers (i.e. '5' and '2') to binary.\n",
        "\n",
        "The binary equivalent of '5' is '101'\n",
        "\n",
        "And the binary equivalent of '2' is '100'\n",
        "\n",
        "Now, if we calculate the '|' of '5' and '2'.\n"
      ],
      "metadata": {
        "id": "Q0pUJifbbuHP"
      }
    },
    {
      "cell_type": "markdown",
      "source": [
        "~x = -(101 + 1)\n",
        "\n",
        "101\n",
        "^100\n",
        "------\n",
        "001"
      ],
      "metadata": {
        "id": "8wBcZj4Mbv6d"
      }
    },
    {
      "cell_type": "markdown",
      "source": [
        "And we got the output '001' because '1 ^ 1' is '0', '0 ^ 0' is '0' and '1 ^ 0' is '1'\n",
        "\n",
        "i.e. '001'.\n",
        "\n",
        "And if we convert '001' to decimal, it is '1'.\n",
        "\n",
        "Just note that '1 ^ 1' is '0' and not '1'."
      ],
      "metadata": {
        "id": "8_N2kL7Ib2zG"
      }
    },
    {
      "cell_type": "markdown",
      "source": [
        "#The Operator '>>' or 'Right Shift'\n",
        "\n",
        "The '>>' Operator or 'Right Shift', simply shifts bits to the right by number of positions specified.\n"
      ],
      "metadata": {
        "id": "WgwbGiYCb6Sl"
      }
    },
    {
      "cell_type": "markdown",
      "source": [
        "#Membership Operators\n",
        "\n",
        "\n",
        "Say we have 100 Names in a list and you want to check, if a particular name is present in the list or not.\n",
        "\n",
        "Well! Membership Operators comes handy in such case.\n",
        "\n",
        "There are two Membership Operators in Python. i.e. 'in' and 'not in'."
      ],
      "metadata": {
        "id": "PMFUDIQVcAUs"
      }
    },
    {
      "cell_type": "markdown",
      "source": [
        "Operator\tDescription\tExample\n",
        "\n",
        "in\tUsed to search a particular data from a collection of data\t5 in x\n",
        "\n",
        "not in\t'not in' operator is just the opposite of 'in' operator\t5 not in x"
      ],
      "metadata": {
        "id": "xHqNaZtpcCZ7"
      }
    },
    {
      "cell_type": "code",
      "source": [
        "x = [\"John\", \"Keith\", \"Manohar\", \"Salim\"]\n",
        "print(\"Manohar\" in x)"
      ],
      "metadata": {
        "colab": {
          "base_uri": "https://localhost:8080/"
        },
        "id": "4eExVfMfcFvu",
        "outputId": "2b5446ba-dec4-4668-86c3-791ea41cbe10"
      },
      "execution_count": 37,
      "outputs": [
        {
          "output_type": "stream",
          "name": "stdout",
          "text": [
            "True\n"
          ]
        }
      ]
    },
    {
      "cell_type": "code",
      "source": [
        "x = [\"John\", \"Keith\", \"Manohar\", \"Salim\"]\n",
        "print(\"Manohar\" not in x)"
      ],
      "metadata": {
        "colab": {
          "base_uri": "https://localhost:8080/"
        },
        "id": "lELZbMdUcJIV",
        "outputId": "9b8cb8a1-c3da-4adc-97ae-7b65b8cbb972"
      },
      "execution_count": 38,
      "outputs": [
        {
          "output_type": "stream",
          "name": "stdout",
          "text": [
            "False\n"
          ]
        }
      ]
    },
    {
      "cell_type": "markdown",
      "source": [
        "#Identity Operators\n",
        "\n",
        "\n",
        "Just remember, all the values we store in Python are actually stored in a Memory location.\n",
        "\n",
        "Now, if you want to check, if two values are stored in the same Memory location, Identity Operators are used.\n",
        "\n",
        "There are just two Identity Operators, 'is' and 'is not'.\n"
      ],
      "metadata": {
        "id": "p2wE9r2gcLi9"
      }
    },
    {
      "cell_type": "markdown",
      "source": [
        "#Operator\tDescription\tExample\n",
        "is\tReturns True, if both the Variables belongs to the same Memory location\tx is y\n",
        "\n",
        "is not\tJust the opposite of 'is' operator\tx is not y"
      ],
      "metadata": {
        "id": "1Uy-ew6OcNl0"
      }
    },
    {
      "cell_type": "code",
      "source": [
        "x = [5,2]\n",
        "y = [5,2]\n",
        "z = y\n",
        "print(x is y)\n",
        "print(y is z)\n",
        "print(O.is_(x,y))"
      ],
      "metadata": {
        "colab": {
          "base_uri": "https://localhost:8080/"
        },
        "id": "sNaCV_mBcQ3Y",
        "outputId": "dc422ec3-710b-4232-c018-1983ae73ca04"
      },
      "execution_count": 41,
      "outputs": [
        {
          "output_type": "stream",
          "name": "stdout",
          "text": [
            "False\n",
            "True\n",
            "False\n"
          ]
        }
      ]
    },
    {
      "cell_type": "code",
      "source": [
        "x = [5,2]\n",
        "y = [5,2]\n",
        "z = y\n",
        "print(x is not y)\n",
        "print(y is not z)"
      ],
      "metadata": {
        "colab": {
          "base_uri": "https://localhost:8080/"
        },
        "id": "rNMgAoZTcUMM",
        "outputId": "1ed25162-ce0c-4cdb-9666-d84095edf07a"
      },
      "execution_count": 40,
      "outputs": [
        {
          "output_type": "stream",
          "name": "stdout",
          "text": [
            "True\n",
            "False\n"
          ]
        }
      ]
    },
    {
      "cell_type": "markdown",
      "source": [
        "Python is one of the most widely used programming languages, renowned for its simplicity and powerful capabilities. One of the key features of Python is its dynamic typing system, where the data type of a variable is determined automatically based on the value it holds, unlike programming languages such as Java, C, or C++, which require explicit declaration of data types. In Python, data types are classified into two broad categories:\n",
        "\n",
        "#Mutable Data Types –\n",
        " These are data types whose values can be modified after they are created. Examples: List, Dictionary, Set\n",
        "\n",
        "#Immutable Data Types –\n",
        " These are data types whose values cannot be altered once they are set. Examples: String, Tuple"
      ],
      "metadata": {
        "id": "kZjt91zFczPz"
      }
    },
    {
      "cell_type": "code",
      "source": [
        "a=10\n",
        "print(a)\n",
        "print(id(a))\n",
        "a=a+20\n",
        "print(a)\n",
        "print(id(a))\n"
      ],
      "metadata": {
        "colab": {
          "base_uri": "https://localhost:8080/"
        },
        "id": "kcRAm2ZGdDDG",
        "outputId": "21ae647c-1bba-4dd4-9da8-8e65e4081736"
      },
      "execution_count": 42,
      "outputs": [
        {
          "output_type": "stream",
          "name": "stdout",
          "text": [
            "10\n",
            "10758024\n",
            "30\n",
            "10758664\n"
          ]
        }
      ]
    },
    {
      "cell_type": "code",
      "source": [
        "L=[10,20,30,40,50]\n",
        "print(L)\n",
        "print(id(L))\n",
        "L+=[100]\n",
        "print(L)\n",
        "print(id(L))\n",
        "L.append(500)\n",
        "\n",
        "print(L)\n",
        "print(id(L))"
      ],
      "metadata": {
        "colab": {
          "base_uri": "https://localhost:8080/"
        },
        "id": "ETBm_4cNdVxQ",
        "outputId": "8bfd9ecc-06f6-4fd8-a6e3-6e26214251d6"
      },
      "execution_count": 45,
      "outputs": [
        {
          "output_type": "stream",
          "name": "stdout",
          "text": [
            "[10, 20, 30, 40, 50]\n",
            "132022941366208\n",
            "[10, 20, 30, 40, 50, 100]\n",
            "132022941366208\n",
            "[10, 20, 30, 40, 50, 100, 500]\n",
            "132022941366208\n"
          ]
        }
      ]
    },
    {
      "cell_type": "markdown",
      "source": [
        "#Python Comments\n",
        "\n",
        "Comments can be used to explain Python code.\n",
        "\n",
        "\n",
        "Comments can be used to make the code more readable.\n",
        "\n",
        "\n",
        "Comments can be used to prevent execution when testing code."
      ],
      "metadata": {
        "id": "bt0h7B1Od76O"
      }
    },
    {
      "cell_type": "markdown",
      "source": [
        "#Creating a Comment\n",
        "Comments starts with a #, and Python will ignore them:"
      ],
      "metadata": {
        "id": "OrEaMchxeD3Y"
      }
    },
    {
      "cell_type": "code",
      "source": [
        "#This is a comment\n",
        "print(\"Hello, World!\")"
      ],
      "metadata": {
        "colab": {
          "base_uri": "https://localhost:8080/"
        },
        "id": "PfcaZI8ZeF6j",
        "outputId": "988dc254-1003-4fc7-b168-78d8d6f6ec75"
      },
      "execution_count": 46,
      "outputs": [
        {
          "output_type": "stream",
          "name": "stdout",
          "text": [
            "Hello, World!\n"
          ]
        }
      ]
    },
    {
      "cell_type": "markdown",
      "source": [
        "#Comments can be placed at the end of a line, and Python will ignore the rest of the line:"
      ],
      "metadata": {
        "id": "npHKL4sjeX1m"
      }
    },
    {
      "cell_type": "code",
      "source": [
        "print(\"Hello, World!\") #This is a comment"
      ],
      "metadata": {
        "colab": {
          "base_uri": "https://localhost:8080/"
        },
        "id": "anz2VzraekO9",
        "outputId": "a6ccb8f4-ce6b-4a37-ef32-37d9dd381a26"
      },
      "execution_count": 47,
      "outputs": [
        {
          "output_type": "stream",
          "name": "stdout",
          "text": [
            "Hello, World!\n"
          ]
        }
      ]
    },
    {
      "cell_type": "markdown",
      "source": [
        "#Multiline Comments\n",
        "Python does not really have a syntax for multiline comments.\n",
        "\n",
        "To add a multiline comment you could insert a # for each line:"
      ],
      "metadata": {
        "id": "ZK-_ZQ7dem-1"
      }
    },
    {
      "cell_type": "code",
      "source": [
        "#This is a comment\n",
        "#written in\n",
        "#more than just one line\n",
        "print(\"Hello, World!\")"
      ],
      "metadata": {
        "colab": {
          "base_uri": "https://localhost:8080/"
        },
        "id": "2tXJI4NPepYm",
        "outputId": "280c8965-48e3-423b-9cd1-540f8e3c45a7"
      },
      "execution_count": 48,
      "outputs": [
        {
          "output_type": "stream",
          "name": "stdout",
          "text": [
            "Hello, World!\n"
          ]
        }
      ]
    },
    {
      "cell_type": "code",
      "source": [
        "\"\"\"\n",
        "This is a comment\n",
        "written in\n",
        "more than just one line\n",
        "\"\"\"\n",
        "print(\"Hello, World!\")"
      ],
      "metadata": {
        "colab": {
          "base_uri": "https://localhost:8080/"
        },
        "id": "E6O__6NDergP",
        "outputId": "625d204a-856c-4290-e519-5236c7a50fdb"
      },
      "execution_count": 49,
      "outputs": [
        {
          "output_type": "stream",
          "name": "stdout",
          "text": [
            "Hello, World!\n"
          ]
        }
      ]
    },
    {
      "cell_type": "code",
      "source": [
        "'''\n",
        "This is a comment\n",
        "written in\n",
        "more than just one line\n",
        "'''\n",
        "print(\"Hello, World!\")"
      ],
      "metadata": {
        "colab": {
          "base_uri": "https://localhost:8080/"
        },
        "id": "_aKSXwyceskK",
        "outputId": "161d6e56-0d19-4e5b-b737-32a470f1f28d"
      },
      "execution_count": 50,
      "outputs": [
        {
          "output_type": "stream",
          "name": "stdout",
          "text": [
            "Hello, World!\n"
          ]
        }
      ]
    },
    {
      "cell_type": "code",
      "source": [
        "line=\"\"\"My name is harry\n",
        "working in canada\n",
        "Belongs line\"\"\"\n",
        "print(line)"
      ],
      "metadata": {
        "colab": {
          "base_uri": "https://localhost:8080/"
        },
        "id": "VPIMSnideyZ7",
        "outputId": "b5b75fea-95f2-4bb3-b801-cfb7333a55fc"
      },
      "execution_count": 54,
      "outputs": [
        {
          "output_type": "stream",
          "name": "stdout",
          "text": [
            "My name is harry\n",
            "working in canada\n",
            "Belongs line\n"
          ]
        }
      ]
    },
    {
      "cell_type": "code",
      "source": [
        "line='''My name is harry\n",
        "working in canada\n",
        "Belongs line'''\n",
        "print(line)"
      ],
      "metadata": {
        "colab": {
          "base_uri": "https://localhost:8080/"
        },
        "id": "nvYk-NfefEmA",
        "outputId": "582aec61-5e3f-4b7f-b4fb-e94d85e8ec12"
      },
      "execution_count": 56,
      "outputs": [
        {
          "output_type": "stream",
          "name": "stdout",
          "text": [
            "My name is harry\n",
            "working in canada\n",
            "Belongs line\n"
          ]
        }
      ]
    },
    {
      "cell_type": "code",
      "source": [
        "name=(\"Sharry\")\n",
        "print(type(name))"
      ],
      "metadata": {
        "colab": {
          "base_uri": "https://localhost:8080/"
        },
        "id": "P-M4WElrfLK1",
        "outputId": "917968e1-6301-402b-fef8-e1921e051df3"
      },
      "execution_count": 57,
      "outputs": [
        {
          "output_type": "stream",
          "name": "stdout",
          "text": [
            "<class 'str'>\n"
          ]
        }
      ]
    },
    {
      "cell_type": "code",
      "source": [
        "name=(\"Sharry\")\n",
        "print(name[0])\n",
        "print(name[1])\n",
        "print(name[2])\n",
        "print(name[3])\n",
        "print(name[4])\n",
        "print(name[5])"
      ],
      "metadata": {
        "colab": {
          "base_uri": "https://localhost:8080/"
        },
        "id": "wtwGsTEyfTbQ",
        "outputId": "ea046051-5afa-45cb-e578-0eefdb07a8b1"
      },
      "execution_count": 58,
      "outputs": [
        {
          "output_type": "stream",
          "name": "stdout",
          "text": [
            "S\n",
            "h\n",
            "a\n",
            "r\n",
            "r\n",
            "y\n"
          ]
        }
      ]
    },
    {
      "cell_type": "code",
      "source": [
        "name=(\"Sharry\")\n",
        "print(name[-5])\n",
        "print(name[-4])\n",
        "print(name[-3])\n",
        "print(name[-2])\n",
        "print(name[-1])\n",
        "print(name[-0])"
      ],
      "metadata": {
        "colab": {
          "base_uri": "https://localhost:8080/"
        },
        "id": "QDoY9AHBfgcY",
        "outputId": "c7ed82b1-05b0-4e8c-a80c-a825b95e3faa"
      },
      "execution_count": 59,
      "outputs": [
        {
          "output_type": "stream",
          "name": "stdout",
          "text": [
            "h\n",
            "a\n",
            "r\n",
            "r\n",
            "y\n",
            "S\n"
          ]
        }
      ]
    },
    {
      "cell_type": "code",
      "source": [
        "print(type(name[0]))\n"
      ],
      "metadata": {
        "colab": {
          "base_uri": "https://localhost:8080/"
        },
        "id": "cmY3r6Upf4S_",
        "outputId": "64910693-e02b-47fa-cbf1-2e9a148fd649"
      },
      "execution_count": 60,
      "outputs": [
        {
          "output_type": "stream",
          "name": "stdout",
          "text": [
            "<class 'str'>\n"
          ]
        }
      ]
    }
  ]
}