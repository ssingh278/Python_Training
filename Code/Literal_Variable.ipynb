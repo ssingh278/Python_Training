{
  "nbformat": 4,
  "nbformat_minor": 0,
  "metadata": {
    "colab": {
      "provenance": []
    },
    "kernelspec": {
      "name": "python3",
      "display_name": "Python 3"
    },
    "language_info": {
      "name": "python"
    }
  },
  "cells": [
    {
      "cell_type": "markdown",
      "source": [
        "#Example Literals with implict typecasting(Type Coercion)"
      ],
      "metadata": {
        "id": "SLc7pDsqQ7h3"
      }
    },
    {
      "cell_type": "markdown",
      "source": [
        "#1. Type Casting:\n",
        " In type casting, a data type is converted into another data type by the programmer using the casting operator during the program design. In type casting, the destination data type may be smaller than the source data type when converting the data type to another data type, that's why it is also called narrowing conversion.\n",
        "#2. Type conversion :\n",
        "  In type conversion, a data type is automatically converted into another data type by a compiler at the compiler time. In type conversion, the destination data type cannot be smaller than the source data type, that's why it is also called widening conversion. One more important thing is that it can only be applied to compatible data types.\n",
        "\n",
        "#Type casting,\n",
        "also known as type conversion, refers to the process of changing the data type of a variable from one type to another. In Python, type casting can be broadly categorized into two types: implicit and explicit.\n",
        "#Implicit Type Casting\n",
        "\n",
        "Implicit type casting, also known as coercion, is performed automatically by the Python interpreter. This usually occurs when performing operations between different data types. Python avoids data loss by converting \"smaller\" data types to \"larger\" ones\n",
        "\n",
        "#Explicit Type Casting\n",
        "\n",
        "Explicit type casting, also known as type casting, is performed manually by the programmer using built-in functions. This is useful when you need to convert between types that Python cannot implicitly convert. Some common type casting functions in Python include: int(): Converts to an integer, float(): Converts to a float, str(): Converts to a string, and bool(): Converts to a boolean.\n",
        "\n",
        "#Type coercion,\n",
        " also known as implicit type conversion, is the automatic conversion of a value from one data type to another by the Python interpreter. This usually happens when performing operations involving different data types."
      ],
      "metadata": {
        "id": "vljAJ0scQRUH"
      }
    },
    {
      "cell_type": "code",
      "source": [
        "name=\"Sharry\"\n",
        "rollno=1\n",
        "gender='M'\n",
        "fee=12.12\n",
        "print(name)\n",
        "print(rollno)\n",
        "print(gender)\n",
        "print(fee)\n",
        "\n",
        "print(type(name))\n",
        "print(type(rollno))\n",
        "print(type(gender))\n",
        "print(type(fee))\n",
        "\n",
        "print(id(rollno))\n",
        "print(id(name))\n",
        "print(id(gender))\n",
        "print(id(fee))"
      ],
      "metadata": {
        "colab": {
          "base_uri": "https://localhost:8080/"
        },
        "id": "0UjbGjiaLKtD",
        "outputId": "b6606e04-60ff-421f-8998-19d0cf8660ff"
      },
      "execution_count": 3,
      "outputs": [
        {
          "output_type": "stream",
          "name": "stdout",
          "text": [
            "Sharry\n",
            "1\n",
            "M\n",
            "12.12\n",
            "<class 'str'>\n",
            "<class 'int'>\n",
            "<class 'str'>\n",
            "<class 'float'>\n",
            "10757736\n",
            "133600398542448\n",
            "10802656\n",
            "133600408425328\n"
          ]
        }
      ]
    },
    {
      "cell_type": "code",
      "source": [
        "help(type)"
      ],
      "metadata": {
        "colab": {
          "base_uri": "https://localhost:8080/"
        },
        "id": "oL2JEu86RQKM",
        "outputId": "abcc60c1-572a-4b31-b7cd-252c02e48af1"
      },
      "execution_count": 4,
      "outputs": [
        {
          "output_type": "stream",
          "name": "stdout",
          "text": [
            "Help on class type in module builtins:\n",
            "\n",
            "class type(object)\n",
            " |  type(object) -> the object's type\n",
            " |  type(name, bases, dict, **kwds) -> a new type\n",
            " |  \n",
            " |  Methods defined here:\n",
            " |  \n",
            " |  __call__(self, /, *args, **kwargs)\n",
            " |      Call self as a function.\n",
            " |  \n",
            " |  __delattr__(self, name, /)\n",
            " |      Implement delattr(self, name).\n",
            " |  \n",
            " |  __dir__(self, /)\n",
            " |      Specialized __dir__ implementation for types.\n",
            " |  \n",
            " |  __getattribute__(self, name, /)\n",
            " |      Return getattr(self, name).\n",
            " |  \n",
            " |  __init__(self, /, *args, **kwargs)\n",
            " |      Initialize self.  See help(type(self)) for accurate signature.\n",
            " |  \n",
            " |  __instancecheck__(self, instance, /)\n",
            " |      Check if an object is an instance.\n",
            " |  \n",
            " |  __or__(self, value, /)\n",
            " |      Return self|value.\n",
            " |  \n",
            " |  __repr__(self, /)\n",
            " |      Return repr(self).\n",
            " |  \n",
            " |  __ror__(self, value, /)\n",
            " |      Return value|self.\n",
            " |  \n",
            " |  __setattr__(self, name, value, /)\n",
            " |      Implement setattr(self, name, value).\n",
            " |  \n",
            " |  __sizeof__(self, /)\n",
            " |      Return memory consumption of the type object.\n",
            " |  \n",
            " |  __subclasscheck__(self, subclass, /)\n",
            " |      Check if a class is a subclass.\n",
            " |  \n",
            " |  __subclasses__(self, /)\n",
            " |      Return a list of immediate subclasses.\n",
            " |  \n",
            " |  mro(self, /)\n",
            " |      Return a type's method resolution order.\n",
            " |  \n",
            " |  ----------------------------------------------------------------------\n",
            " |  Class methods defined here:\n",
            " |  \n",
            " |  __prepare__(...)\n",
            " |      __prepare__() -> dict\n",
            " |      used to create the namespace for the class statement\n",
            " |  \n",
            " |  ----------------------------------------------------------------------\n",
            " |  Static methods defined here:\n",
            " |  \n",
            " |  __new__(*args, **kwargs)\n",
            " |      Create and return a new object.  See help(type) for accurate signature.\n",
            " |  \n",
            " |  ----------------------------------------------------------------------\n",
            " |  Data descriptors defined here:\n",
            " |  \n",
            " |  __abstractmethods__\n",
            " |  \n",
            " |  __annotations__\n",
            " |  \n",
            " |  __dict__\n",
            " |  \n",
            " |  __text_signature__\n",
            " |  \n",
            " |  ----------------------------------------------------------------------\n",
            " |  Data and other attributes defined here:\n",
            " |  \n",
            " |  __base__ = <class 'object'>\n",
            " |      The base class of the class hierarchy.\n",
            " |      \n",
            " |      When called, it accepts no arguments and returns a new featureless\n",
            " |      instance that has no instance attributes and cannot be given any.\n",
            " |  \n",
            " |  \n",
            " |  __bases__ = (<class 'object'>,)\n",
            " |  \n",
            " |  __basicsize__ = 904\n",
            " |  \n",
            " |  __dictoffset__ = 264\n",
            " |  \n",
            " |  __flags__ = 2148031744\n",
            " |  \n",
            " |  __itemsize__ = 40\n",
            " |  \n",
            " |  __mro__ = (<class 'type'>, <class 'object'>)\n",
            " |  \n",
            " |  __weakrefoffset__ = 368\n",
            "\n"
          ]
        }
      ]
    },
    {
      "cell_type": "code",
      "source": [
        "help(id)"
      ],
      "metadata": {
        "colab": {
          "base_uri": "https://localhost:8080/"
        },
        "id": "0uZHonpFRqKY",
        "outputId": "1b199181-3e15-4348-ee4f-81ed81921e23"
      },
      "execution_count": 5,
      "outputs": [
        {
          "output_type": "stream",
          "name": "stdout",
          "text": [
            "Help on built-in function id in module builtins:\n",
            "\n",
            "id(obj, /)\n",
            "    Return the identity of an object.\n",
            "    \n",
            "    This is guaranteed to be unique among simultaneously existing objects.\n",
            "    (CPython uses the object's memory address.)\n",
            "\n"
          ]
        }
      ]
    },
    {
      "cell_type": "markdown",
      "source": [
        "#example variable : variable is a memory place holder for unknown values\n"
      ],
      "metadata": {
        "id": "lM_f-HG-SPDg"
      }
    },
    {
      "cell_type": "markdown",
      "source": [
        "#Variable with implicit type casting\n",
        "because input() is a function that returns string value"
      ],
      "metadata": {
        "id": "6Rhe9OXQSbi7"
      }
    },
    {
      "cell_type": "code",
      "source": [
        "name=input(\"Enter your name:\")\n",
        "rollno=input(\"Enter your rollno:\")\n",
        "gender=input(\"Enter your gender:\")\n",
        "fee=input(\"Enter your fee:\")\n",
        "\n",
        "print(name)\n",
        "print(rollno)\n",
        "print(gender)\n",
        "print(fee)\n",
        "\n",
        "print(type(name))\n",
        "print(type(rollno))\n",
        "print(type(gender))\n",
        "print(type(fee))\n",
        "\n",
        "print(id(rollno))\n",
        "print(id(name))\n",
        "print(id(gender))\n",
        "print(id(fee))"
      ],
      "metadata": {
        "colab": {
          "base_uri": "https://localhost:8080/"
        },
        "id": "kQsRf85BR1pQ",
        "outputId": "0ae54f49-6cc9-4bda-d49c-a1bb2c6fa7a5"
      },
      "execution_count": 6,
      "outputs": [
        {
          "output_type": "stream",
          "name": "stdout",
          "text": [
            "Enter your name:sharry\n",
            "Enter your rollno:1\n",
            "Enter your gender:M\n",
            "Enter your fee:123.123\n",
            "sharry\n",
            "1\n",
            "M\n",
            "123.123\n",
            "<class 'str'>\n",
            "<class 'str'>\n",
            "<class 'str'>\n",
            "<class 'str'>\n",
            "10801088\n",
            "133599218494128\n",
            "10802656\n",
            "133599218943408\n"
          ]
        }
      ]
    },
    {
      "cell_type": "markdown",
      "source": [
        "#Example variable with explicity type casting using int(), float() pre defined explicit type casting  functions\n",
        "\n"
      ],
      "metadata": {
        "id": "dYu16GyrSsey"
      }
    },
    {
      "cell_type": "code",
      "source": [
        "name=input(\"Enter your name:\")\n",
        "rollno=int(input(\"Enter your rollno:\"))\n",
        "gender=input(\"Enter your gender:\")\n",
        "fee = float(input(\"Enter your fee:\"))\n",
        "\n",
        "print(name)\n",
        "print(rollno)\n",
        "print(gender)\n",
        "print(fee)\n",
        "\n",
        "print(type(name))\n",
        "print(type(rollno))\n",
        "print(type(gender))\n",
        "print(type(fee))\n",
        "\n",
        "print(id(rollno))\n",
        "print(id(name))\n",
        "print(id(gender))\n",
        "print(id(fee))"
      ],
      "metadata": {
        "colab": {
          "base_uri": "https://localhost:8080/"
        },
        "id": "t2SMwrssS5A9",
        "outputId": "a32ef691-8151-45b8-8354-6f3c30f6b4f6"
      },
      "execution_count": 7,
      "outputs": [
        {
          "output_type": "stream",
          "name": "stdout",
          "text": [
            "Enter your name:sharry\n",
            "Enter your rollno:12\n",
            "Enter your gender:M\n",
            "Enter your fee:12.11\n",
            "sharry\n",
            "12\n",
            "M\n",
            "12.11\n",
            "<class 'str'>\n",
            "<class 'int'>\n",
            "<class 'str'>\n",
            "<class 'float'>\n",
            "10758088\n",
            "133599512417584\n",
            "10802656\n",
            "133599220960784\n"
          ]
        }
      ]
    },
    {
      "cell_type": "markdown",
      "source": [
        "#Example placeholder using datatype format characters"
      ],
      "metadata": {
        "id": "kPA2-b28TV6N"
      }
    },
    {
      "cell_type": "code",
      "source": [
        "name=input(\"Enter your name:\")\n",
        "rollno=int(input(\"Enter your rollno:\"))\n",
        "gender=input(\"Enter your gender:\")\n",
        "fee = float(input(\"Enter your fee:\"))\n",
        "\n",
        "print(\"Student Name=%s\"%name)\n",
        "print(\"Student Rollno=%d\"%rollno)\n",
        "print(\"Student Gender=%c\"%gender)\n",
        "print(\"Student Fee=%f\"%fee)"
      ],
      "metadata": {
        "colab": {
          "base_uri": "https://localhost:8080/"
        },
        "id": "lyJUDda6TcJY",
        "outputId": "6d403830-515d-4d15-8fb3-2664b1c31b18"
      },
      "execution_count": 9,
      "outputs": [
        {
          "output_type": "stream",
          "name": "stdout",
          "text": [
            "Enter your name:sharry\n",
            "Enter your rollno:12\n",
            "Enter your gender:M\n",
            "Enter your fee:23\n",
            "Student Name=sharry\n",
            "Student Rollno=12\n",
            "Student Gender=M\n",
            "Student Fee=23.000000\n"
          ]
        }
      ]
    },
    {
      "cell_type": "markdown",
      "source": [
        "#format()"
      ],
      "metadata": {
        "id": "DkLd5sAaUh5B"
      }
    },
    {
      "cell_type": "code",
      "source": [
        "name=input(\"Enter your name:\")\n",
        "rollno=int(input(\"Enter your rollno:\"))\n",
        "gender=input(\"Enter your gender:\")\n",
        "fee = float(input(\"Enter your fee:\"))\n",
        "\n",
        "print(\"Student Name={0} \\n Student Rollno={1} \\n Student Gender={2} \\n Student Fee={3}\".format(name,rollno,gender,fee))"
      ],
      "metadata": {
        "colab": {
          "base_uri": "https://localhost:8080/"
        },
        "id": "uDYA6jTHUjoL",
        "outputId": "3a78cc7e-24e1-41f4-d765-5736225e87f5"
      },
      "execution_count": 11,
      "outputs": [
        {
          "output_type": "stream",
          "name": "stdout",
          "text": [
            "Enter your name:sharry\n",
            "Enter your rollno:12\n",
            "Enter your gender:M\n",
            "Enter your fee:12.12\n",
            "Student Name=sharry \n",
            " Student Rollno=12 \n",
            " Student Gender=M \n",
            " Student Fee=12.12\n"
          ]
        }
      ]
    },
    {
      "cell_type": "markdown",
      "source": [
        "# f-strings\n",
        "are string literals that have an f before the opening quotation mark. They can include Python expressions enclosed in curly braces. Python will replace those expressions with their resulting values. So, this behavior turns f-strings into a string interpolation tool\n",
        "\n",
        "F-strings, short for \"formatted string literals,\" are a way to embed expressions inside string literals for formatting in Python. Introduced in Python 3.6, they provide a concise and readable syntax for string interpolation.\n",
        "To create an f-string, you prefix a string with f or F. Inside the string, you can include expressions within curly braces {}. These expressions are evaluated at runtime, and their values are inserted into the string."
      ],
      "metadata": {
        "id": "BFrrkRCmVMkM"
      }
    },
    {
      "cell_type": "code",
      "source": [
        "name=input(\"Enter your name:\")\n",
        "rollno=int(input(\"Enter your rollno:\"))\n",
        "gender=input(\"Enter your gender:\")\n",
        "fee = float(input(\"Enter your fee:\"))\n",
        "\n",
        "print(f\"Student Name={name} \\n Student Rollno={rollno} \\n Student Gender={gender} \\n Student Fee={fee}\")"
      ],
      "metadata": {
        "colab": {
          "base_uri": "https://localhost:8080/"
        },
        "id": "uBJ0mAWtUhES",
        "outputId": "f726f2f2-2d65-48f5-f6b5-c3c5f4eb8797"
      },
      "execution_count": 12,
      "outputs": [
        {
          "output_type": "stream",
          "name": "stdout",
          "text": [
            "Enter your name:sharr\n",
            "Enter your rollno:12\n",
            "Enter your gender:m\n",
            "Enter your fee:12.12\n",
            "Student Name=sharr \n",
            " Student Rollno=12 \n",
            " Student Gender=m \n",
            " Student Fee=12.12\n"
          ]
        }
      ]
    },
    {
      "cell_type": "markdown",
      "source": [
        "#sep parameter in print()"
      ],
      "metadata": {
        "id": "8DZV0NGFVx0_"
      }
    },
    {
      "cell_type": "code",
      "source": [
        "name=input(\"Enter your name:\")\n",
        "rollno=int(input(\"Enter your rollno:\"))\n",
        "gender=input(\"Enter your gender:\")\n",
        "fee = float(input(\"Enter your fee:\"))\n",
        "\n",
        "print(\"Student Name=\",name)\n",
        "print(\"Student Rollno=\",rollno)\n",
        "print(\"Student Gender=\",gender)\n",
        "print(\"Student Fee=\",fee)"
      ],
      "metadata": {
        "colab": {
          "base_uri": "https://localhost:8080/"
        },
        "id": "YxQ19EDzV5du",
        "outputId": "ad0bb788-2df4-4e68-ac54-739cdc993e85"
      },
      "execution_count": 13,
      "outputs": [
        {
          "output_type": "stream",
          "name": "stdout",
          "text": [
            "Enter your name:shakrarpoyu\n",
            "Enter your rollno:1\n",
            "Enter your gender:M\n",
            "Enter your fee:12.12\n",
            "Student Name= shakrarpoyu\n",
            "Student Rollno= 1\n",
            "Student Gender= M\n",
            "Student Fee= 12.12\n"
          ]
        }
      ]
    },
    {
      "cell_type": "code",
      "source": [
        "print('G','F', sep='', end='')\n",
        "print('G')\n",
        "#\\n provides new line after printing the year\n",
        "print('09','12','2016', sep='-', end='\\n')\n",
        "\n",
        "print('prtk','agarwal', sep='', end='@')\n",
        "print('canada.com')"
      ],
      "metadata": {
        "colab": {
          "base_uri": "https://localhost:8080/"
        },
        "id": "F3tld7BoWxtg",
        "outputId": "8ad85fd8-ea78-4880-a791-6a95c0decb8a"
      },
      "execution_count": 15,
      "outputs": [
        {
          "output_type": "stream",
          "name": "stdout",
          "text": [
            "GFG\n",
            "09-12-2016\n",
            "prtkagarwal@canada.com\n"
          ]
        }
      ]
    },
    {
      "cell_type": "code",
      "source": [
        "#import the below module and see what happens\n",
        "import antigravity\n",
        "#NOTE - it wont work on online ide"
      ],
      "metadata": {
        "id": "lBZ5VLAlXCTr"
      },
      "execution_count": 16,
      "outputs": []
    },
    {
      "cell_type": "code",
      "source": [
        "a=10\n",
        "b=20\n",
        "print(\"Sum of two=\",a+b)\n",
        "print(\"Sum of two=\"+str(a+b))\n"
      ],
      "metadata": {
        "colab": {
          "base_uri": "https://localhost:8080/"
        },
        "id": "-ljle3g7X8Cr",
        "outputId": "ea165e42-d1d5-4b4f-f942-a361eb03a172"
      },
      "execution_count": 18,
      "outputs": [
        {
          "output_type": "stream",
          "name": "stdout",
          "text": [
            "Sum of two= 30\n",
            "Sum of two=30\n"
          ]
        }
      ]
    },
    {
      "cell_type": "code",
      "source": [
        "ch= 'A'\n",
        "print(ord(ch))"
      ],
      "metadata": {
        "colab": {
          "base_uri": "https://localhost:8080/"
        },
        "id": "XjjYr3lzY3iK",
        "outputId": "3c6b467f-7aff-44e3-a1a9-3ee2e59c58e6"
      },
      "execution_count": 19,
      "outputs": [
        {
          "output_type": "stream",
          "name": "stdout",
          "text": [
            "65\n"
          ]
        }
      ]
    },
    {
      "cell_type": "code",
      "source": [
        "a=65\n",
        "print(chr(a))"
      ],
      "metadata": {
        "colab": {
          "base_uri": "https://localhost:8080/"
        },
        "id": "eaDtJ2y2ZM1_",
        "outputId": "80881d42-d111-4b11-bd02-cb9da45e9b06"
      },
      "execution_count": 20,
      "outputs": [
        {
          "output_type": "stream",
          "name": "stdout",
          "text": [
            "A\n"
          ]
        }
      ]
    }
  ]
}