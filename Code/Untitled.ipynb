{
 "cells": [
  {
   "cell_type": "code",
   "execution_count": 1,
   "id": "bdd99886-9e13-4874-a341-74c1f57aeb36",
   "metadata": {},
   "outputs": [],
   "source": [
    "import time\n",
    "import random\n",
    "\n",
    "def very_slow_random_generator():\n",
    "    time.sleep(5)\n",
    "    arr = [random.randint(1,100) for i in range(100000)]\n",
    "    return sum(arr) / len(arr)\n",
    "\n",
    "def slow_random_generator():\n",
    "    time.sleep(2)\n",
    "    arr = [random.randint(1,100) for i in range(100000)]\n",
    "    return sum(arr) / len(arr)\n",
    "\n",
    "def fast_random_generator():\n",
    "    time.sleep(1)\n",
    "    arr = [random.randint(1,100) for i in range(100000)]\n",
    "    return sum(arr) / len(arr)\n",
    "\n",
    "\n",
    "def main_func():\n",
    "    result = fast_random_generator()\n",
    "    print(result)\n",
    "\n",
    "    result = slow_random_generator()\n",
    "    print(result)\n",
    "\n",
    "    result = very_slow_random_generator()\n",
    "    print(result)"
   ]
  },
  {
   "cell_type": "code",
   "execution_count": 2,
   "id": "0e0b1b8f-8fae-4d8d-8374-b97dacbb02a9",
   "metadata": {},
   "outputs": [
    {
     "name": "stdout",
     "output_type": "stream",
     "text": [
      "Collecting snakeviz\n",
      "  Obtaining dependency information for snakeviz from https://files.pythonhosted.org/packages/cd/f7/83b00cdf4f114f10750a18b64c27dc34636d0ac990ccac98282f5c0fbb43/snakeviz-2.2.2-py3-none-any.whl.metadata\n",
      "  Downloading snakeviz-2.2.2-py3-none-any.whl.metadata (3.6 kB)\n",
      "Requirement already satisfied: tornado>=2.0 in c:\\users\\sshar\\appdata\\local\\programs\\python\\python311\\lib\\site-packages (from snakeviz) (6.5.1)\n",
      "Downloading snakeviz-2.2.2-py3-none-any.whl (183 kB)\n",
      "   ---------------------------------------- 0.0/183.5 kB ? eta -:--:--\n",
      "   -- ------------------------------------- 10.2/183.5 kB ? eta -:--:--\n",
      "   -- ------------------------------------- 10.2/183.5 kB ? eta -:--:--\n",
      "   ------ -------------------------------- 30.7/183.5 kB 217.9 kB/s eta 0:00:01\n",
      "   -------- ------------------------------ 41.0/183.5 kB 217.9 kB/s eta 0:00:01\n",
      "   ------------- ------------------------- 61.4/183.5 kB 297.7 kB/s eta 0:00:01\n",
      "   ----------------------- -------------- 112.6/183.5 kB 437.6 kB/s eta 0:00:01\n",
      "   -------------------------------------- 183.5/183.5 kB 651.3 kB/s eta 0:00:00\n",
      "Installing collected packages: snakeviz\n",
      "Successfully installed snakeviz-2.2.2\n",
      "Note: you may need to restart the kernel to use updated packages.\n"
     ]
    },
    {
     "name": "stderr",
     "output_type": "stream",
     "text": [
      "  WARNING: The script snakeviz.exe is installed in 'C:\\Users\\sshar\\AppData\\Local\\Programs\\Python\\Python311\\Scripts' which is not on PATH.\n",
      "  Consider adding this directory to PATH or, if you prefer to suppress this warning, use --no-warn-script-location.\n",
      "\n",
      "[notice] A new release of pip is available: 23.2.1 -> 25.1.1\n",
      "[notice] To update, run: C:\\Users\\sshar\\AppData\\Local\\Programs\\Python\\Python311\\python.exe -m pip install --upgrade pip\n"
     ]
    }
   ],
   "source": [
    "pip install snakeviz"
   ]
  },
  {
   "cell_type": "code",
   "execution_count": 3,
   "id": "3bd40162-c899-405d-b8d4-4889b9a8407c",
   "metadata": {},
   "outputs": [
    {
     "name": "stdout",
     "output_type": "stream",
     "text": [
      "50.44675\n",
      "50.59364\n",
      "50.35952\n",
      " \n",
      "*** Profile stats marshalled to file 'C:\\\\Users\\\\sshar\\\\AppData\\\\Local\\\\Temp\\\\tmp1pof6kif'.\n",
      "Embedding SnakeViz in this document...\n",
      "<function display at 0x000002720D1F7EC0>\n"
     ]
    },
    {
     "data": {
      "text/html": [
       "\n",
       "<iframe id='snakeviz-ff37a2f5-4ca4-11f0-99c8-088fc329c527' frameborder=0 seamless width='100%' height='1000'></iframe>\n",
       "<script>document.getElementById(\"snakeviz-ff37a2f5-4ca4-11f0-99c8-088fc329c527\").setAttribute(\"src\", \"http://\" + document.location.hostname + \":8080/snakeviz/C%3A%5CUsers%5Csshar%5CAppData%5CLocal%5CTemp%5Ctmp1pof6kif\")</script>\n"
      ],
      "text/plain": [
       "<IPython.core.display.HTML object>"
      ]
     },
     "metadata": {},
     "output_type": "display_data"
    }
   ],
   "source": [
    "%load_ext snakeviz\n",
    "%snakeviz main_func()"
   ]
  },
  {
   "cell_type": "code",
   "execution_count": 4,
   "id": "04cd34bf-c427-44cf-957d-ebd9e94a7e01",
   "metadata": {},
   "outputs": [],
   "source": [
    "def factorial_normal(n):\n",
    "  f=1\n",
    "  for i in range(1,n+1):\n",
    "    f=f*i\n",
    "  return f"
   ]
  },
  {
   "cell_type": "code",
   "execution_count": 5,
   "id": "5f7e62ea-e3af-406f-97e5-6665aa8d735a",
   "metadata": {},
   "outputs": [],
   "source": [
    "def factorial_recursive(n):\n",
    "  if n==0 or n==1:\n",
    "    return 1\n",
    "  else:\n",
    "    return n*factorial_recursive(n-1)"
   ]
  },
  {
   "cell_type": "code",
   "execution_count": 6,
   "id": "3cf22d74-f9b7-4f22-9d2c-df6483114514",
   "metadata": {},
   "outputs": [
    {
     "name": "stdout",
     "output_type": "stream",
     "text": [
      " \n",
      "*** Profile stats marshalled to file 'C:\\\\Users\\\\sshar\\\\AppData\\\\Local\\\\Temp\\\\tmpyg94npqs'.\n",
      "Embedding SnakeViz in this document...\n",
      "<function display at 0x000002720D1F7EC0>\n"
     ]
    },
    {
     "data": {
      "text/html": [
       "\n",
       "<iframe id='snakeviz-e9971cb2-4ca5-11f0-9419-088fc329c527' frameborder=0 seamless width='100%' height='1000'></iframe>\n",
       "<script>document.getElementById(\"snakeviz-e9971cb2-4ca5-11f0-9419-088fc329c527\").setAttribute(\"src\", \"http://\" + document.location.hostname + \":8080/snakeviz/C%3A%5CUsers%5Csshar%5CAppData%5CLocal%5CTemp%5Ctmpyg94npqs\")</script>\n"
      ],
      "text/plain": [
       "<IPython.core.display.HTML object>"
      ]
     },
     "metadata": {},
     "output_type": "display_data"
    }
   ],
   "source": [
    "%snakeviz factorial_normal(5)"
   ]
  },
  {
   "cell_type": "code",
   "execution_count": 7,
   "id": "fe69e0d6-2eaf-40a3-a00f-b35660d1ba06",
   "metadata": {},
   "outputs": [
    {
     "name": "stdout",
     "output_type": "stream",
     "text": [
      " \n",
      "*** Profile stats marshalled to file 'C:\\\\Users\\\\sshar\\\\AppData\\\\Local\\\\Temp\\\\tmpo0z93n_w'.\n",
      "Embedding SnakeViz in this document...\n",
      "<function display at 0x000002720D1F7EC0>\n"
     ]
    },
    {
     "data": {
      "text/html": [
       "\n",
       "<iframe id='snakeviz-07827e46-4ca6-11f0-bb15-088fc329c527' frameborder=0 seamless width='100%' height='1000'></iframe>\n",
       "<script>document.getElementById(\"snakeviz-07827e46-4ca6-11f0-bb15-088fc329c527\").setAttribute(\"src\", \"http://\" + document.location.hostname + \":8080/snakeviz/C%3A%5CUsers%5Csshar%5CAppData%5CLocal%5CTemp%5Ctmpo0z93n_w\")</script>\n"
      ],
      "text/plain": [
       "<IPython.core.display.HTML object>"
      ]
     },
     "metadata": {},
     "output_type": "display_data"
    }
   ],
   "source": [
    "%snakeviz factorial_recursive(5)"
   ]
  },
  {
   "cell_type": "code",
   "execution_count": 8,
   "id": "0d347b1a-556d-4a7f-bdaa-f01691928cd7",
   "metadata": {},
   "outputs": [],
   "source": [
    "def cube(n):\n",
    "    return n*n*n\n",
    "    "
   ]
  },
  {
   "cell_type": "code",
   "execution_count": 9,
   "id": "80afaeac-8821-474e-8980-c010bdb5fcbc",
   "metadata": {},
   "outputs": [],
   "source": [
    "def my_cube(n):\n",
    "    return n**3"
   ]
  },
  {
   "cell_type": "code",
   "execution_count": 10,
   "id": "59830c99-ae55-4649-a695-3210e13d2527",
   "metadata": {},
   "outputs": [
    {
     "name": "stdout",
     "output_type": "stream",
     "text": [
      " \n",
      "*** Profile stats marshalled to file 'C:\\\\Users\\\\sshar\\\\AppData\\\\Local\\\\Temp\\\\tmpq745rdsj'.\n",
      "Embedding SnakeViz in this document...\n",
      "<function display at 0x000002720D1F7EC0>\n"
     ]
    },
    {
     "data": {
      "text/html": [
       "\n",
       "<iframe id='snakeviz-8462beec-4ca7-11f0-93e3-088fc329c527' frameborder=0 seamless width='100%' height='1000'></iframe>\n",
       "<script>document.getElementById(\"snakeviz-8462beec-4ca7-11f0-93e3-088fc329c527\").setAttribute(\"src\", \"http://\" + document.location.hostname + \":8080/snakeviz/C%3A%5CUsers%5Csshar%5CAppData%5CLocal%5CTemp%5Ctmpq745rdsj\")</script>\n"
      ],
      "text/plain": [
       "<IPython.core.display.HTML object>"
      ]
     },
     "metadata": {},
     "output_type": "display_data"
    }
   ],
   "source": [
    "%snakeviz cube(3)"
   ]
  },
  {
   "cell_type": "code",
   "execution_count": 11,
   "id": "1f643b32-afe7-4c11-b5a9-b8ae6f1b5f91",
   "metadata": {},
   "outputs": [
    {
     "name": "stdout",
     "output_type": "stream",
     "text": [
      " \n",
      "*** Profile stats marshalled to file 'C:\\\\Users\\\\sshar\\\\AppData\\\\Local\\\\Temp\\\\tmpbogw905d'.\n",
      "Embedding SnakeViz in this document...\n",
      "<function display at 0x000002720D1F7EC0>\n"
     ]
    },
    {
     "data": {
      "text/html": [
       "\n",
       "<iframe id='snakeviz-9170ab83-4ca7-11f0-b097-088fc329c527' frameborder=0 seamless width='100%' height='1000'></iframe>\n",
       "<script>document.getElementById(\"snakeviz-9170ab83-4ca7-11f0-b097-088fc329c527\").setAttribute(\"src\", \"http://\" + document.location.hostname + \":8080/snakeviz/C%3A%5CUsers%5Csshar%5CAppData%5CLocal%5CTemp%5Ctmpbogw905d\")</script>\n"
      ],
      "text/plain": [
       "<IPython.core.display.HTML object>"
      ]
     },
     "metadata": {},
     "output_type": "display_data"
    }
   ],
   "source": [
    "%snakeviz my_cube(3)"
   ]
  },
  {
   "cell_type": "code",
   "execution_count": null,
   "id": "25ba3de0-8fd1-4509-b3f4-a8d265e1ee72",
   "metadata": {},
   "outputs": [],
   "source": [
    "1. n*n*n uses Cpython (multiple interpreted operation) and n***3 use pow function which is operator lib function\n",
    "2. In python all variable are reference only (use pointer only)\n",
    "3. n is reference to an integer object in memory\n",
    "4. so everytime we use n, we are internaly using a pointer to tge value\n",
    "5. every time a new interger object is allocate when we access n\n",
    "6.\n",
    "Python variables are reference only"
   ]
  },
  {
   "cell_type": "code",
   "execution_count": 13,
   "id": "f49736c8-53c0-434c-a9c2-8d90d53c6eb3",
   "metadata": {},
   "outputs": [
    {
     "name": "stderr",
     "output_type": "stream",
     "text": [
      "'scalene' is not recognized as an internal or external command,\n",
      "operable program or batch file.\n"
     ]
    }
   ],
   "source": [
    "!scalene profiling_examples/scalene_ex1.py"
   ]
  },
  {
   "cell_type": "code",
   "execution_count": 14,
   "id": "ee1e1e5c-f625-4a57-af4f-6f334eba5358",
   "metadata": {},
   "outputs": [
    {
     "name": "stdout",
     "output_type": "stream",
     "text": [
      "Collecting scalene\n",
      "  Downloading scalene-1.5.51.tar.gz (9.2 MB)\n",
      "     ---------------------------------------- 0.0/9.2 MB ? eta -:--:--\n",
      "     ---------------------------------------- 0.0/9.2 MB ? eta -:--:--\n",
      "     ---------------------------------------- 0.0/9.2 MB ? eta -:--:--\n",
      "     ---------------------------------------- 0.0/9.2 MB ? eta -:--:--\n",
      "     ---------------------------------------- 0.0/9.2 MB 325.1 kB/s eta 0:00:29\n",
      "     ---------------------------------------- 0.0/9.2 MB 245.8 kB/s eta 0:00:38\n",
      "     ---------------------------------------- 0.1/9.2 MB 381.3 kB/s eta 0:00:24\n",
      "      --------------------------------------- 0.1/9.2 MB 566.5 kB/s eta 0:00:16\n",
      "      --------------------------------------- 0.2/9.2 MB 689.9 kB/s eta 0:00:13\n",
      "     - -------------------------------------- 0.3/9.2 MB 809.2 kB/s eta 0:00:11\n",
      "     - -------------------------------------- 0.4/9.2 MB 1.0 MB/s eta 0:00:09\n",
      "     -- ------------------------------------- 0.6/9.2 MB 1.3 MB/s eta 0:00:07\n",
      "     --- ------------------------------------ 0.8/9.2 MB 1.7 MB/s eta 0:00:05\n",
      "     ----- ---------------------------------- 1.2/9.2 MB 2.3 MB/s eta 0:00:04\n",
      "     ------ --------------------------------- 1.5/9.2 MB 2.5 MB/s eta 0:00:04\n",
      "     -------- ------------------------------- 1.9/9.2 MB 3.0 MB/s eta 0:00:03\n",
      "     --------- ------------------------------ 2.1/9.2 MB 3.2 MB/s eta 0:00:03\n",
      "     ---------- ----------------------------- 2.5/9.2 MB 3.5 MB/s eta 0:00:02\n",
      "     ------------ --------------------------- 2.9/9.2 MB 3.8 MB/s eta 0:00:02\n",
      "     ------------- -------------------------- 3.1/9.2 MB 3.9 MB/s eta 0:00:02\n",
      "     ------------- -------------------------- 3.1/9.2 MB 3.9 MB/s eta 0:00:02\n",
      "     ------------- -------------------------- 3.1/9.2 MB 3.9 MB/s eta 0:00:02\n",
      "     ------------- -------------------------- 3.1/9.2 MB 3.9 MB/s eta 0:00:02\n",
      "     --------------- ------------------------ 3.5/9.2 MB 3.6 MB/s eta 0:00:02\n",
      "     ---------------- ----------------------- 3.9/9.2 MB 3.8 MB/s eta 0:00:02\n",
      "     ------------------ --------------------- 4.2/9.2 MB 3.9 MB/s eta 0:00:02\n",
      "     ------------------ --------------------- 4.4/9.2 MB 3.9 MB/s eta 0:00:02\n",
      "     -------------------- ------------------- 4.8/9.2 MB 4.0 MB/s eta 0:00:02\n",
      "     ---------------------- ----------------- 5.2/9.2 MB 4.2 MB/s eta 0:00:01\n",
      "     ---------------------- ----------------- 5.2/9.2 MB 4.3 MB/s eta 0:00:01\n",
      "     ---------------------- ----------------- 5.2/9.2 MB 4.3 MB/s eta 0:00:01\n",
      "     ---------------------- ----------------- 5.2/9.2 MB 4.3 MB/s eta 0:00:01\n",
      "     ---------------------- ----------------- 5.2/9.2 MB 4.3 MB/s eta 0:00:01\n",
      "     ----------------------- ---------------- 5.4/9.2 MB 3.7 MB/s eta 0:00:02\n",
      "     ------------------------ --------------- 5.7/9.2 MB 3.8 MB/s eta 0:00:01\n",
      "     -------------------------- ------------- 6.0/9.2 MB 3.9 MB/s eta 0:00:01\n",
      "     --------------------------- ------------ 6.3/9.2 MB 4.0 MB/s eta 0:00:01\n",
      "     --------------------------- ------------ 6.3/9.2 MB 4.0 MB/s eta 0:00:01\n",
      "     --------------------------- ------------ 6.3/9.2 MB 4.0 MB/s eta 0:00:01\n",
      "     --------------------------- ------------ 6.3/9.2 MB 4.0 MB/s eta 0:00:01\n",
      "     --------------------------- ------------ 6.3/9.2 MB 4.0 MB/s eta 0:00:01\n",
      "     --------------------------- ------------ 6.3/9.2 MB 4.0 MB/s eta 0:00:01\n",
      "     ---------------------------- ----------- 6.5/9.2 MB 3.5 MB/s eta 0:00:01\n",
      "     ------------------------------ --------- 6.9/9.2 MB 3.6 MB/s eta 0:00:01\n",
      "     ------------------------------- -------- 7.3/9.2 MB 3.7 MB/s eta 0:00:01\n",
      "     -------------------------------- ------- 7.4/9.2 MB 3.7 MB/s eta 0:00:01\n",
      "     ---------------------------------- ----- 7.9/9.2 MB 3.8 MB/s eta 0:00:01\n",
      "     ------------------------------------ --- 8.3/9.2 MB 3.9 MB/s eta 0:00:01\n",
      "     ------------------------------------ --- 8.4/9.2 MB 4.0 MB/s eta 0:00:01\n",
      "     ------------------------------------ --- 8.4/9.2 MB 3.8 MB/s eta 0:00:01\n",
      "     ------------------------------------- -- 8.7/9.2 MB 3.9 MB/s eta 0:00:01\n",
      "     ---------------------------------------  9.0/9.2 MB 4.0 MB/s eta 0:00:01\n",
      "     ---------------------------------------- 9.2/9.2 MB 3.9 MB/s eta 0:00:00\n",
      "  Installing build dependencies: started\n",
      "  Installing build dependencies: finished with status 'done'\n",
      "  Getting requirements to build wheel: started\n",
      "  Getting requirements to build wheel: finished with status 'done'\n",
      "  Preparing metadata (pyproject.toml): started\n",
      "  Preparing metadata (pyproject.toml): finished with status 'done'\n",
      "Collecting wheel>=0.36.1 (from scalene)\n",
      "  Obtaining dependency information for wheel>=0.36.1 from https://files.pythonhosted.org/packages/0b/2c/87f3254fd8ffd29e4c02732eee68a83a1d3c346ae39bc6822dcbcb697f2b/wheel-0.45.1-py3-none-any.whl.metadata\n",
      "  Using cached wheel-0.45.1-py3-none-any.whl.metadata (2.3 kB)\n",
      "Collecting rich>=10.7.0 (from scalene)\n",
      "  Obtaining dependency information for rich>=10.7.0 from https://files.pythonhosted.org/packages/0d/9b/63f4c7ebc259242c89b3acafdb37b41d1185c07ff0011164674e9076b491/rich-14.0.0-py3-none-any.whl.metadata\n",
      "  Downloading rich-14.0.0-py3-none-any.whl.metadata (18 kB)\n",
      "Collecting cloudpickle>=2.2.1 (from scalene)\n",
      "  Obtaining dependency information for cloudpickle>=2.2.1 from https://files.pythonhosted.org/packages/7e/e8/64c37fadfc2816a7701fa8a6ed8d87327c7d54eacfbfb6edab14a2f2be75/cloudpickle-3.1.1-py3-none-any.whl.metadata\n",
      "  Downloading cloudpickle-3.1.1-py3-none-any.whl.metadata (7.1 kB)\n",
      "Collecting nvidia-ml-py>=12.555.43 (from scalene)\n",
      "  Obtaining dependency information for nvidia-ml-py>=12.555.43 from https://files.pythonhosted.org/packages/db/24/552ebea28f0570b9e65e62b50287a273804c9f997cc1c2dcd4e2d64b9e7d/nvidia_ml_py-12.575.51-py3-none-any.whl.metadata\n",
      "  Downloading nvidia_ml_py-12.575.51-py3-none-any.whl.metadata (9.3 kB)\n",
      "Requirement already satisfied: Jinja2>=3.0.3 in c:\\users\\sshar\\appdata\\local\\programs\\python\\python311\\lib\\site-packages (from scalene) (3.1.6)\n",
      "Requirement already satisfied: psutil>=5.9.2 in c:\\users\\sshar\\appdata\\local\\programs\\python\\python311\\lib\\site-packages (from scalene) (7.0.0)\n",
      "Requirement already satisfied: numpy!=1.27,>=1.24.0 in c:\\users\\sshar\\appdata\\local\\programs\\python\\python311\\lib\\site-packages (from scalene) (2.3.0)\n",
      "Collecting pydantic>=2.6 (from scalene)\n",
      "  Obtaining dependency information for pydantic>=2.6 from https://files.pythonhosted.org/packages/6a/c0/ec2b1c8712ca690e5d61979dee872603e92b8a32f94cc1b72d53beab008a/pydantic-2.11.7-py3-none-any.whl.metadata\n",
      "  Downloading pydantic-2.11.7-py3-none-any.whl.metadata (67 kB)\n",
      "     ---------------------------------------- 0.0/68.0 kB ? eta -:--:--\n",
      "     ---------------------------------------- 68.0/68.0 kB ? eta 0:00:00\n",
      "Requirement already satisfied: MarkupSafe>=2.0 in c:\\users\\sshar\\appdata\\local\\programs\\python\\python311\\lib\\site-packages (from Jinja2>=3.0.3->scalene) (3.0.2)\n",
      "Collecting annotated-types>=0.6.0 (from pydantic>=2.6->scalene)\n",
      "  Obtaining dependency information for annotated-types>=0.6.0 from https://files.pythonhosted.org/packages/78/b6/6307fbef88d9b5ee7421e68d78a9f162e0da4900bc5f5793f6d3d0e34fb8/annotated_types-0.7.0-py3-none-any.whl.metadata\n",
      "  Downloading annotated_types-0.7.0-py3-none-any.whl.metadata (15 kB)\n",
      "Collecting pydantic-core==2.33.2 (from pydantic>=2.6->scalene)\n",
      "  Obtaining dependency information for pydantic-core==2.33.2 from https://files.pythonhosted.org/packages/fe/1b/25b7cccd4519c0b23c2dd636ad39d381abf113085ce4f7bec2b0dc755eb1/pydantic_core-2.33.2-cp311-cp311-win_amd64.whl.metadata\n",
      "  Downloading pydantic_core-2.33.2-cp311-cp311-win_amd64.whl.metadata (6.9 kB)\n",
      "Requirement already satisfied: typing-extensions>=4.12.2 in c:\\users\\sshar\\appdata\\local\\programs\\python\\python311\\lib\\site-packages (from pydantic>=2.6->scalene) (4.14.0)\n",
      "Collecting typing-inspection>=0.4.0 (from pydantic>=2.6->scalene)\n",
      "  Obtaining dependency information for typing-inspection>=0.4.0 from https://files.pythonhosted.org/packages/17/69/cd203477f944c353c31bade965f880aa1061fd6bf05ded0726ca845b6ff7/typing_inspection-0.4.1-py3-none-any.whl.metadata\n",
      "  Downloading typing_inspection-0.4.1-py3-none-any.whl.metadata (2.6 kB)\n",
      "Collecting markdown-it-py>=2.2.0 (from rich>=10.7.0->scalene)\n",
      "  Obtaining dependency information for markdown-it-py>=2.2.0 from https://files.pythonhosted.org/packages/42/d7/1ec15b46af6af88f19b8e5ffea08fa375d433c998b8a7639e76935c14f1f/markdown_it_py-3.0.0-py3-none-any.whl.metadata\n",
      "  Downloading markdown_it_py-3.0.0-py3-none-any.whl.metadata (6.9 kB)\n",
      "Requirement already satisfied: pygments<3.0.0,>=2.13.0 in c:\\users\\sshar\\appdata\\local\\programs\\python\\python311\\lib\\site-packages (from rich>=10.7.0->scalene) (2.19.1)\n",
      "Collecting mdurl~=0.1 (from markdown-it-py>=2.2.0->rich>=10.7.0->scalene)\n",
      "  Obtaining dependency information for mdurl~=0.1 from https://files.pythonhosted.org/packages/b3/38/89ba8ad64ae25be8de66a6d463314cf1eb366222074cfda9ee839c56a4b4/mdurl-0.1.2-py3-none-any.whl.metadata\n",
      "  Downloading mdurl-0.1.2-py3-none-any.whl.metadata (1.6 kB)\n",
      "Downloading cloudpickle-3.1.1-py3-none-any.whl (20 kB)\n",
      "Downloading nvidia_ml_py-12.575.51-py3-none-any.whl (47 kB)\n",
      "   ---------------------------------------- 0.0/47.5 kB ? eta -:--:--\n",
      "   ---------------------------------------- 47.5/47.5 kB ? eta 0:00:00\n",
      "Downloading pydantic-2.11.7-py3-none-any.whl (444 kB)\n",
      "   ---------------------------------------- 0.0/444.8 kB ? eta -:--:--\n",
      "   ---------------------------------------  440.3/444.8 kB 6.9 MB/s eta 0:00:01\n",
      "   ---------------------------------------- 444.8/444.8 kB 7.0 MB/s eta 0:00:00\n",
      "Downloading pydantic_core-2.33.2-cp311-cp311-win_amd64.whl (2.0 MB)\n",
      "   ---------------------------------------- 0.0/2.0 MB ? eta -:--:--\n",
      "   ---------- ----------------------------- 0.5/2.0 MB 15.9 MB/s eta 0:00:01\n",
      "   --------------- ------------------------ 0.8/2.0 MB 9.8 MB/s eta 0:00:01\n",
      "   ------------------------ --------------- 1.2/2.0 MB 9.4 MB/s eta 0:00:01\n",
      "   ------------------------------- -------- 1.5/2.0 MB 8.9 MB/s eta 0:00:01\n",
      "   ---------------------------------------  1.9/2.0 MB 8.9 MB/s eta 0:00:01\n",
      "   ---------------------------------------- 2.0/2.0 MB 8.3 MB/s eta 0:00:00\n",
      "Downloading rich-14.0.0-py3-none-any.whl (243 kB)\n",
      "   ---------------------------------------- 0.0/243.2 kB ? eta -:--:--\n",
      "   ---------------------------------------- 243.2/243.2 kB 5.0 MB/s eta 0:00:00\n",
      "Using cached wheel-0.45.1-py3-none-any.whl (72 kB)\n",
      "Downloading annotated_types-0.7.0-py3-none-any.whl (13 kB)\n",
      "Downloading markdown_it_py-3.0.0-py3-none-any.whl (87 kB)\n",
      "   ---------------------------------------- 0.0/87.5 kB ? eta -:--:--\n",
      "   ---------------------------------------- 87.5/87.5 kB ? eta 0:00:00\n",
      "Downloading typing_inspection-0.4.1-py3-none-any.whl (14 kB)\n",
      "Downloading mdurl-0.1.2-py3-none-any.whl (10.0 kB)\n",
      "Building wheels for collected packages: scalene\n",
      "  Building wheel for scalene (pyproject.toml): started\n",
      "  Building wheel for scalene (pyproject.toml): finished with status 'done'\n",
      "  Created wheel for scalene: filename=scalene-1.5.51-cp311-cp311-win_amd64.whl size=861103 sha256=53f8bf51270445724894b4a48ba97e8c130a437784b664bab5cdc67e5d7afa67\n",
      "  Stored in directory: c:\\users\\sshar\\appdata\\local\\pip\\cache\\wheels\\ef\\7e\\97\\6c3d35270559589da2261c6bc9e0de7a51915fc98900eb2f5a\n",
      "Successfully built scalene\n",
      "Installing collected packages: nvidia-ml-py, wheel, typing-inspection, pydantic-core, mdurl, cloudpickle, annotated-types, pydantic, markdown-it-py, rich, scalene\n",
      "Successfully installed annotated-types-0.7.0 cloudpickle-3.1.1 markdown-it-py-3.0.0 mdurl-0.1.2 nvidia-ml-py-12.575.51 pydantic-2.11.7 pydantic-core-2.33.2 rich-14.0.0 scalene-1.5.51 typing-inspection-0.4.1 wheel-0.45.1\n",
      "Note: you may need to restart the kernel to use updated packages.\n"
     ]
    },
    {
     "name": "stderr",
     "output_type": "stream",
     "text": [
      "  WARNING: The script wheel.exe is installed in 'C:\\Users\\sshar\\AppData\\Local\\Programs\\Python\\Python311\\Scripts' which is not on PATH.\n",
      "  Consider adding this directory to PATH or, if you prefer to suppress this warning, use --no-warn-script-location.\n",
      "  WARNING: The script markdown-it.exe is installed in 'C:\\Users\\sshar\\AppData\\Local\\Programs\\Python\\Python311\\Scripts' which is not on PATH.\n",
      "  Consider adding this directory to PATH or, if you prefer to suppress this warning, use --no-warn-script-location.\n",
      "  WARNING: The script scalene.exe is installed in 'C:\\Users\\sshar\\AppData\\Local\\Programs\\Python\\Python311\\Scripts' which is not on PATH.\n",
      "  Consider adding this directory to PATH or, if you prefer to suppress this warning, use --no-warn-script-location.\n",
      "\n",
      "[notice] A new release of pip is available: 23.2.1 -> 25.1.1\n",
      "[notice] To update, run: C:\\Users\\sshar\\AppData\\Local\\Programs\\Python\\Python311\\python.exe -m pip install --upgrade pip\n"
     ]
    }
   ],
   "source": [
    "pip install scalene"
   ]
  },
  {
   "cell_type": "code",
   "execution_count": null,
   "id": "795b021f-502f-4620-99fe-91603c94ef04",
   "metadata": {},
   "outputs": [],
   "source": []
  }
 ],
 "metadata": {
  "kernelspec": {
   "display_name": "Python 3 (ipykernel)",
   "language": "python",
   "name": "python3"
  },
  "language_info": {
   "codemirror_mode": {
    "name": "ipython",
    "version": 3
   },
   "file_extension": ".py",
   "mimetype": "text/x-python",
   "name": "python",
   "nbconvert_exporter": "python",
   "pygments_lexer": "ipython3",
   "version": "3.11.5"
  }
 },
 "nbformat": 4,
 "nbformat_minor": 5
}
