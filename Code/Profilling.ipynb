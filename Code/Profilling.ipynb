{
  "nbformat": 4,
  "nbformat_minor": 0,
  "metadata": {
    "colab": {
      "provenance": []
    },
    "kernelspec": {
      "name": "python3",
      "display_name": "Python 3"
    },
    "language_info": {
      "name": "python"
    }
  },
  "cells": [
    {
      "cell_type": "markdown",
      "source": [
        "With the rise in the primary memory of computer systems, we generally do not run out of memory. This is the reason we do not monitor primary memory usage.\n",
        "\n",
        "But with the rise in data over time, it can happen that we might still run out of memory. To avoid those kinds of scenarios, we need to monitor which part of the code is using how much memory so that we can avoid such problems from happening again in the future."
      ],
      "metadata": {
        "id": "Kpr-dtFufB6V"
      }
    },
    {
      "cell_type": "markdown",
      "source": [
        "#What is Memory Profiling?\n",
        "\n",
        "The process of analyzing memory usage by different parts of code is referred to as memory profiling. It is one kind of profiling where we measure space complexity (memory consumption) of a program/process. Another one is time profiling where we measure time complexity.\n",
        "\n",
        "Nowadays, Python has been the go-to language for data scientists worldwide for analysis of big datasets. It does provide various libraries to perform profiling.\n",
        "\n",
        "#memory profiling:\n",
        " memory_profiler, memprof, guppy/hpy, tracemalloc, Scalene, Pympler etc.\n",
        "time profiling: cProfile, profile, line_profiler, Scalene, yappi, pprofile, Snakeviz, Pyinstrument, py-spy, etc."
      ],
      "metadata": {
        "id": "1a3W_bKPiW9Y"
      }
    },
    {
      "cell_type": "markdown",
      "source": [
        "#Why optimize?\n",
        "However… once code is working, you do want it to be efficient!\n",
        "• want a balance between usability/cleanness and speed/\n",
        "memory efficiency\n",
        "\n",
        "• These are not always both achievable, so err on the side of\n",
        "usability"
      ],
      "metadata": {
        "id": "WftbBowwizR0"
      }
    },
    {
      "cell_type": "markdown",
      "source": [
        "#Steps to optimization\n",
        "\n",
        "1) Make sure code works correctly first • DO NOT optimize code you are writing or debugging!\n",
        "\n",
        "2) Identify use cases for optimization:\n",
        "\n",
        "• how often is the code called? Is it useful to optimize it?\n",
        "\n",
        "• If it is not called often and finishes with reasonable time/memory,\n",
        "stop!"
      ],
      "metadata": {
        "id": "dOW-jh3Xi79W"
      }
    },
    {
      "cell_type": "markdown",
      "source": [
        "3) Profile the code to identify bottlenecks in a more scientific way\n",
        "• Profile time spent in each function, line, etc• Profile memory use\n",
        "\n",
        "4) try to re-write as little as possible to achieve improvement\n",
        "\n",
        "5) refactor if it is still problematic"
      ],
      "metadata": {
        "id": "1894dTCTjHvc"
      }
    },
    {
      "cell_type": "markdown",
      "source": [
        "#What is Profiling in Computer Science?\n",
        "\n",
        "Profiling of code is a process where you find out which particular part of the code is taking how much time. This can be useful when optimizing code that is taking more time than expected.\n",
        "\n",
        "The profiling can be of time (time complexity) or even it can be of memory (space complexity) as well sometimes. There are profilers that let us know memory usage at each statement of code."
      ],
      "metadata": {
        "id": "w87GxR-Jh7H7"
      }
    },
    {
      "cell_type": "markdown",
      "source": [
        "What Are Some Useful Python Time Profilers?\n",
        "\n",
        "Python distribution provides two profilers for measuring execution time of various functions.\n",
        "\n",
        "#cProfile -\n",
        " It's an extension of C hence adds reasonably low overhead to actual code when performing profiling.\n",
        "\n",
        "#profile -\n",
        " It’s totally written in python hence adding a reasonable amount of overhead to actual code when performing profiling.\n",
        "Both profilers let us measure execution time of various Python functions present in our code/script/program.\n",
        "\n",
        "Apart from these two, there are many other Python time profilers (line_profiler, py-spy, pyinstrument, yappi, pprofile, Scalene, Snakeviz, etc) that needs to be installed separately using 'pip' or 'conda'."
      ],
      "metadata": {
        "id": "DEkaN_Xvjl24"
      }
    },
    {
      "cell_type": "markdown",
      "source": [
        "#What Are Different Ways of Performing Profiling?\n",
        "\n",
        "There are two ways of profiling code:\n",
        "\n",
        "#Deterministic Profiling:\n",
        "\n",
        "Both of the above-mentioned profilers provide deterministic profiling of python code. The deterministic profiling monitors each statement, function call, exceptions, etc.\n",
        "\n",
        "#Statistical Profiling:\n",
        " The other profiling technique is called statistical profiling technique which randomly samples instruction being executed and records time to determine where more time is being spent.\n",
        "As statistical profiling does not monitor each statement, function calls, etc, and randomly samples which part to monitor, it adds less overhead to profiling."
      ],
      "metadata": {
        "id": "nTgU0SoEj8Zs"
      }
    },
    {
      "cell_type": "code",
      "source": [
        "# if you're using colab, then install the required modules\n",
        "import sys\n",
        "\n",
        "IN_COLAB = \"google.colab\" in sys.modules\n",
        "if IN_COLAB:\n",
        "    %pip install --quiet line_profiler snakeviz pyinstrument eliot eliot-tree"
      ],
      "metadata": {
        "colab": {
          "base_uri": "https://localhost:8080/"
        },
        "id": "Mhuli8mdkTpC",
        "outputId": "53f9f7ac-e35c-4f1b-96b1-d1bb1ac13c76"
      },
      "execution_count": 1,
      "outputs": [
        {
          "output_type": "stream",
          "name": "stdout",
          "text": [
            "\u001b[2K     \u001b[90m━━━━━━━━━━━━━━━━━━━━━━━━━━━━━━━━━━━━━━━━\u001b[0m \u001b[32m44.4/44.4 kB\u001b[0m \u001b[31m1.6 MB/s\u001b[0m eta \u001b[36m0:00:00\u001b[0m\n",
            "\u001b[2K   \u001b[90m━━━━━━━━━━━━━━━━━━━━━━━━━━━━━━━━━━━━━━━━\u001b[0m \u001b[32m750.2/750.2 kB\u001b[0m \u001b[31m27.6 MB/s\u001b[0m eta \u001b[36m0:00:00\u001b[0m\n",
            "\u001b[2K   \u001b[90m━━━━━━━━━━━━━━━━━━━━━━━━━━━━━━━━━━━━━━━━\u001b[0m \u001b[32m183.5/183.5 kB\u001b[0m \u001b[31m12.1 MB/s\u001b[0m eta \u001b[36m0:00:00\u001b[0m\n",
            "\u001b[2K   \u001b[90m━━━━━━━━━━━━━━━━━━━━━━━━━━━━━━━━━━━━━━━━\u001b[0m \u001b[32m144.1/144.1 kB\u001b[0m \u001b[31m11.0 MB/s\u001b[0m eta \u001b[36m0:00:00\u001b[0m\n",
            "\u001b[2K   \u001b[90m━━━━━━━━━━━━━━━━━━━━━━━━━━━━━━━━━━━━━━━━\u001b[0m \u001b[32m113.7/113.7 kB\u001b[0m \u001b[31m9.4 MB/s\u001b[0m eta \u001b[36m0:00:00\u001b[0m\n",
            "\u001b[2K   \u001b[90m━━━━━━━━━━━━━━━━━━━━━━━━━━━━━━━━━━━━━━━━\u001b[0m \u001b[32m40.2/40.2 kB\u001b[0m \u001b[31m3.1 MB/s\u001b[0m eta \u001b[36m0:00:00\u001b[0m\n",
            "\u001b[2K   \u001b[90m━━━━━━━━━━━━━━━━━━━━━━━━━━━━━━━━━━━━━━━━\u001b[0m \u001b[32m194.2/194.2 kB\u001b[0m \u001b[31m14.6 MB/s\u001b[0m eta \u001b[36m0:00:00\u001b[0m\n",
            "\u001b[2K   \u001b[90m━━━━━━━━━━━━━━━━━━━━━━━━━━━━━━━━━━━━━━━━\u001b[0m \u001b[32m120.0/120.0 kB\u001b[0m \u001b[31m8.6 MB/s\u001b[0m eta \u001b[36m0:00:00\u001b[0m\n",
            "\u001b[2K   \u001b[90m━━━━━━━━━━━━━━━━━━━━━━━━━━━━━━━━━━━━━━━━\u001b[0m \u001b[32m259.8/259.8 kB\u001b[0m \u001b[31m17.4 MB/s\u001b[0m eta \u001b[36m0:00:00\u001b[0m\n",
            "\u001b[?25h"
          ]
        }
      ]
    },
    {
      "cell_type": "markdown",
      "source": [
        "#Profiling analyses your code in terms of speed or memory.\n",
        "\n",
        "This helps identify where the bottlenecks are (why and where is it slow?) and how much potential there is for improvement."
      ],
      "metadata": {
        "id": "pDrrh3xpkjg-"
      }
    },
    {
      "cell_type": "markdown",
      "source": [
        "#timeit\n",
        "\n",
        "An IPython magic command that measures the time execution of an expression.\n",
        "\n",
        "It runs a few times, depending on how intensive the expression is, and returns the average time with a standard deviation. It is useful for benchmarking small code snippets.\n",
        "\n",
        "`timeit` is different to `time`, which is a less optimised alternative.  We recommend the use of `timeit`.  "
      ],
      "metadata": {
        "id": "B5SfYERukqOX"
      }
    },
    {
      "cell_type": "code",
      "source": [
        "%timeit range(100)"
      ],
      "metadata": {
        "colab": {
          "base_uri": "https://localhost:8080/"
        },
        "id": "Qfz1TdPIkeTu",
        "outputId": "39c021fd-cf9f-4bab-e548-745c8548697e"
      },
      "execution_count": 2,
      "outputs": [
        {
          "output_type": "stream",
          "name": "stdout",
          "text": [
            "141 ns ± 56.9 ns per loop (mean ± std. dev. of 7 runs, 10000000 loops each)\n"
          ]
        }
      ]
    },
    {
      "cell_type": "code",
      "source": [
        "%%timeit\n",
        "for x in range(100):\n",
        "    pass"
      ],
      "metadata": {
        "colab": {
          "base_uri": "https://localhost:8080/"
        },
        "id": "e2qV6BBKk1N-",
        "outputId": "5ded0983-4ebe-4740-a602-ebf8adf4f658"
      },
      "execution_count": 3,
      "outputs": [
        {
          "output_type": "stream",
          "name": "stdout",
          "text": [
            "1.64 µs ± 415 ns per loop (mean ± std. dev. of 7 runs, 1000000 loops each)\n"
          ]
        }
      ]
    },
    {
      "cell_type": "markdown",
      "source": [
        "#line_profiler\n",
        "\n",
        "This is module that measures the time spent in each line of a function. A simple example:"
      ],
      "metadata": {
        "id": "qIKnvLkOk8pm"
      }
    },
    {
      "cell_type": "code",
      "source": [
        "%load_ext line_profiler"
      ],
      "metadata": {
        "id": "FIB8scN8lALk"
      },
      "execution_count": 4,
      "outputs": []
    },
    {
      "cell_type": "code",
      "source": [
        "import time\n",
        "\n",
        "\n",
        "def relax():\n",
        "    pass\n",
        "\n",
        "\n",
        "def bottleneck():\n",
        "    time.sleep(0.001)\n",
        "\n",
        "\n",
        "def some_function():\n",
        "    nums = [num for num in range(1_000)]\n",
        "    bigger_nums = [num**2 for num in nums]\n",
        "    bottleneck()\n",
        "    bigger_nums.extend(bigger_nums)\n",
        "    relax()"
      ],
      "metadata": {
        "id": "tGSryF8zlDSZ"
      },
      "execution_count": 5,
      "outputs": []
    },
    {
      "cell_type": "markdown",
      "source": [
        "#The Timer unit is the conversion to seconds.\n",
        "\n",
        "The table shows the following columns for each line of the function (each row):\n",
        "\n",
        "Line #: The line number.\n",
        "\n",
        "Hits: The number of times that line was called.\n",
        "\n",
        "Time: The total time spent calling that line (in the Timer units).\n",
        "\n",
        "Per Hit: The time spent for one call of that line.\n",
        "\n",
        "% Time: The percentage of total time spent on that line (this is the often the most useful column).\n",
        "\n",
        "Line Contents: The source code for that line.\n"
      ],
      "metadata": {
        "id": "FW0_8tAplIc3"
      }
    },
    {
      "cell_type": "code",
      "source": [
        "%lprun -f some_function some_function()"
      ],
      "metadata": {
        "id": "Y3rkz93NlMGM"
      },
      "execution_count": 6,
      "outputs": []
    },
    {
      "cell_type": "markdown",
      "source": [
        "#pyinstrument\n",
        "A statistical profiler of wall-clock time (recording the call stack every 1ms), lowering the overhead compared to tracing profilers (like cProfile).\n",
        "\n",
        "It hides library frames and fast functions, so you can focus on the slow parts of your code.\n",
        "\n",
        "The output shows a tree of actions of how the function executes, using a traffic light colour legend (i.e., red = slow)."
      ],
      "metadata": {
        "id": "bCvYkaixlo2f"
      }
    },
    {
      "cell_type": "code",
      "source": [
        "%load_ext pyinstrument"
      ],
      "metadata": {
        "id": "EQhTQ-9klr8H"
      },
      "execution_count": 7,
      "outputs": []
    },
    {
      "cell_type": "code",
      "source": [
        "%%pyinstrument\n",
        "some_function()"
      ],
      "metadata": {
        "colab": {
          "base_uri": "https://localhost:8080/",
          "height": 421
        },
        "id": "SRsHJ63nluZ6",
        "outputId": "e7794c39-bdfd-4acc-fef9-6d7bf38a7488"
      },
      "execution_count": 8,
      "outputs": [
        {
          "output_type": "display_data",
          "data": {
            "text/html": [
              "\n",
              "        <iframe\n",
              "            width=\"100%\"\n",
              "            height=\"400\"\n",
              "            src=\"data:text/html, Loading…\"\n",
              "            frameborder=\"0\"\n",
              "            allowfullscreen\n",
              "            style=\"resize: vertical\" srcdoc=\"&lt;!DOCTYPE html&gt;\n",
              "            &lt;html&gt;\n",
              "            &lt;head&gt;\n",
              "                &lt;meta charset=&quot;utf-8&quot;&gt;\n",
              "            &lt;/head&gt;\n",
              "            &lt;body&gt;\n",
              "                &lt;div id=&quot;app&quot;&gt;&lt;/div&gt;\n",
              "\n",
              "                &lt;script&gt;var pyinstrumentHTMLRenderer=function(){&quot;use strict&quot;;var is=Object.defineProperty;var ns=(F,ve,Pe)=&gt;ve in F?is(F,ve,{enumerable:!0,configurable:!0,writable:!0,value:Pe}):F[ve]=Pe;var A=(F,ve,Pe)=&gt;ns(F,typeof ve!=&quot;symbol&quot;?ve+&quot;&quot;:ve,Pe);function F(){}function ve(i){return i()}function Pe(){return Object.create(null)}function oe(i){i.forEach(ve)}function pt(i){return typeof i==&quot;function&quot;}function re(i,e){return i!=i?e==e:i!==e||i&amp;&amp;typeof i==&quot;object&quot;||typeof i==&quot;function&quot;}function ki(i){return Object.keys(i).length===0}function St(i,...e){if(i==null){for(const n of e)n(void 0);return F}const t=i.subscribe(...e);return t.unsubscribe?()=&gt;t.unsubscribe():t}function ge(i,e,t){i.$$.on_destroy.push(St(e,t))}function Ci(i,e,t){return i.set(t),e}function u(i,e){i.appendChild(e)}function S(i,e,t){i.insertBefore(e,t||null)}function L(i){i.parentNode&amp;&amp;i.parentNode.removeChild(i)}function h(i){return document.createElement(i)}function V(i){return document.createElementNS(&quot;http://www.w3.org/2000/svg&quot;,i)}function I(i){return document.createTextNode(i)}function b(){return I(&quot; &quot;)}function Mi(){return I(&quot;&quot;)}function N(i,e,t,n){return i.addEventListener(e,t,n),()=&gt;i.removeEventListener(e,t,n)}function vt(i){return function(e){return e.preventDefault(),i.call(this,e)}}function gt(i){return function(e){return e.stopPropagation(),i.call(this,e)}}function a(i,e,t){t==null?i.removeAttribute(e):i.getAttribute(e)!==t&amp;&amp;i.setAttribute(e,t)}function _t(i){let e;return{p(...t){e=t,e.forEach(n=&gt;i.push(n))},r(){e.forEach(t=&gt;i.splice(i.indexOf(t),1))}}}function Fi(i){return Array.from(i.childNodes)}function _e(i,e){e=&quot;&quot;+e,i.data!==e&amp;&amp;(i.data=e)}function ae(i,e){i.value=e??&quot;&quot;}function j(i,e,t,n){t==null?i.style.removeProperty(e):i.style.setProperty(e,t,&quot;&quot;)}function Ee(i,e,t){i.classList.toggle(e,!!t)}function Pi(i,e,{bubbles:t=!1,cancelable:n=!1}={}){return new CustomEvent(i,{detail:e,bubbles:t,cancelable:n})}class Ri{constructor(e=!1){A(this,&quot;is_svg&quot;,!1);A(this,&quot;e&quot;);A(this,&quot;n&quot;);A(this,&quot;t&quot;);A(this,&quot;a&quot;);this.is_svg=e,this.e=this.n=null}c(e){this.h(e)}m(e,t,n=null){this.e||(this.is_svg?this.e=V(t.nodeName):this.e=h(t.nodeType===11?&quot;TEMPLATE&quot;:t.nodeName),this.t=t.tagName!==&quot;TEMPLATE&quot;?t:t.content,this.c(e)),this.i(n)}h(e){this.e.innerHTML=e,this.n=Array.from(this.e.nodeName===&quot;TEMPLATE&quot;?this.e.content.childNodes:this.e.childNodes)}i(e){for(let t=0;t&lt;this.n.length;t+=1)S(this.t,this.n[t],e)}p(e){this.d(),this.h(e),this.i(this.a)}d(){this.n.forEach(L)}}let Ye;function Xe(i){Ye=i}function wt(){if(!Ye)throw new Error(&quot;Function called outside component initialization&quot;);return Ye}function bt(i){wt().$$.on_mount.push(i)}function Ii(i){wt().$$.on_destroy.push(i)}function Li(){const i=wt();return(e,t,{cancelable:n=!1}={})=&gt;{const s=i.$$.callbacks[e];if(s){const l=Pi(e,t,{cancelable:n});return s.slice().forEach(r=&gt;{r.call(i,l)}),!l.defaultPrevented}return!0}}const Se=[],ke=[];let De=[];const Dt=[],Si=Promise.resolve();let yt=!1;function Di(){yt||(yt=!0,Si.then(Ht))}function Tt(i){De.push(i)}const At=new Set;let He=0;function Ht(){if(He!==0)return;const i=Ye;do{try{for(;He&lt;Se.length;){const e=Se[He];He++,Xe(e),Hi(e.$$)}}catch(e){throw Se.length=0,He=0,e}for(Xe(null),Se.length=0,He=0;ke.length;)ke.pop()();for(let e=0;e&lt;De.length;e+=1){const t=De[e];At.has(t)||(At.add(t),t())}De.length=0}while(Se.length);for(;Dt.length;)Dt.pop()();yt=!1,At.clear(),Xe(i)}function Hi(i){if(i.fragment!==null){i.update(),oe(i.before_update);const e=i.dirty;i.dirty=[-1],i.fragment&amp;&amp;i.fragment.p(i.ctx,e),i.after_update.forEach(Tt)}}function Oi(i){const e=[],t=[];De.forEach(n=&gt;i.indexOf(n)===-1?e.push(n):t.push(n)),t.forEach(n=&gt;n()),De=e}const nt=new Set;let Re;function Oe(){Re={r:0,c:[],p:Re}}function Ve(){Re.r||oe(Re.c),Re=Re.p}function D(i,e){i&amp;&amp;i.i&amp;&amp;(nt.delete(i),i.i(e))}function x(i,e,t,n){if(i&amp;&amp;i.o){if(nt.has(i))return;nt.add(i),Re.c.push(()=&gt;{nt.delete(i),n&amp;&amp;(t&amp;&amp;i.d(1),n())}),i.o(e)}else n&amp;&amp;n()}function Ot(i){return(i==null?void 0:i.length)!==void 0?i:Array.from(i)}function Vi(i,e){x(i,1,1,()=&gt;{e.delete(i.key)})}function Ni(i,e,t,n,s,l,r,o,c,d,v,p){let m=i.length,f=l.length,g=m;const w={};for(;g--;)w[i[g].key]=g;const E=[],C=new Map,y=new Map,k=[];for(g=f;g--;){const M=p(s,l,g),_=t(M);let T=r.get(_);T?k.push(()=&gt;T.p(M,e)):(T=d(_,M),T.c()),C.set(_,E[g]=T),_ in w&amp;&amp;y.set(_,Math.abs(g-w[_]))}const H=new Set,W=new Set;function P(M){D(M,1),M.m(o,v),r.set(M.key,M),v=M.first,f--}for(;m&amp;&amp;f;){const M=E[f-1],_=i[m-1],T=M.key,R=_.key;M===_?(v=M.first,m--,f--):C.has(R)?!r.has(T)||H.has(T)?P(M):W.has(R)?m--:y.get(T)&gt;y.get(R)?(W.add(T),P(M)):(H.add(R),m--):(c(_,r),m--)}for(;m--;){const M=i[m];C.has(M.key)||c(M,r)}for(;f;)P(E[f-1]);return oe(k),E}function we(i){i&amp;&amp;i.c()}function ce(i,e,t){const{fragment:n,after_update:s}=i.$$;n&amp;&amp;n.m(e,t),Tt(()=&gt;{const l=i.$$.on_mount.map(ve).filter(pt);i.$$.on_destroy?i.$$.on_destroy.push(...l):oe(l),i.$$.on_mount=[]}),s.forEach(Tt)}function ue(i,e){const t=i.$$;t.fragment!==null&amp;&amp;(Oi(t.after_update),oe(t.on_destroy),t.fragment&amp;&amp;t.fragment.d(e),t.on_destroy=t.fragment=null,t.ctx=[])}function xi(i,e){i.$$.dirty[0]===-1&amp;&amp;(Se.push(i),Di(),i.$$.dirty.fill(0)),i.$$.dirty[e/31|0]|=1&lt;&lt;e%31}function de(i,e,t,n,s,l,r=null,o=[-1]){const c=Ye;Xe(i);const d=i.$$={fragment:null,ctx:[],props:l,update:F,not_equal:s,bound:Pe(),on_mount:[],on_destroy:[],on_disconnect:[],before_update:[],after_update:[],context:new Map(e.context||(c?c.$$.context:[])),callbacks:Pe(),dirty:o,skip_bound:!1,root:e.target||c.$$.root};r&amp;&amp;r(d.root);let v=!1;if(d.ctx=t?t(i,e.props||{},(p,m,...f)=&gt;{const g=f.length?f[0]:m;return d.ctx&amp;&amp;s(d.ctx[p],d.ctx[p]=g)&amp;&amp;(!d.skip_bound&amp;&amp;d.bound[p]&amp;&amp;d.bound[p](g),v&amp;&amp;xi(i,p)),m}):[],d.update(),v=!0,oe(d.before_update),d.fragment=n?n(d.ctx):!1,e.target){if(e.hydrate){const p=Fi(e.target);d.fragment&amp;&amp;d.fragment.l(p),p.forEach(L)}else d.fragment&amp;&amp;d.fragment.c();e.intro&amp;&amp;D(i.$$.fragment),ce(i,e.target,e.anchor),Ht()}Xe(c)}class fe{constructor(){A(this,&quot;$$&quot;);A(this,&quot;$$set&quot;)}$destroy(){ue(this,1),this.$destroy=F}$on(e,t){if(!pt(t))return F;const n=this.$$.callbacks[e]||(this.$$.callbacks[e]=[]);return n.push(t),()=&gt;{const s=n.indexOf(t);s!==-1&amp;&amp;n.splice(s,1)}}$set(e){this.$$set&amp;&amp;!ki(e)&amp;&amp;(this.$$.skip_bound=!0,this.$$set(e),this.$$.skip_bound=!1)}}const $i=&quot;4&quot;;typeof window&lt;&quot;u&quot;&amp;&amp;(window.__svelte||(window.__svelte={v:new Set})).v.add($i);function Bi(i){let e,t;return{c(){e=V(&quot;svg&quot;),t=V(&quot;path&quot;),a(t,&quot;fill-rule&quot;,&quot;evenodd&quot;),a(t,&quot;clip-rule&quot;,&quot;evenodd&quot;),a(t,&quot;d&quot;,&quot;M5.11634 0.889422C4.86506 -0.296474 3.17237 -0.296474 2.92109 0.889422C2.78291 1.54158 2.10994 1.93011 1.47607 1.72371C0.323418 1.34837 -0.522932 2.81429 0.378448 3.62484C0.87414 4.07059 0.87414 4.84767 0.378448 5.29341C-0.522931 6.10397 0.323418 7.56989 1.47607 7.19455C2.10994 6.98814 2.78291 7.37668 2.92109 8.02883C3.17237 9.21473 4.86506 9.21473 5.11634 8.02883C5.25452 7.37668 5.92749 6.98814 6.56136 7.19455C7.71401 7.56989 8.56036 6.10397 7.65898 5.29341C7.16329 4.84767 7.16329 4.07059 7.65898 3.62484C8.56036 2.81429 7.71401 1.34837 6.56136 1.72371C5.92749 1.93011 5.25452 1.54158 5.11634 0.889422ZM4.01883 6.33408C5.05436 6.33408 5.89383 5.49462 5.89383 4.45908C5.89383 3.42355 5.05436 2.58408 4.01883 2.58408C2.98329 2.58408 2.14383 3.42355 2.14383 4.45908C2.14383 5.49462 2.98329 6.33408 4.01883 6.33408Z&quot;),a(t,&quot;fill&quot;,&quot;currentColor&quot;),a(e,&quot;width&quot;,&quot;9&quot;),a(e,&quot;height&quot;,&quot;9&quot;),a(e,&quot;viewBox&quot;,&quot;0 0 9 9&quot;),a(e,&quot;fill&quot;,&quot;none&quot;),a(e,&quot;xmlns&quot;,&quot;http://www.w3.org/2000/svg&quot;)},m(n,s){S(n,e,s),u(e,t)},p:F,i:F,o:F,d(n){n&amp;&amp;L(e)}}}class zi extends fe{constructor(e){super(),de(this,e,null,Bi,re,{})}}function Wi(i){let e,t,n,s,l,r,o,c,d,v,p,m,f,g,w,E,C;return{c(){e=V(&quot;svg&quot;),t=V(&quot;g&quot;),n=V(&quot;path&quot;),s=V(&quot;path&quot;),l=V(&quot;defs&quot;),r=V(&quot;filter&quot;),o=V(&quot;feFlood&quot;),c=V(&quot;feBlend&quot;),d=V(&quot;feGaussianBlur&quot;),v=V(&quot;linearGradient&quot;),p=V(&quot;stop&quot;),m=V(&quot;stop&quot;),f=V(&quot;stop&quot;),g=V(&quot;linearGradient&quot;),w=V(&quot;stop&quot;),E=V(&quot;stop&quot;),C=V(&quot;stop&quot;),a(n,&quot;fill-rule&quot;,&quot;evenodd&quot;),a(n,&quot;clip-rule&quot;,&quot;evenodd&quot;),a(n,&quot;d&quot;,&quot;M30 9H10V11.5H30V9ZM30 19H12.5V21.5H30V19ZM12.5 14H32.5V16.5H12.5V14ZM20 24H12.5V26.5H20V24ZM12.5 29H20V31.5H12.5V29ZM22.5 34H10V36.5H22.5V34Z&quot;),a(n,&quot;fill&quot;,&quot;url(#paint0_linear_67_262)&quot;),a(t,&quot;opacity&quot;,&quot;0.5&quot;),a(t,&quot;filter&quot;,&quot;url(#filter0_f_67_262)&quot;),a(s,&quot;fill-rule&quot;,&quot;evenodd&quot;),a(s,&quot;clip-rule&quot;,&quot;evenodd&quot;),a(s,&quot;d&quot;,&quot;M30 9H10V11.5H30V9ZM30 19H12.5V21.5H30V19ZM12.5 14H32.5V16.5H12.5V14ZM20 24H12.5V26.5H20V24ZM12.5 29H20V31.5H12.5V29ZM22.5 34H10V36.5H22.5V34Z&quot;),a(s,&quot;fill&quot;,&quot;url(#paint1_linear_67_262)&quot;),a(o,&quot;flood-opacity&quot;,&quot;0&quot;),a(o,&quot;result&quot;,&quot;BackgroundImageFix&quot;),a(c,&quot;mode&quot;,&quot;normal&quot;),a(c,&quot;in&quot;,&quot;SourceGraphic&quot;),a(c,&quot;in2&quot;,&quot;BackgroundImageFix&quot;),a(c,&quot;result&quot;,&quot;shape&quot;),a(d,&quot;stdDeviation&quot;,&quot;3.39785&quot;),a(d,&quot;result&quot;,&quot;effect1_foregroundBlur_67_262&quot;),a(r,&quot;id&quot;,&quot;filter0_f_67_262&quot;),a(r,&quot;x&quot;,&quot;3.2043&quot;),a(r,&quot;y&quot;,&quot;2.2043&quot;),a(r,&quot;width&quot;,&quot;36.0914&quot;),a(r,&quot;height&quot;,&quot;41.0914&quot;),a(r,&quot;filterUnits&quot;,&quot;userSpaceOnUse&quot;),a(r,&quot;color-interpolation-filters&quot;,&quot;sRGB&quot;),a(p,&quot;stop-color&quot;,&quot;#FFAA00&quot;),a(m,&quot;offset&quot;,&quot;0.514478&quot;),a(m,&quot;stop-color&quot;,&quot;#FFEB00&quot;),a(f,&quot;offset&quot;,&quot;1&quot;),a(f,&quot;stop-color&quot;,&quot;#98FF05&quot;),a(v,&quot;id&quot;,&quot;paint0_linear_67_262&quot;),a(v,&quot;x1&quot;,&quot;7.3769&quot;),a(v,&quot;y1&quot;,&quot;18.4566&quot;),a(v,&quot;x2&quot;,&quot;20.6583&quot;),a(v,&quot;y2&quot;,&quot;33.1038&quot;),a(v,&quot;gradientUnits&quot;,&quot;userSpaceOnUse&quot;),a(w,&quot;stop-color&quot;,&quot;#FFC834&quot;),a(E,&quot;offset&quot;,&quot;0.514478&quot;),a(E,&quot;stop-color&quot;,&quot;#FAF534&quot;),a(C,&quot;offset&quot;,&quot;1&quot;),a(C,&quot;stop-color&quot;,&quot;#B8FF38&quot;),a(g,&quot;id&quot;,&quot;paint1_linear_67_262&quot;),a(g,&quot;x1&quot;,&quot;7.3769&quot;),a(g,&quot;y1&quot;,&quot;18.4566&quot;),a(g,&quot;x2&quot;,&quot;20.6583&quot;),a(g,&quot;y2&quot;,&quot;33.1038&quot;),a(g,&quot;gradientUnits&quot;,&quot;userSpaceOnUse&quot;),a(e,&quot;width&quot;,&quot;44&quot;),a(e,&quot;height&quot;,&quot;44&quot;),a(e,&quot;viewBox&quot;,&quot;0 0 44 44&quot;),a(e,&quot;fill&quot;,&quot;none&quot;),a(e,&quot;xmlns&quot;,&quot;http://www.w3.org/2000/svg&quot;)},m(y,k){S(y,e,k),u(e,t),u(t,n),u(e,s),u(e,l),u(l,r),u(r,o),u(r,c),u(r,d),u(l,v),u(v,p),u(v,m),u(v,f),u(l,g),u(g,w),u(g,E),u(g,C)},p:F,i:F,o:F,d(y){y&amp;&amp;L(e)}}}class qi extends fe{constructor(e){super(),de(this,e,null,Wi,re,{})}}const Ne=[];function Ui(i,e){return{subscribe:st(i,e).subscribe}}function st(i,e=F){let t;const n=new Set;function s(o){if(re(i,o)&amp;&amp;(i=o,t)){const c=!Ne.length;for(const d of n)d[1](),Ne.push(d,i);if(c){for(let d=0;d&lt;Ne.length;d+=2)Ne[d][0](Ne[d+1]);Ne.length=0}}}function l(o){s(o(i))}function r(o,c=F){const d=[o,c];return n.add(d),n.size===1&amp;&amp;(t=e(s,l)||F),o(i),()=&gt;{n.delete(d),n.size===0&amp;&amp;t&amp;&amp;(t(),t=null)}}return{set:s,update:l,subscribe:r}}function Vt(i,e,t){const n=!Array.isArray(i),s=n?[i]:i;if(!s.every(Boolean))throw new Error(&quot;derived() expects stores as input, got a falsy value&quot;);const l=e.length&lt;2;return Ui(t,(r,o)=&gt;{let c=!1;const d=[];let v=0,p=F;const m=()=&gt;{if(v)return;p();const g=e(n?d[0]:d,r,o);l?r(g):p=pt(g)?g:F},f=s.map((g,w)=&gt;St(g,E=&gt;{d[w]=E,v&amp;=~(1&lt;&lt;w),c&amp;&amp;m()},()=&gt;{v|=1&lt;&lt;w}));return c=!0,m(),function(){oe(f),p(),c=!1}})}var Et={local:{},session:{}};function Yi(i){return i===&quot;local&quot;?localStorage:sessionStorage}function kt(i,e,t){var n,s,l,r,o,c,d,v;t!=null&amp;&amp;t.onError&amp;&amp;console.warn(&quot;onError has been deprecated. Please use onWriteError instead&quot;);const p=(n=t==null?void 0:t.serializer)!=null?n:JSON,m=(s=t==null?void 0:t.storage)!=null?s:&quot;local&quot;,f=(l=t==null?void 0:t.syncTabs)!=null?l:!0,g=(o=(r=t==null?void 0:t.onWriteError)!=null?r:t==null?void 0:t.onError)!=null?o:P=&gt;console.error(`Error when writing value from persisted store &quot;${i}&quot; to ${m}`,P),w=(c=t==null?void 0:t.onParseError)!=null?c:(P,M)=&gt;console.error(`Error when parsing ${P?&#x27;&quot;&#x27;+P+&#x27;&quot;&#x27;:&quot;value&quot;} from persisted store &quot;${i}&quot;`,M),E=(d=t==null?void 0:t.beforeRead)!=null?d:P=&gt;P,C=(v=t==null?void 0:t.beforeWrite)!=null?v:P=&gt;P,y=typeof window&lt;&quot;u&quot;&amp;&amp;typeof document&lt;&quot;u&quot;,k=y?Yi(m):null;function H(P,M){const _=C(M);try{k==null||k.setItem(P,p.stringify(_))}catch(T){g(T)}}function W(){function P(R){try{return p.parse(R)}catch(B){w(R,B)}}const M=k==null?void 0:k.getItem(i);if(M==null)return e;const _=P(M);return _==null?e:E(_)}if(!Et[m][i]){const P=W(),M=st(P,R=&gt;{if(y&amp;&amp;m==&quot;local&quot;&amp;&amp;f){const B=J=&gt;{if(J.key===i&amp;&amp;J.newValue){let $;try{$=p.parse(J.newValue)}catch(ee){w(J.newValue,ee);return}const Le=E($);R(Le)}};return window.addEventListener(&quot;storage&quot;,B),()=&gt;window.removeEventListener(&quot;storage&quot;,B)}}),{subscribe:_,set:T}=M;Et[m][i]={set(R){T(R),H(i,R)},update(R){return M.update(B=&gt;{const J=R(B);return H(i,J),J})},reset(){this.set(e)},subscribe:_}}return Et[m][i]}function Nt(){return{collapseMode:&quot;non-application&quot;,collapseCustomHide:&quot;&quot;,collapseCustomShow:&quot;&quot;,removeImportlib:!0,removeTracebackHide:!0,removePyinstrument:!0,removeIrrelevant:!0,removeIrrelevantThreshold:.001,timeFormat:&quot;absolute&quot;}}const Z=kt(&quot;pyinstrument:viewOptionsCallStack&quot;,Nt(),{syncTabs:!0,beforeRead(i){return{...Nt(),...i}}}),Ge=kt(&quot;pyinstrument:viewOptions&quot;,{viewMode:&quot;call-stack&quot;},{syncTabs:!1}),je=kt(&quot;pyinstrument:viewOptionsTimeline&quot;,{removeImportlib:!0,removeTracebackHide:!0,removePyinstrument:!0,removeIrrelevant:!0,removeIrrelevantThreshold:1e-4},{syncTabs:!0});class Xi extends Error{constructor(e){super(`Unreachable case: ${e}`)}}function Gi(i,e){const t=e*(i.length-1),n=Math.floor(t),s=Math.ceil(t),l=i[n],r=i[s],o=t-n;return Zi(o,{to:[l,r]})}function ji(i,e,t){return i===1/0?(console.warn(&quot;clamp: value is Infinity, returning `max`&quot;,i),t):i===-1/0?(console.warn(&quot;clamp: value is -Infinity, returning `min`&quot;,i),e):Number.isFinite(i)?i&lt;e?e:i&gt;t?t:i:(console.warn(&quot;clamp: value isn&#x27;t finite, returning `min`&quot;,i),e)}function xe(i,e){const{from:t=[0,1],to:n=[0,1]}=e,s=e.clamp||!1;let l=(i-t[0])/(t[1]-t[0])*(n[1]-n[0])+n[0];return s&amp;&amp;(l=ji(l,Math.min(n[0],n[1]),Math.max(n[0],n[1]))),l}function Zi(i,e){return`rgb(\n",
              "      ${xe(i,{from:e.from,to:[e.to[0][0],e.to[1][0]],clamp:e.clamp})},\n",
              "      ${xe(i,{from:e.from,to:[e.to[0][1],e.to[1][1]],clamp:e.clamp})},\n",
              "      ${xe(i,{from:e.from,to:[e.to[0][2],e.to[1][2]],clamp:e.clamp})}\n",
              "    )`}function Ki(i){if(i.substr(0,1)==&quot;#&quot;){var e=(i.length-1)/3,t=[17,1,.062272][e-1];return[Math.round(parseInt(i.substr(1,e),16)*t),Math.round(parseInt(i.substr(1+e,e),16)*t),Math.round(parseInt(i.substr(1+2*e,e),16)*t)]}else return i.split(&quot;(&quot;)[1].split(&quot;)&quot;)[0].split(&quot;,&quot;).map(n=&gt;+n)}function Qi(i,e,t={}){const{ignore:n=[],capture:s=!0}=t,l=window;if(!l)return()=&gt;{};let r=!0,o=!1;const c=f=&gt;n.some(g=&gt;typeof g==&quot;string&quot;?Array.from(document.querySelectorAll(g)).some(w=&gt;w===f.target||f.composedPath().includes(w)):g&amp;&amp;(f.target===g||f.composedPath().includes(g))),d=f=&gt;{if(!(!i||i===f.target||f.composedPath().includes(i))){if(f.detail===0&amp;&amp;(r=!c(f)),!r){r=!0;return}e(f)}},v=f=&gt;{o||(o=!0,setTimeout(()=&gt;{o=!1},0),d(f))},p=f=&gt;{r=!c(f)&amp;&amp;!!(i&amp;&amp;!f.composedPath().includes(i))};return l.addEventListener(&quot;click&quot;,v,{passive:!0,capture:s}),l.addEventListener(&quot;pointerdown&quot;,p,{passive:!0}),()=&gt;{l.removeEventListener(&quot;click&quot;,v,{capture:s}),l.removeEventListener(&quot;pointerdown&quot;,p)}}function Ji(i){const e=document.createElement(&quot;div&quot;);return e.appendChild(document.createTextNode(i)),e.innerHTML}function Ct(i){return Ji(i).replace(/(\\/|\\\\)/g,t=&gt;`${t}&lt;wbr&gt;`)}function en(i,e){if(i.length==0)return null;let t=i[0],n=e(t);for(const s of i){const l=e(s);l&gt;n&amp;&amp;(t=s,n=l)}return t}function ot(){return Math.random().toString(36).substring(2)}function tn(i){let e,t,n,s,l,r,o,c,d,v,p,m,f,g,w,E,C,y,k,H,W,P,M,_,T,R,B,J,$,Le,ee,Q,Y,Ce,q,Qe,Je,le,U,et,te,he,me,be,pe,Te,tt,Ae,K,Be,Me,it,z,O,X,fi,at,hi,mi,ze,Fe,pi,We,ct,vi,gi,ye,_i,wi,qe,ut,bi,Ue,dt,ft,ie,yi,Ti,ht,mt,ne,Ai,Rt,It,Lt,Ei;return Rt=_t(i[5][0]),It=_t(i[5][1]),{c(){e=h(&quot;div&quot;),t=h(&quot;div&quot;),n=h(&quot;div&quot;),n.textContent=&quot;Collapse frames&quot;,s=b(),l=h(&quot;div&quot;),r=h(&quot;div&quot;),o=h(&quot;input&quot;),c=b(),d=h(&quot;label&quot;),v=I(&quot;Library code&quot;),p=b(),m=h(&quot;div&quot;),m.textContent=&quot;Code run from the Python stdlib, a virtualenv, or a conda env will be collapsed.&quot;,f=b(),g=h(&quot;div&quot;),w=h(&quot;input&quot;),E=b(),C=h(&quot;label&quot;),y=I(&quot;Custom&quot;),k=b(),H=h(&quot;div&quot;),W=I(`Regex on the source file path.\n",
              "          `),P=h(&quot;div&quot;),M=h(&quot;label&quot;),M.textContent=&quot;Show&quot;,_=b(),T=h(&quot;input&quot;),R=b(),B=h(&quot;label&quot;),B.textContent=&quot;Hide&quot;,J=b(),$=h(&quot;input&quot;),Le=I(`\n",
              "          If neither match, the library code rule is used.`),ee=b(),Q=h(&quot;div&quot;),Y=h(&quot;input&quot;),Ce=b(),q=h(&quot;label&quot;),Qe=I(&quot;Disabled&quot;),Je=b(),le=h(&quot;div&quot;),U=h(&quot;div&quot;),U.textContent=&quot;Remove frames&quot;,et=b(),te=h(&quot;div&quot;),he=h(&quot;div&quot;),me=h(&quot;input&quot;),be=b(),pe=h(&quot;label&quot;),Te=I(&quot;importlib machinery&quot;),tt=b(),Ae=h(&quot;div&quot;),K=h(&quot;input&quot;),Be=b(),Me=h(&quot;label&quot;),it=I(&quot;Frames declaring __traceback_hide__&quot;),z=b(),O=h(&quot;div&quot;),X=h(&quot;input&quot;),fi=b(),at=h(&quot;label&quot;),hi=I(&quot;pyinstrument frames&quot;),mi=b(),ze=h(&quot;div&quot;),Fe=h(&quot;input&quot;),pi=b(),We=h(&quot;span&quot;),ct=h(&quot;label&quot;),vi=I(&quot;Frames with durations less than&quot;),gi=b(),ye=h(&quot;input&quot;),_i=I(`\n",
              "          % of the total time`),wi=b(),qe=h(&quot;div&quot;),ut=h(&quot;div&quot;),ut.textContent=&quot;Time format&quot;,bi=b(),Ue=h(&quot;div&quot;),dt=h(&quot;div&quot;),ft=h(&quot;label&quot;),ie=h(&quot;input&quot;),yi=I(`\n",
              "          Absolute time in seconds`),Ti=b(),ht=h(&quot;div&quot;),mt=h(&quot;label&quot;),ne=h(&quot;input&quot;),Ai=I(`\n",
              "          Percentage of the total run time`),a(n,&quot;class&quot;,&quot;name svelte-1pecl4m&quot;),a(o,&quot;id&quot;,i[1]+&quot;collapseModeAll&quot;),a(o,&quot;type&quot;,&quot;radio&quot;),o.__value=&quot;non-application&quot;,ae(o,o.__value),a(o,&quot;class&quot;,&quot;svelte-1pecl4m&quot;),a(d,&quot;for&quot;,i[1]+&quot;collapseModeAll&quot;),a(m,&quot;class&quot;,&quot;description svelte-1pecl4m&quot;),a(r,&quot;class&quot;,&quot;option svelte-1pecl4m&quot;),a(w,&quot;id&quot;,i[1]+&quot;collapseModeCustom&quot;),a(w,&quot;type&quot;,&quot;radio&quot;),w.__value=&quot;custom&quot;,ae(w,w.__value),a(w,&quot;class&quot;,&quot;svelte-1pecl4m&quot;),a(C,&quot;for&quot;,i[1]+&quot;collapseModeCustom&quot;),a(M,&quot;for&quot;,&quot;collapseCustomShow&quot;),a(M,&quot;class&quot;,&quot;svelte-1pecl4m&quot;),a(T,&quot;id&quot;,&quot;collapseCustomShow&quot;),a(T,&quot;type&quot;,&quot;text&quot;),a(T,&quot;placeholder&quot;,&quot;myproject&quot;),a(T,&quot;spellcheck&quot;,&quot;false&quot;),a(T,&quot;autocapitalize&quot;,&quot;off&quot;),a(T,&quot;autocomplete&quot;,&quot;off&quot;),a(T,&quot;autocorrect&quot;,&quot;off&quot;),a(T,&quot;class&quot;,&quot;svelte-1pecl4m&quot;),a(B,&quot;for&quot;,&quot;collapseCustomHide&quot;),a(B,&quot;class&quot;,&quot;svelte-1pecl4m&quot;),a($,&quot;id&quot;,&quot;collapseCustomHide&quot;),a($,&quot;type&quot;,&quot;text&quot;),a($,&quot;placeholder&quot;,&quot;.*/lib/.*&quot;),a($,&quot;spellcheck&quot;,&quot;false&quot;),a($,&quot;autocapitalize&quot;,&quot;off&quot;),a($,&quot;autocomplete&quot;,&quot;off&quot;),a($,&quot;autocorrect&quot;,&quot;off&quot;),a($,&quot;class&quot;,&quot;svelte-1pecl4m&quot;),a(P,&quot;class&quot;,&quot;mini-input-grid svelte-1pecl4m&quot;),a(H,&quot;class&quot;,&quot;description svelte-1pecl4m&quot;),a(g,&quot;class&quot;,&quot;option svelte-1pecl4m&quot;),a(Y,&quot;id&quot;,i[1]+&quot;collapseModeDisabled&quot;),a(Y,&quot;type&quot;,&quot;radio&quot;),Y.__value=&quot;disabled&quot;,ae(Y,Y.__value),a(Y,&quot;class&quot;,&quot;svelte-1pecl4m&quot;),a(q,&quot;for&quot;,i[1]+&quot;collapseModeDisabled&quot;),a(Q,&quot;class&quot;,&quot;option svelte-1pecl4m&quot;),a(l,&quot;class&quot;,&quot;body&quot;),a(t,&quot;class&quot;,&quot;option-group svelte-1pecl4m&quot;),a(U,&quot;class&quot;,&quot;name svelte-1pecl4m&quot;),a(me,&quot;id&quot;,i[1]+&quot;removeImportlib&quot;),a(me,&quot;type&quot;,&quot;checkbox&quot;),a(me,&quot;class&quot;,&quot;svelte-1pecl4m&quot;),a(pe,&quot;for&quot;,i[1]+&quot;removeImportlib&quot;),a(he,&quot;class&quot;,&quot;option svelte-1pecl4m&quot;),a(K,&quot;id&quot;,i[1]+&quot;removeTracebackHide&quot;),a(K,&quot;type&quot;,&quot;checkbox&quot;),a(K,&quot;class&quot;,&quot;svelte-1pecl4m&quot;),a(Me,&quot;for&quot;,i[1]+&quot;removeTracebackHide&quot;),a(Ae,&quot;class&quot;,&quot;option svelte-1pecl4m&quot;),a(X,&quot;id&quot;,i[1]+&quot;removePyinstrument&quot;),a(X,&quot;type&quot;,&quot;checkbox&quot;),a(X,&quot;class&quot;,&quot;svelte-1pecl4m&quot;),a(at,&quot;for&quot;,i[1]+&quot;removePyinstrument&quot;),a(O,&quot;class&quot;,&quot;option svelte-1pecl4m&quot;),a(Fe,&quot;id&quot;,i[1]+&quot;removeIrrelevant&quot;),a(Fe,&quot;type&quot;,&quot;checkbox&quot;),a(Fe,&quot;class&quot;,&quot;svelte-1pecl4m&quot;),a(ct,&quot;for&quot;,i[1]+&quot;removeIrrelevant&quot;),a(ye,&quot;type&quot;,&quot;number&quot;),ye.value=i[2](),a(ye,&quot;min&quot;,&quot;0&quot;),a(ye,&quot;max&quot;,&quot;99&quot;),a(ye,&quot;step&quot;,&quot;0.01&quot;),j(ye,&quot;width&quot;,&quot;4em&quot;),a(ye,&quot;class&quot;,&quot;svelte-1pecl4m&quot;),a(ze,&quot;class&quot;,&quot;option svelte-1pecl4m&quot;),a(te,&quot;class&quot;,&quot;body&quot;),a(le,&quot;class&quot;,&quot;option-group svelte-1pecl4m&quot;),a(ut,&quot;class&quot;,&quot;name svelte-1pecl4m&quot;),a(ie,&quot;type&quot;,&quot;radio&quot;),ie.__value=&quot;absolute&quot;,ae(ie,ie.__value),a(ie,&quot;class&quot;,&quot;svelte-1pecl4m&quot;),a(dt,&quot;class&quot;,&quot;option svelte-1pecl4m&quot;),a(ne,&quot;type&quot;,&quot;radio&quot;),ne.__value=&quot;proportion&quot;,ae(ne,ne.__value),a(ne,&quot;class&quot;,&quot;svelte-1pecl4m&quot;),a(ht,&quot;class&quot;,&quot;option svelte-1pecl4m&quot;),a(Ue,&quot;class&quot;,&quot;body&quot;),a(qe,&quot;class&quot;,&quot;option-group svelte-1pecl4m&quot;),a(e,&quot;class&quot;,&quot;view-options-call-stack svelte-1pecl4m&quot;),Rt.p(ie,ne),It.p(o,w,Y)},m(G,se){S(G,e,se),u(e,t),u(t,n),u(t,s),u(t,l),u(l,r),u(r,o),o.checked=o.__value===i[0].collapseMode,u(r,c),u(r,d),u(d,v),u(r,p),u(r,m),u(l,f),u(l,g),u(g,w),w.checked=w.__value===i[0].collapseMode,u(g,E),u(g,C),u(C,y),u(g,k),u(g,H),u(H,W),u(H,P),u(P,M),u(P,_),u(P,T),ae(T,i[0].collapseCustomShow),u(P,R),u(P,B),u(P,J),u(P,$),ae($,i[0].collapseCustomHide),u(H,Le),u(l,ee),u(l,Q),u(Q,Y),Y.checked=Y.__value===i[0].collapseMode,u(Q,Ce),u(Q,q),u(q,Qe),u(e,Je),u(e,le),u(le,U),u(le,et),u(le,te),u(te,he),u(he,me),me.checked=i[0].removeImportlib,u(he,be),u(he,pe),u(pe,Te),u(te,tt),u(te,Ae),u(Ae,K),K.checked=i[0].removeTracebackHide,u(Ae,Be),u(Ae,Me),u(Me,it),u(te,z),u(te,O),u(O,X),X.checked=i[0].removePyinstrument,u(O,fi),u(O,at),u(at,hi),u(te,mi),u(te,ze),u(ze,Fe),Fe.checked=i[0].removeIrrelevant,u(ze,pi),u(ze,We),u(We,ct),u(ct,vi),u(We,gi),u(We,ye),u(We,_i),u(e,wi),u(e,qe),u(qe,ut),u(qe,bi),u(qe,Ue),u(Ue,dt),u(dt,ft),u(ft,ie),ie.checked=ie.__value===i[0].timeFormat,u(ft,yi),u(Ue,Ti),u(Ue,ht),u(ht,mt),u(mt,ne),ne.checked=ne.__value===i[0].timeFormat,u(mt,Ai),Lt||(Ei=[N(o,&quot;change&quot;,i[4]),N(w,&quot;change&quot;,i[6]),N(T,&quot;input&quot;,i[7]),N($,&quot;input&quot;,i[8]),N(Y,&quot;change&quot;,i[9]),N(me,&quot;change&quot;,i[10]),N(K,&quot;change&quot;,i[11]),N(X,&quot;change&quot;,i[12]),N(Fe,&quot;change&quot;,i[13]),N(ye,&quot;input&quot;,i[3]),N(ie,&quot;change&quot;,i[14]),N(ne,&quot;change&quot;,i[15])],Lt=!0)},p(G,[se]){se&amp;1&amp;&amp;(o.checked=o.__value===G[0].collapseMode),se&amp;1&amp;&amp;(w.checked=w.__value===G[0].collapseMode),se&amp;1&amp;&amp;T.value!==G[0].collapseCustomShow&amp;&amp;ae(T,G[0].collapseCustomShow),se&amp;1&amp;&amp;$.value!==G[0].collapseCustomHide&amp;&amp;ae($,G[0].collapseCustomHide),se&amp;1&amp;&amp;(Y.checked=Y.__value===G[0].collapseMode),se&amp;1&amp;&amp;(me.checked=G[0].removeImportlib),se&amp;1&amp;&amp;(K.checked=G[0].removeTracebackHide),se&amp;1&amp;&amp;(X.checked=G[0].removePyinstrument),se&amp;1&amp;&amp;(Fe.checked=G[0].removeIrrelevant),se&amp;1&amp;&amp;(ie.checked=ie.__value===G[0].timeFormat),se&amp;1&amp;&amp;(ne.checked=ne.__value===G[0].timeFormat)},i:F,o:F,d(G){G&amp;&amp;L(e),Rt.r(),It.r(),Lt=!1,oe(Ei)}}}function nn(i,e,t){let n;ge(i,Z,k=&gt;t(0,n=k));const s=ot();function l(){return(n.removeIrrelevantThreshold*100).toLocaleString(void 0,{maximumFractionDigits:4})}function r(k){Ci(Z,n.removeIrrelevantThreshold=k.currentTarget.valueAsNumber/100,n)}const o=[[],[]];function c(){n.collapseMode=this.__value,Z.set(n)}function d(){n.collapseMode=this.__value,Z.set(n)}function v(){n.collapseCustomShow=this.value,Z.set(n)}function p(){n.collapseCustomHide=this.value,Z.set(n)}function m(){n.collapseMode=this.__value,Z.set(n)}function f(){n.removeImportlib=this.checked,Z.set(n)}function g(){n.removeTracebackHide=this.checked,Z.set(n)}function w(){n.removePyinstrument=this.checked,Z.set(n)}function E(){n.removeIrrelevant=this.checked,Z.set(n)}function C(){n.timeFormat=this.__value,Z.set(n)}function y(){n.timeFormat=this.__value,Z.set(n)}return[n,s,l,r,c,o,d,v,p,m,f,g,w,E,C,y]}class sn extends fe{constructor(e){super(),de(this,e,nn,tn,re,{})}}function on(i){let e,t,n,s,l,r,o,c,d,v,p,m,f,g,w,E,C,y,k,H,W,P,M,_;return{c(){e=h(&quot;div&quot;),t=h(&quot;div&quot;),n=h(&quot;div&quot;),n.textContent=&quot;Remove frames&quot;,s=b(),l=h(&quot;div&quot;),r=h(&quot;div&quot;),o=h(&quot;input&quot;),c=b(),d=h(&quot;label&quot;),v=I(&quot;importlib machinery&quot;),p=b(),m=h(&quot;div&quot;),f=h(&quot;input&quot;),g=b(),w=h(&quot;label&quot;),E=I(&quot;Frames declaring __traceback_hide__&quot;),C=b(),y=h(&quot;div&quot;),k=h(&quot;input&quot;),H=b(),W=h(&quot;label&quot;),P=I(&quot;pyinstrument frames&quot;),a(n,&quot;class&quot;,&quot;name&quot;),a(o,&quot;id&quot;,i[1]+&quot;removeImportlib&quot;),a(o,&quot;type&quot;,&quot;checkbox&quot;),a(d,&quot;for&quot;,i[1]+&quot;removeImportlib&quot;),a(r,&quot;class&quot;,&quot;option&quot;),a(f,&quot;id&quot;,i[1]+&quot;removeTracebackHide&quot;),a(f,&quot;type&quot;,&quot;checkbox&quot;),a(w,&quot;for&quot;,i[1]+&quot;removeTracebackHide&quot;),a(m,&quot;class&quot;,&quot;option&quot;),a(k,&quot;id&quot;,i[1]+&quot;removePyinstrument&quot;),a(k,&quot;type&quot;,&quot;checkbox&quot;),a(W,&quot;for&quot;,i[1]+&quot;removePyinstrument&quot;),a(y,&quot;class&quot;,&quot;option&quot;),a(l,&quot;class&quot;,&quot;body&quot;),a(t,&quot;class&quot;,&quot;option-group&quot;),a(e,&quot;class&quot;,&quot;view-options-timeline svelte-vsz8zm&quot;)},m(T,R){S(T,e,R),u(e,t),u(t,n),u(t,s),u(t,l),u(l,r),u(r,o),o.checked=i[0].removeImportlib,u(r,c),u(r,d),u(d,v),u(l,p),u(l,m),u(m,f),f.checked=i[0].removeTracebackHide,u(m,g),u(m,w),u(w,E),u(l,C),u(l,y),u(y,k),k.checked=i[0].removePyinstrument,u(y,H),u(y,W),u(W,P),M||(_=[N(o,&quot;change&quot;,i[2]),N(f,&quot;change&quot;,i[3]),N(k,&quot;change&quot;,i[4])],M=!0)},p(T,[R]){R&amp;1&amp;&amp;(o.checked=T[0].removeImportlib),R&amp;1&amp;&amp;(f.checked=T[0].removeTracebackHide),R&amp;1&amp;&amp;(k.checked=T[0].removePyinstrument)},i:F,o:F,d(T){T&amp;&amp;L(e),M=!1,oe(_)}}}function rn(i,e,t){let n;ge(i,je,c=&gt;t(0,n=c));const s=ot();function l(){n.removeImportlib=this.checked,je.set(n)}function r(){n.removeTracebackHide=this.checked,je.set(n)}function o(){n.removePyinstrument=this.checked,je.set(n)}return[n,s,l,r,o]}class ln extends fe{constructor(e){super(),de(this,e,rn,on,re,{})}}function an(i){let e,t;return e=new ln({}),{c(){we(e.$$.fragment)},m(n,s){ce(e,n,s),t=!0},i(n){t||(D(e.$$.fragment,n),t=!0)},o(n){x(e.$$.fragment,n),t=!1},d(n){ue(e,n)}}}function cn(i){let e,t;return e=new sn({}),{c(){we(e.$$.fragment)},m(n,s){ce(e,n,s),t=!0},i(n){t||(D(e.$$.fragment,n),t=!0)},o(n){x(e.$$.fragment,n),t=!1},d(n){ue(e,n)}}}function un(i){let e,t,n,s,l,r,o,c,d;const v=[cn,an],p=[];function m(f,g){return f[0].viewMode===&quot;call-stack&quot;?0:f[0].viewMode===&quot;timeline&quot;?1:-1}return~(o=m(i))&amp;&amp;(c=p[o]=v[o](i)),{c(){e=h(&quot;div&quot;),t=h(&quot;div&quot;),n=h(&quot;div&quot;),s=I(i[3]),l=b(),r=h(&quot;div&quot;),c&amp;&amp;c.c(),a(n,&quot;class&quot;,&quot;title-row svelte-rpk7lo&quot;),a(r,&quot;class&quot;,&quot;body svelte-rpk7lo&quot;),a(t,&quot;class&quot;,&quot;box svelte-rpk7lo&quot;),a(e,&quot;class&quot;,&quot;view-options svelte-rpk7lo&quot;)},m(f,g){S(f,e,g),u(e,t),u(t,n),u(n,s),u(t,l),u(t,r),~o&amp;&amp;p[o].m(r,null),i[4](t),i[5](e),d=!0},p(f,[g]){(!d||g&amp;8)&amp;&amp;_e(s,f[3]);let w=o;o=m(f),o!==w&amp;&amp;(c&amp;&amp;(Oe(),x(p[w],1,1,()=&gt;{p[w]=null}),Ve()),~o?(c=p[o],c||(c=p[o]=v[o](f),c.c()),D(c,1),c.m(r,null)):c=null)},i(f){d||(D(c),d=!0)},o(f){x(c),d=!1},d(f){f&amp;&amp;L(e),~o&amp;&amp;p[o].d(),i[4](null),i[5](null)}}}function dn(i,e,t){let n;ge(i,Ge,m=&gt;t(0,n=m));const s=Li();function l(){s(&quot;close&quot;)}let r,o;bt(()=&gt;{if(o)return Qi(o,l,{ignore:[&quot;.js-view-options-button&quot;]})});function c(){if(!r||!o)return;const m=r.getBoundingClientRect(),g=o.getBoundingClientRect().width;m.right-g-20&lt;0?t(2,o.style.right=`${m.right-g-20}px`,o):t(2,o.style.right=&quot;0&quot;,o)}bt(()=&gt;(c(),window.addEventListener(&quot;resize&quot;,c),()=&gt;window.removeEventListener(&quot;resize&quot;,c)));let d=&quot;View options&quot;;function v(m){ke[m?&quot;unshift&quot;:&quot;push&quot;](()=&gt;{o=m,t(2,o)})}function p(m){ke[m?&quot;unshift&quot;:&quot;push&quot;](()=&gt;{r=m,t(1,r)})}return i.$$.update=()=&gt;{i.$$.dirty&amp;1&amp;&amp;(n.viewMode===&quot;call-stack&quot;?t(3,d=&quot;Call stack view options&quot;):n.viewMode===&quot;timeline&quot;&amp;&amp;t(3,d=&quot;Timeline view options&quot;))},[n,r,o,d,v,p]}class fn extends fe{constructor(e){super(),de(this,e,dn,un,re,{})}}function xt(i){let e,t;return e=new fn({}),e.$on(&quot;close&quot;,i[9]),{c(){we(e.$$.fragment)},m(n,s){ce(e,n,s),t=!0},p:F,i(n){t||(D(e.$$.fragment,n),t=!0)},o(n){x(e.$$.fragment,n),t=!1},d(n){ue(e,n)}}}function hn(i){let e,t,n,s,l,r,o,c,d=Ct(i[0].target_description)+&quot;&quot;,v,p,m,f,g,w,E,C,y,k,H,W,P,M=i[0].sampleCount+&quot;&quot;,_,T,R,B,J,$,Le,ee,Q,Y,Ce,q,Qe,Je,le,U,et,te,he,me,be,pe,Te,tt,Ae,K,Be,Me,it;l=new qi({}),Te=new zi({});let z=i[1]&amp;&amp;xt(i);return Be=_t(i[7][0]),{c(){e=h(&quot;div&quot;),t=h(&quot;div&quot;),n=h(&quot;div&quot;),s=h(&quot;div&quot;),we(l.$$.fragment),r=b(),o=h(&quot;div&quot;),c=h(&quot;div&quot;),v=b(),p=h(&quot;div&quot;),m=h(&quot;div&quot;),f=h(&quot;span&quot;),f.textContent=&quot;Recorded:&quot;,g=b(),w=h(&quot;span&quot;),w.textContent=`${i[3]}`,E=b(),C=h(&quot;br&quot;),y=b(),k=h(&quot;div&quot;),H=h(&quot;span&quot;),H.textContent=&quot;Samples:&quot;,W=b(),P=h(&quot;span&quot;),_=I(M),T=b(),R=h(&quot;div&quot;),B=h(&quot;span&quot;),B.textContent=&quot;CPU utilization:&quot;,J=b(),$=h(&quot;span&quot;),$.textContent=`${(i[4]*100).toFixed(0)}%`,Le=b(),ee=h(&quot;div&quot;),Q=h(&quot;div&quot;),Y=I(`View:\n",
              "            `),Ce=h(&quot;label&quot;),q=h(&quot;input&quot;),Qe=I(`\n",
              "              Call stack`),Je=b(),le=h(&quot;label&quot;),U=h(&quot;input&quot;),et=I(`\n",
              "              Timeline`),te=b(),he=h(&quot;div&quot;),me=b(),be=h(&quot;div&quot;),pe=h(&quot;button&quot;),we(Te.$$.fragment),tt=I(`\n",
              "              View options`),Ae=b(),z&amp;&amp;z.c(),a(s,&quot;class&quot;,&quot;logo svelte-qdxst2&quot;),a(c,&quot;class&quot;,&quot;target-description svelte-qdxst2&quot;),a(f,&quot;class&quot;,&quot;metric-label svelte-qdxst2&quot;),a(w,&quot;class&quot;,&quot;metric-value svelte-qdxst2&quot;),a(m,&quot;class&quot;,&quot;metric date svelte-qdxst2&quot;),a(C,&quot;class&quot;,&quot;svelte-qdxst2&quot;),a(H,&quot;class&quot;,&quot;metric-label svelte-qdxst2&quot;),a(P,&quot;class&quot;,&quot;metric-value svelte-qdxst2&quot;),a(k,&quot;class&quot;,&quot;metric svelte-qdxst2&quot;),a(B,&quot;class&quot;,&quot;metric-label svelte-qdxst2&quot;),a($,&quot;class&quot;,&quot;metric-value svelte-qdxst2&quot;),a(R,&quot;class&quot;,&quot;metric svelte-qdxst2&quot;),a(p,&quot;class&quot;,&quot;metrics svelte-qdxst2&quot;),a(q,&quot;type&quot;,&quot;radio&quot;),q.__value=&quot;call-stack&quot;,ae(q,q.__value),a(q,&quot;class&quot;,&quot;svelte-qdxst2&quot;),a(Ce,&quot;class&quot;,&quot;svelte-qdxst2&quot;),a(U,&quot;type&quot;,&quot;radio&quot;),U.__value=&quot;timeline&quot;,ae(U,U.__value),a(U,&quot;class&quot;,&quot;svelte-qdxst2&quot;),a(le,&quot;class&quot;,&quot;svelte-qdxst2&quot;),a(Q,&quot;class&quot;,&quot;toggle&quot;),a(he,&quot;class&quot;,&quot;spacer&quot;),j(he,&quot;flex&quot;,&quot;1&quot;),a(pe,&quot;class&quot;,&quot;js-view-options-button svelte-qdxst2&quot;),a(be,&quot;class&quot;,&quot;button-container svelte-qdxst2&quot;),a(ee,&quot;class&quot;,&quot;view-options svelte-qdxst2&quot;),a(o,&quot;class&quot;,&quot;layout svelte-qdxst2&quot;),a(n,&quot;class&quot;,&quot;row svelte-qdxst2&quot;),a(t,&quot;class&quot;,&quot;margins&quot;),a(e,&quot;class&quot;,&quot;header svelte-qdxst2&quot;),Be.p(q,U)},m(O,X){S(O,e,X),u(e,t),u(t,n),u(n,s),ce(l,s,null),u(n,r),u(n,o),u(o,c),c.innerHTML=d,u(o,v),u(o,p),u(p,m),u(m,f),u(m,g),u(m,w),u(p,E),u(p,C),u(p,y),u(p,k),u(k,H),u(k,W),u(k,P),u(P,_),u(p,T),u(p,R),u(R,B),u(R,J),u(R,$),u(o,Le),u(o,ee),u(ee,Q),u(Q,Y),u(Q,Ce),u(Ce,q),q.checked=q.__value===i[2].viewMode,u(Ce,Qe),u(Q,Je),u(Q,le),u(le,U),U.checked=U.__value===i[2].viewMode,u(le,et),u(ee,te),u(ee,he),u(ee,me),u(ee,be),u(be,pe),ce(Te,pe,null),u(pe,tt),u(be,Ae),z&amp;&amp;z.m(be,null),K=!0,Me||(it=[N(q,&quot;change&quot;,i[6]),N(U,&quot;change&quot;,i[8]),N(pe,&quot;click&quot;,gt(vt(i[5])))],Me=!0)},p(O,[X]){(!K||X&amp;1)&amp;&amp;d!==(d=Ct(O[0].target_description)+&quot;&quot;)&amp;&amp;(c.innerHTML=d),(!K||X&amp;1)&amp;&amp;M!==(M=O[0].sampleCount+&quot;&quot;)&amp;&amp;_e(_,M),X&amp;4&amp;&amp;(q.checked=q.__value===O[2].viewMode),X&amp;4&amp;&amp;(U.checked=U.__value===O[2].viewMode),O[1]?z?(z.p(O,X),X&amp;2&amp;&amp;D(z,1)):(z=xt(O),z.c(),D(z,1),z.m(be,null)):z&amp;&amp;(Oe(),x(z,1,1,()=&gt;{z=null}),Ve())},i(O){K||(D(l.$$.fragment,O),D(Te.$$.fragment,O),D(z),K=!0)},o(O){x(l.$$.fragment,O),x(Te.$$.fragment,O),x(z),K=!1},d(O){O&amp;&amp;L(e),ue(l),ue(Te),z&amp;&amp;z.d(),Be.r(),Me=!1,oe(it)}}}function mn(i,e,t){let n;ge(i,Ge,f=&gt;t(2,n=f));let{session:s}=e;const l=new Date(s.startTime*1e3).toLocaleString(void 0,{dateStyle:&quot;long&quot;,timeStyle:&quot;medium&quot;}),r=s.cpuTime/s.duration;let o=!1;function c(f){t(1,o=!o)}const d=[[]];function v(){n.viewMode=this.__value,Ge.set(n)}function p(){n.viewMode=this.__value,Ge.set(n)}const m=()=&gt;t(1,o=!1);return i.$$set=f=&gt;{&quot;session&quot;in f&amp;&amp;t(0,s=f.session)},[s,o,n,l,r,c,v,d,p,m]}class pn extends fe{constructor(e){super(),de(this,e,mn,hn,re,{session:0})}}const vn=&quot;data:image/png;base64,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&quot;,$t=st({}),Bt=st({});function zt(i){return i&gt;.6?&quot;#FF4159&quot;:i&gt;.3?&quot;#F5A623&quot;:i&gt;.15?&quot;#D8CB2A&quot;:i&gt;.05?&quot;#7ED321&quot;:&quot;#58984f&quot;}function Wt(i,e,t){const n=i.slice();return n[21]=e[t],n}function qt(i){let e,t,n,s,l,r,o,c,d,v,p,m,f,g,w,E,C;return{c(){e=h(&quot;div&quot;),t=h(&quot;div&quot;),n=V(&quot;svg&quot;),s=V(&quot;path&quot;),l=b(),r=h(&quot;div&quot;),o=I(i[6]),c=b(),d=h(&quot;div&quot;),v=I(i[4]),p=b(),m=h(&quot;div&quot;),f=I(i[5]),g=b(),w=h(&quot;div&quot;),a(s,&quot;d&quot;,&quot;M.937-.016L5.793 4.84.937 9.696z&quot;),a(s,&quot;fill&quot;,i[8]),a(s,&quot;fill-rule&quot;,&quot;evenodd&quot;),a(s,&quot;fill-opacity&quot;,&quot;.582&quot;),a(n,&quot;width&quot;,&quot;6&quot;),a(n,&quot;height&quot;,&quot;10&quot;),a(t,&quot;class&quot;,&quot;frame-triangle svelte-7e9kco&quot;),Ee(t,&quot;rotate&quot;,!i[9]),j(t,&quot;visibility&quot;,i[0].children.length&gt;0?&quot;visible&quot;:&quot;hidden&quot;),a(r,&quot;class&quot;,&quot;time svelte-7e9kco&quot;),j(r,&quot;color&quot;,i[8]),j(r,&quot;font-weight&quot;,i[11]&lt;.15?500:600),a(d,&quot;class&quot;,&quot;name svelte-7e9kco&quot;),a(m,&quot;class&quot;,&quot;code-position svelte-7e9kco&quot;),a(e,&quot;class&quot;,&quot;frame-description svelte-7e9kco&quot;),a(e,&quot;role&quot;,&quot;button&quot;),a(e,&quot;tabindex&quot;,&quot;0&quot;),Ee(e,&quot;application-code&quot;,i[0].isApplicationCode),Ee(e,&quot;children-visible&quot;,!i[9]),j(e,&quot;padding-left&quot;,`${i[2]*35}px`),a(w,&quot;class&quot;,&quot;visual-guide svelte-7e9kco&quot;),j(w,&quot;left&quot;,`${i[2]*35+21}px`),j(w,&quot;background-color&quot;,i[8])},m(y,k){S(y,e,k),u(e,t),u(t,n),u(n,s),u(e,l),u(e,r),u(r,o),u(e,c),u(e,d),u(d,v),u(e,p),u(e,m),u(m,f),S(y,g,k),S(y,w,k),E||(C=[N(e,&quot;keydown&quot;,i[14]),N(e,&quot;click&quot;,gt(vt(i[12])))],E=!0)},p(y,k){k&amp;256&amp;&amp;a(s,&quot;fill&quot;,y[8]),k&amp;512&amp;&amp;Ee(t,&quot;rotate&quot;,!y[9]),k&amp;1&amp;&amp;j(t,&quot;visibility&quot;,y[0].children.length&gt;0?&quot;visible&quot;:&quot;hidden&quot;),k&amp;64&amp;&amp;_e(o,y[6]),k&amp;256&amp;&amp;j(r,&quot;color&quot;,y[8]),k&amp;16&amp;&amp;_e(v,y[4]),k&amp;32&amp;&amp;_e(f,y[5]),k&amp;1&amp;&amp;Ee(e,&quot;application-code&quot;,y[0].isApplicationCode),k&amp;512&amp;&amp;Ee(e,&quot;children-visible&quot;,!y[9]),k&amp;4&amp;&amp;j(e,&quot;padding-left&quot;,`${y[2]*35}px`),k&amp;4&amp;&amp;j(w,&quot;left&quot;,`${y[2]*35+21}px`),k&amp;256&amp;&amp;j(w,&quot;background-color&quot;,y[8])},d(y){y&amp;&amp;(L(e),L(g),L(w)),E=!1,oe(C)}}}function Ut(i){let e,t,n,s,l=i[0].group.frames.length-1+&quot;&quot;,r,o,c,d,v,p;return{c(){e=h(&quot;div&quot;),t=h(&quot;div&quot;),n=h(&quot;div&quot;),n.innerHTML=&#x27;&lt;svg width=&quot;6&quot; height=&quot;10&quot;&gt;&lt;path d=&quot;M.937-.016L5.793 4.84.937 9.696z&quot; fill=&quot;#FFF&quot; fill-rule=&quot;evenodd&quot; fill-opacity=&quot;.582&quot;&gt;&lt;/path&gt;&lt;/svg&gt;&#x27;,s=b(),r=I(l),o=I(&quot; frames hidden (&quot;),c=I(i[7]),d=I(&quot;)&quot;),a(n,&quot;class&quot;,&quot;group-triangle svelte-7e9kco&quot;),Ee(n,&quot;rotate&quot;,i[10]),a(t,&quot;class&quot;,&quot;group-header-button svelte-7e9kco&quot;),a(e,&quot;class&quot;,&quot;group-header svelte-7e9kco&quot;),a(e,&quot;role&quot;,&quot;button&quot;),a(e,&quot;tabindex&quot;,&quot;0&quot;),j(e,&quot;padding-left&quot;,`${i[2]*35}px`)},m(m,f){S(m,e,f),u(e,t),u(t,n),u(t,s),u(t,r),u(t,o),u(t,c),u(t,d),v||(p=[N(e,&quot;keydown&quot;,i[15]),N(e,&quot;click&quot;,gt(vt(i[13])))],v=!0)},p(m,f){f&amp;1024&amp;&amp;Ee(n,&quot;rotate&quot;,m[10]),f&amp;1&amp;&amp;l!==(l=m[0].group.frames.length-1+&quot;&quot;)&amp;&amp;_e(r,l),f&amp;128&amp;&amp;_e(c,m[7]),f&amp;4&amp;&amp;j(e,&quot;padding-left&quot;,`${m[2]*35}px`)},d(m){m&amp;&amp;L(e),v=!1,oe(p)}}}function Yt(i){let e,t=[],n=new Map,s,l=Ot(i[0].children);const r=o=&gt;o[21].uuid;for(let o=0;o&lt;l.length;o+=1){let c=Wt(i,l,o),d=r(c);n.set(d,t[o]=Xt(d,c))}return{c(){e=h(&quot;div&quot;);for(let o=0;o&lt;t.length;o+=1)t[o].c();a(e,&quot;class&quot;,&quot;children svelte-7e9kco&quot;)},m(o,c){S(o,e,c);for(let d=0;d&lt;t.length;d+=1)t[d]&amp;&amp;t[d].m(e,null);s=!0},p(o,c){c&amp;15&amp;&amp;(l=Ot(o[0].children),Oe(),t=Ni(t,c,r,1,o,l,n,e,Vi,Xt,null,Wt),Ve())},i(o){if(!s){for(let c=0;c&lt;l.length;c+=1)D(t[c]);s=!0}},o(o){for(let c=0;c&lt;t.length;c+=1)x(t[c]);s=!1},d(o){o&amp;&amp;L(e);for(let c=0;c&lt;t.length;c+=1)t[c].d()}}}function Xt(i,e){let t,n,s;return n=new Kt({props:{frame:e[21],rootFrame:e[1],indent:e[2]+(e[3]?1:0)}}),{key:i,first:null,c(){t=Mi(),we(n.$$.fragment),this.first=t},m(l,r){S(l,t,r),ce(n,l,r),s=!0},p(l,r){e=l;const o={};r&amp;1&amp;&amp;(o.frame=e[21]),r&amp;2&amp;&amp;(o.rootFrame=e[1]),r&amp;12&amp;&amp;(o.indent=e[2]+(e[3]?1:0)),n.$set(o)},i(l){s||(D(n.$$.fragment,l),s=!0)},o(l){x(n.$$.fragment,l),s=!1},d(l){l&amp;&amp;L(t),ue(n,l)}}}function gn(i){let e,t,n,s,l=i[3]&amp;&amp;qt(i),r=i[0].group&amp;&amp;i[0].group.rootFrame==i[0]&amp;&amp;!i[9]&amp;&amp;Ut(i),o=!i[9]&amp;&amp;i[0].children.length&gt;0&amp;&amp;Yt(i);return{c(){e=h(&quot;div&quot;),l&amp;&amp;l.c(),t=b(),r&amp;&amp;r.c(),n=b(),o&amp;&amp;o.c(),a(e,&quot;class&quot;,&quot;frame svelte-7e9kco&quot;)},m(c,d){S(c,e,d),l&amp;&amp;l.m(e,null),u(e,t),r&amp;&amp;r.m(e,null),u(e,n),o&amp;&amp;o.m(e,null),s=!0},p(c,[d]){c[3]?l?l.p(c,d):(l=qt(c),l.c(),l.m(e,t)):l&amp;&amp;(l.d(1),l=null),c[0].group&amp;&amp;c[0].group.rootFrame==c[0]&amp;&amp;!c[9]?r?r.p(c,d):(r=Ut(c),r.c(),r.m(e,n)):r&amp;&amp;(r.d(1),r=null),!c[9]&amp;&amp;c[0].children.length&gt;0?o?(o.p(c,d),d&amp;513&amp;&amp;D(o,1)):(o=Yt(c),o.c(),D(o,1),o.m(e,null)):o&amp;&amp;(Oe(),x(o,1,1,()=&gt;{o=null}),Ve())},i(c){s||(D(o),s=!0)},o(c){x(o),s=!1},d(c){c&amp;&amp;L(e),l&amp;&amp;l.d(),r&amp;&amp;r.d(),o&amp;&amp;o.d()}}}function Gt(){const i=&#x27;a:not([disabled]), button:not([disabled]), input[type=text]:not([disabled]), [tabindex]:not([disabled]):not([tabindex=&quot;-1&quot;])&#x27;,e=document.querySelector(&quot;.call-stack-view&quot;);if(!e)throw new Error(&quot;callStackElement not found&quot;);var t=Array.prototype.filter.call(e.querySelectorAll(i),function(n){return n.offsetWidth&gt;0||n.offsetHeight&gt;0||n===document.activeElement});return t}function jt(){const i=Gt();var e=i.indexOf(document.activeElement);if(e&gt;-1){var t=i[e+1];t&amp;&amp;t.focus()}}function Zt(){const i=Gt();var e=i.indexOf(document.activeElement);if(e&gt;-1){var t=i[e-1];t&amp;&amp;t.focus()}}function _n(i,e,t){let n,s,l,r,o;ge(i,Bt,_=&gt;t(16,l=_)),ge(i,$t,_=&gt;t(17,r=_)),ge(i,Z,_=&gt;t(18,o=_));let{frame:c}=e,{rootFrame:d}=e,{indent:v=0}=e,p;const m=c.time/d.time;let f,g;c.isSynthetic||c.filePathShort==null?g=&quot;&quot;:c.lineNo==null||c.lineNo===0?g=c.filePathShort:g=`${c.filePathShort}:${c.lineNo}`;let w,E=null;if(c.group){const _=c.group.libraries;_.length&lt;4?E=_.join(&quot;, &quot;):E=`${_[0]}, ${_[1]}, ${_[2]}...`}let C;C=zt(m);function y(_){k(c,!s,_.altKey)}function k(_,T,R=!0){if(Bt.update(B=&gt;({...B,[_.uuid]:T})),R)for(const B of _.children)k(B,T,!0),_.group&amp;&amp;_.group.rootFrame==_&amp;&amp;H(_.group.id,!T)}function H(_,T){$t.update(R=&gt;({...R,[_]:T}))}function W(){c.group&amp;&amp;H(c.group.id,!n)}function P(_){let T=!0;_.key===&quot;Enter&quot;||_.key===&quot; &quot;?y(_):_.key===&quot;ArrowLeft&quot;&amp;&amp;!s?k(c,!0,_.altKey):_.key===&quot;ArrowRight&quot;&amp;&amp;s?k(c,!1,_.altKey):_.key===&quot;ArrowUp&quot;?Zt():_.key===&quot;ArrowDown&quot;?jt():T=!1,T&amp;&amp;(_.preventDefault(),_.stopPropagation())}function M(_){let T=!0;_.key===&quot;Enter&quot;||_.key===&quot; &quot;?W():_.key===&quot;ArrowLeft&quot;&amp;&amp;c.group?H(c.group.id,!1):_.key===&quot;ArrowRight&quot;&amp;&amp;c.group?H(c.group.id,!0):_.key===&quot;ArrowUp&quot;?Zt():_.key===&quot;ArrowDown&quot;?jt():T=!1,T&amp;&amp;(_.preventDefault(),_.stopPropagation())}return i.$$set=_=&gt;{&quot;frame&quot;in _&amp;&amp;t(0,c=_.frame),&quot;rootFrame&quot;in _&amp;&amp;t(1,d=_.rootFrame),&quot;indent&quot;in _&amp;&amp;t(2,v=_.indent)},i.$$.update=()=&gt;{var _,T;if(i.$$.dirty&amp;131073&amp;&amp;(c.group?r[c.group.id??&quot;&quot;]||((_=c.group)==null?void 0:_.rootFrame)===c||c.children.filter(R=&gt;!R.group).length&gt;1?t(3,p=!0):t(3,p=!1):t(3,p=!0)),i.$$.dirty&amp;1&amp;&amp;(c.className?t(4,f=`${c.className}.${c.function}`):t(4,f=c.function)),i.$$.dirty&amp;262145)if(o.timeFormat===&quot;absolute&quot;)t(6,w=c.time.toLocaleString(void 0,{minimumFractionDigits:3,maximumFractionDigits:3}));else if(o.timeFormat===&quot;proportion&quot;)t(6,w=`${(m*100).toLocaleString(void 0,{minimumFractionDigits:1,maximumFractionDigits:1})}%`);else throw new Error(&quot;unknown timeFormat&quot;);i.$$.dirty&amp;131073&amp;&amp;t(10,n=r[((T=c.group)==null?void 0:T.id)??&quot;&quot;]===!0),i.$$.dirty&amp;65537&amp;&amp;t(9,s=l[c.uuid]===!0)},[c,d,v,p,f,g,w,E,C,s,n,m,y,W,P,M,l,r,o]}let Kt=class extends fe{constructor(e){super(),de(this,e,_n,gn,re,{frame:0,rootFrame:1,indent:2})}};function Qt(i,e,t){let n=i;for(const s of e)if(n=s(n,t),!n)return null;return n}const wn=&quot;\\0&quot;,bn=&quot;[await]&quot;,Ze=&quot;[self]&quot;,yn=[bn,Ze,&quot;[out-of-context]&quot;,&quot;[root]&quot;],Tn=&quot;c&quot;,An=&quot;h&quot;;class Ke{constructor(e,t){A(this,&quot;uuid&quot;,ot());A(this,&quot;identifier&quot;);A(this,&quot;_identifierParts&quot;);A(this,&quot;startTime&quot;);A(this,&quot;time&quot;,0);A(this,&quot;absorbedTime&quot;,0);A(this,&quot;group&quot;,null);A(this,&quot;attributes&quot;);A(this,&quot;_children&quot;,[]);A(this,&quot;parent&quot;,null);A(this,&quot;context&quot;);var l;this.identifier=e.identifier,this._identifierParts=this.identifier.split(wn),this.startTime=e.startTime??0,this.time=e.time??0,this.attributes=e.attributes??{},this.context=t;let n=this.startTime;const s=(l=e.children)==null?void 0:l.map(r=&gt;(r.startTime===void 0&amp;&amp;(r={...r,startTime:n},n+=r.time??0),n=r.startTime+(r.time??0),new Ke(r,t)));s&amp;&amp;this.addChildren(s)}cloneDeep(){return new Ke(this,this.context)}get children(){return this._children}addChild(e,t={}){if(e.removeFromParent(),e.parent=this,t.after){const n=this._children.indexOf(t.after);if(n==-1)throw new Error(&quot;After frame not found&quot;);this._children.splice(n+1,0,e)}else this._children.push(e)}addChildren(e,t={}){e=e.slice(),t.after?(e.slice().reverse(),e.forEach(s=&gt;this.addChild(s,t))):e.forEach(n=&gt;this.addChild(n,t))}removeFromParent(){if(this.parent){const e=this.parent._children.indexOf(this);this.parent._children.splice(e,1),this.parent=null}}getAttributes(e){return Object.keys(this.attributes).filter(n=&gt;n.startsWith(e)).map(n=&gt;({data:n.slice(1),time:this.attributes[n]}))}getAttributeValue(e){const t=this.getAttributes(e);if(!t||t.length==0)return null;let n=0;for(let s=0;s&lt;t.length;s++)t[s].time&gt;t[n].time&amp;&amp;(n=s);return t[n].data}get hasTracebackHide(){return this.getAttributeValue(An)==&quot;1&quot;}get function(){return this._identifierParts[0]}get filePath(){return this._identifierParts[1]??null}get lineNo(){const e=this._identifierParts[2];return e?parseInt(e):null}get isSynthetic(){return yn.includes(this.identifier)}get filePathShort(){return this.isSynthetic&amp;&amp;this.parent?this.parent.filePathShort:this.filePath?this.context.shortenPath(this.filePath):null}get isApplicationCode(){if(this.isSynthetic)return!1;const e=this.filePath;return!e||this.context.sysPrefixes.some(n=&gt;e.startsWith(n))?!1:e.startsWith(&quot;&lt;&quot;)?e.startsWith(&quot;&lt;ipython-input-&quot;)?!0:e==&quot;&lt;string&gt;&quot;||e==&quot;&lt;stdin&gt;&quot;?this.parent?this.parent.isApplicationCode:!0:!1:!0}get proportionOfParent(){return this.parent?this.time/this.parent.time:1}get className(){return this.getAttributeValue(Tn)??&quot;&quot;}get library(){const e=this.filePathShort;return e?/^[\\\\/.]*[^\\\\/.]*/.exec(e)[0]??&quot;&quot;:null}}class En{constructor(e){A(this,&quot;id&quot;);A(this,&quot;rootFrame&quot;);A(this,&quot;_frames&quot;,[]);this.id=ot(),this.rootFrame=e}addFrame(e){e.group&amp;&amp;e.group.removeFrame(e),this._frames.push(e),e.group=this}removeFrame(e){if(e.group!==this)throw new Error(&quot;Frame not in group.&quot;);const t=this._frames.indexOf(e);if(t===-1)throw new Error(&quot;Frame not found in group.&quot;);this._frames.splice(t,1),e.group=null}get frames(){return this._frames}get exitFrames(){const e=[];for(const t of this.frames){let n=!1;for(const s of t.children)if(s.group!=this){n=!0;break}n&amp;&amp;e.push(t)}return e}get libraries(){const e=[];for(const t of this.frames){const n=t.library;n&amp;&amp;(e.includes(n)||e.push(n))}return e}}function rt(i,e){const{replaceWith:t}=e,n=i.parent;if(!n)throw new Error(&quot;Cannot delete the root frame&quot;);if(t==&quot;children&quot;)n.addChildren(i.children,{after:i});else if(t==&quot;self_time&quot;)n.addChild(new Ke({identifier:Ze,time:i.time},n.context),{after:i});else if(t==&quot;nothing&quot;)n.absorbedTime+=i.time;else throw new Xi(t);i.removeFromParent(),Mt(i,!0)}function kn(i,e){if(i.parent!==e.parent)throw new Error(&quot;Both frames must have the same parent.&quot;);e.absorbedTime+=i.absorbedTime,e.time+=i.time,Object.entries(i.attributes).forEach(([t,n])=&gt;{e.attributes[t]!==void 0?e.attributes[t]+=n:e.attributes[t]=n}),e.addChildren(i.children),i.removeFromParent(),Mt(i,!1)}function Mt(i,e){if(e&amp;&amp;i.children&amp;&amp;i.children.forEach(t=&gt;{Mt(t,!0)}),i.group){const t=i.group;t.removeFrame(i),t.frames.length===1&amp;&amp;t.removeFrame(t.frames[0])}}function Ft(i,e){if(!i)return null;for(const t of i.children)Ft(t),t.filePath&amp;&amp;t.filePath.includes(&quot;&lt;frozen importlib._bootstrap&quot;)&amp;&amp;rt(t,{replaceWith:&quot;children&quot;});return i}function Pt(i,e){if(!i)return null;for(const t of i.children)Pt(t),t.hasTracebackHide&amp;&amp;rt(t,{replaceWith:&quot;children&quot;});return i}function Jt(i,e){if(!i)return null;const t={};for(const n of i.children.slice())if(t[n.identifier]){const s=t[n.identifier];kn(n,s)}else t[n.identifier]=n;return i.children.forEach(n=&gt;Jt(n)),i._children.sort((n,s)=&gt;s.time-n.time),i}function ei(i,e){if(!i)return null;const t=e.hideRegex,n=e.showRegex;function s(r){const o=r.filePath||&quot;&quot;,c=n&amp;&amp;new RegExp(n).test(o),d=t&amp;&amp;new RegExp(t).test(o);return c?!1:d?!0:!r.isApplicationCode}function l(r,o){o.addFrame(r),r.children.forEach(c=&gt;{s(c)&amp;&amp;l(c,o)})}return i.children.forEach(r=&gt;{if(!r.group&amp;&amp;s(r)&amp;&amp;r.children.some(s)){const o=new En(r);l(r,o)}ei(r,e)}),i}function ti(i,e,t=!0){if(!i)return null;let n=null;for(const s of i.children)s.identifier===Ze?n?(n.time+=s.time,s.removeFromParent()):n=s:n=null;return t&amp;&amp;i.children.forEach(s=&gt;ti(s,e,!0)),i}function ii(i,e){return i?(i.children.length===1&amp;&amp;i.children[0].identifier===Ze&amp;&amp;rt(i.children[0],{replaceWith:&quot;nothing&quot;}),i.children.forEach(t=&gt;ii(t)),i):null}function ni(i,e,t=null){if(!i)return null;t===null&amp;&amp;(t=i.time,t&lt;=0&amp;&amp;(t=1e-44));const n=e.filterThreshold??.01;for(const s of i.children.slice())s.time/t&lt;n&amp;&amp;rt(s,{replaceWith:&quot;nothing&quot;});return i.children.forEach(s=&gt;ni(s,e,t)),i}function si(i,e){if(!i)return null;const t=o=&gt;en(o,c=&gt;c.time),n=o=&gt;{var c;return((c=o.filePath)==null?void 0:c.includes(&quot;pyinstrument/__main__.py&quot;))&amp;&amp;o.children.length&gt;0},s=o=&gt;{var c;return o.proportionOfParent&gt;.8&amp;&amp;((c=o.filePath)==null?void 0:c.includes(&quot;&lt;string&gt;&quot;))&amp;&amp;o.children.length&gt;0},l=o=&gt;{var c;return o.proportionOfParent&gt;.8&amp;&amp;(new RegExp(&quot;.*runpy.py&quot;).test(o.filePath??&quot;&quot;)||((c=o.filePath)==null?void 0:c.includes(&quot;&lt;frozen runpy&gt;&quot;)))&amp;&amp;o.children.length&gt;0};let r=i;if(!n(r)||(r=t(r.children),!s(r))||(r=t(r.children),!l(r)))return i;for(;l(r);)r=t(r.children);return r.removeFromParent(),r}function oi(i,e){return i?(i.children.forEach(t=&gt;oi(t)),i.group&amp;&amp;i.group.frames.length&lt;3&amp;&amp;i.group.removeFrame(i),i):null}function Cn(i){let e,t,n;return t=new Kt({props:{frame:i[3],rootFrame:i[3]}}),{c(){e=h(&quot;div&quot;),we(t.$$.fragment),a(e,&quot;class&quot;,&quot;call-stack-margins svelte-1hebm9u&quot;)},m(s,l){S(s,e,l),ce(t,e,null),n=!0},p(s,l){const r={};l&amp;8&amp;&amp;(r.frame=s[3]),l&amp;8&amp;&amp;(r.rootFrame=s[3]),t.$set(r)},i(s){n||(D(t.$$.fragment,s),n=!0)},o(s){x(t.$$.fragment,s),n=!1},d(s){s&amp;&amp;L(e),ue(t)}}}function Mn(i){let e;return{c(){e=h(&quot;div&quot;),e.innerHTML=&#x27;&lt;div class=&quot;error&quot;&gt;All frames were filtered out.&lt;/div&gt;&#x27;,a(e,&quot;class&quot;,&quot;margins&quot;)},m(t,n){S(t,e,n)},p:F,i:F,o:F,d(t){t&amp;&amp;L(e)}}}function Fn(i){let e,t,n,s,l,r,o;const c=[Mn,Cn],d=[];function v(p,m){return p[3]?1:0}return n=v(i),s=d[n]=c[n](i),{c(){e=h(&quot;div&quot;),t=h(&quot;div&quot;),s.c(),l=b(),r=h(&quot;div&quot;),a(t,&quot;class&quot;,&quot;scroll-inner svelte-1hebm9u&quot;),a(r,&quot;class&quot;,&quot;scroll-size-fixer svelte-1hebm9u&quot;),a(e,&quot;class&quot;,&quot;call-stack-view svelte-1hebm9u&quot;)},m(p,m){S(p,e,m),u(e,t),d[n].m(t,null),i[7](t),u(e,l),u(e,r),i[8](r),i[9](e),o=!0},p(p,[m]){let f=n;n=v(p),n===f?d[n].p(p,m):(Oe(),x(d[f],1,1,()=&gt;{d[f]=null}),Ve(),s=d[n],s?s.p(p,m):(s=d[n]=c[n](p),s.c()),D(s,1),s.m(t,null))},i(p){o||(D(s),o=!0)},o(p){x(s),o=!1},d(p){p&amp;&amp;L(e),d[n].d(),i[7](null),i[8](null),i[9](null)}}}function Pn(i,e,t){let n,{session:s}=e;const l=Vt([Z],([f])=&gt;{const g=[f.removeImportlib?Ft:null,f.removeTracebackHide?Pt:null,ti,Jt,ii,f.removeIrrelevant?ni:null,f.removePyinstrument?si:null,f.collapseMode!==&quot;disabled&quot;?ei:null,oi].filter(E=&gt;E!==null),w={filterThreshold:f.removeIrrelevantThreshold,hideRegex:f.collapseMode==&quot;custom&quot;?f.collapseCustomHide:void 0,showRegex:f.collapseMode==&quot;custom&quot;?f.collapseCustomShow:void 0};return{processors:g,options:w}});ge(i,l,f=&gt;t(6,n=f));let r,o,c;bt(()=&gt;{let f=0;const g=r;if(!g)throw new Error(&quot;element not set&quot;);if(!o)throw new Error(&quot;scrollInnerElement not set&quot;);if(!c)throw new Error(&quot;scrollSizeFixerElement not set&quot;);const w=new ResizeObserver(()=&gt;{const C=o.getBoundingClientRect().height;C&gt;f&amp;&amp;(f=C,t(2,c.style.top=`${f-1}px`,c))});w.observe(o);let E;return g.addEventListener(&quot;scroll&quot;,E=()=&gt;{let C=g.scrollTop+g.clientHeight;const y=o.getBoundingClientRect().height;C&lt;y&amp;&amp;(C=y),C&lt;f&amp;&amp;(f=C,t(2,c.style.top=`${f-1}px`,c))}),E(),()=&gt;{w.disconnect(),g.removeEventListener(&quot;scroll&quot;,E)}});let d;function v(f){ke[f?&quot;unshift&quot;:&quot;push&quot;](()=&gt;{o=f,t(1,o)})}function p(f){ke[f?&quot;unshift&quot;:&quot;push&quot;](()=&gt;{c=f,t(2,c)})}function m(f){ke[f?&quot;unshift&quot;:&quot;push&quot;](()=&gt;{r=f,t(0,r)})}return i.$$set=f=&gt;{&quot;session&quot;in f&amp;&amp;t(5,s=f.session)},i.$$.update=()=&gt;{i.$$.dirty&amp;96&amp;&amp;t(3,d=Qt(s.rootFrame.cloneDeep(),n.processors,n.options))},[r,o,c,d,l,s,n,v,p,m]}class Rn extends fe{constructor(e){super(),de(this,e,Pn,Fn,re,{session:5})}}class In{constructor(e){A(this,&quot;mediaQueryList&quot;,null);this.onDevicePixelRatioChanged=e,this._onChange=this._onChange.bind(this),this.createMediaQueryList()}createMediaQueryList(){this.removeMediaQueryList();let e=`(resolution: ${window.devicePixelRatio}dppx)`;this.mediaQueryList=matchMedia(e),this.mediaQueryList.addEventListener(&quot;change&quot;,this._onChange)}removeMediaQueryList(){var e;(e=this.mediaQueryList)==null||e.removeEventListener(&quot;change&quot;,this._onChange),this.mediaQueryList=null}_onChange(e){this.onDevicePixelRatioChanged(),this.createMediaQueryList()}destroy(){this.removeMediaQueryList()}}class Ln{constructor(e){A(this,&quot;canvas&quot;);A(this,&quot;_size_observer&quot;);A(this,&quot;_devicePixelRatioObserver&quot;);A(this,&quot;drawAnimationRequest&quot;,null);this.container=e,getComputedStyle(e).position!=&quot;absolute&quot;&amp;&amp;(e.style.position=&quot;relative&quot;),this.canvas=document.createElement(&quot;canvas&quot;),this.canvas.style.position=&quot;absolute&quot;,this.canvas.style.left=&quot;0&quot;,this.canvas.style.top=&quot;0&quot;,this.canvas.style.width=&quot;100%&quot;,this.canvas.style.height=&quot;100%&quot;,this.container.appendChild(this.canvas),this.setCanvasSize=this.setCanvasSize.bind(this),this._size_observer=new ResizeObserver(this.setCanvasSize),this._size_observer.observe(e),this._devicePixelRatioObserver=new In(this.setCanvasSize),window.requestAnimationFrame(()=&gt;{this.setCanvasSize()})}destroy(){this._size_observer.disconnect(),this._devicePixelRatioObserver.destroy(),this.canvas.remove(),this.drawAnimationRequest!==null&amp;&amp;(window.cancelAnimationFrame(this.drawAnimationRequest),this.drawAnimationRequest=null)}setNeedsRedraw(){this.drawAnimationRequest===null&amp;&amp;(this.drawAnimationRequest=window.requestAnimationFrame(()=&gt;{this.drawAnimationRequest=null,this.canvasViewRedraw()}))}redrawIfNeeded(){this.drawAnimationRequest!==null&amp;&amp;(window.cancelAnimationFrame(this.drawAnimationRequest),this.drawAnimationRequest=null,this.canvasViewRedraw())}canvasViewRedraw(){const e=this.canvas.getContext(&quot;2d&quot;);e&amp;&amp;(e.resetTransform(),e.scale(window.devicePixelRatio,window.devicePixelRatio),this.redraw(e,{width:this.canvas.width/window.devicePixelRatio,height:this.canvas.height/window.devicePixelRatio}))}get width(){return this.canvas.width/window.devicePixelRatio}get height(){return this.canvas.height/window.devicePixelRatio}setCanvasSize(){const e=window.devicePixelRatio;this.canvas.height=this.container.clientHeight*e,this.canvas.width=this.container.clientWidth*e,this.canvasViewRedraw()}}function Sn(i){let e,t=i[2]==&quot;self&quot;?&quot;self&quot;:&quot;time&quot;,n,s,l,r=i[3](i[0].time)+&quot;&quot;;return{c(){e=h(&quot;div&quot;),n=I(t),s=b(),l=h(&quot;div&quot;),a(e,&quot;class&quot;,&quot;label svelte-ci3g2p&quot;),a(l,&quot;class&quot;,&quot;time-val svelte-ci3g2p&quot;)},m(o,c){S(o,e,c),u(e,n),S(o,s,c),S(o,l,c),l.innerHTML=r},p(o,c){c&amp;4&amp;&amp;t!==(t=o[2]==&quot;self&quot;?&quot;self&quot;:&quot;time&quot;)&amp;&amp;_e(n,t),c&amp;1&amp;&amp;r!==(r=o[3](o[0].time)+&quot;&quot;)&amp;&amp;(l.innerHTML=r)},d(o){o&amp;&amp;(L(e),L(s),L(l))}}}function Dn(i){let e,t,n,s,l=i[3](i[0].time)+&quot;&quot;,r,o=i[0].selfTime/i[0].time&gt;.001&amp;&amp;ri(i);return{c(){e=h(&quot;div&quot;),e.textContent=&quot;time&quot;,t=b(),n=h(&quot;div&quot;),s=h(&quot;div&quot;),r=b(),o&amp;&amp;o.c(),a(e,&quot;class&quot;,&quot;label svelte-ci3g2p&quot;),a(s,&quot;class&quot;,&quot;time-val svelte-ci3g2p&quot;),a(n,&quot;class&quot;,&quot;time-row svelte-ci3g2p&quot;)},m(c,d){S(c,e,d),S(c,t,d),S(c,n,d),u(n,s),s.innerHTML=l,u(n,r),o&amp;&amp;o.m(n,null)},p(c,d){d&amp;1&amp;&amp;l!==(l=c[3](c[0].time)+&quot;&quot;)&amp;&amp;(s.innerHTML=l),c[0].selfTime/c[0].time&gt;.001?o?o.p(c,d):(o=ri(c),o.c(),o.m(n,null)):o&amp;&amp;(o.d(1),o=null)},d(c){c&amp;&amp;(L(e),L(t),L(n)),o&amp;&amp;o.d()}}}function ri(i){let e,t,n,s=i[3](i[0].selfTime)+&quot;&quot;;return{c(){e=h(&quot;div&quot;),e.textContent=&quot;self&quot;,t=b(),n=h(&quot;div&quot;),a(e,&quot;class&quot;,&quot;label svelte-ci3g2p&quot;),a(n,&quot;class&quot;,&quot;time-val svelte-ci3g2p&quot;)},m(l,r){S(l,e,r),S(l,t,r),S(l,n,r),n.innerHTML=s},p(l,r){r&amp;1&amp;&amp;s!==(s=l[3](l[0].selfTime)+&quot;&quot;)&amp;&amp;(n.innerHTML=s)},d(l){l&amp;&amp;(L(e),L(t),L(n))}}}function Hn(i){let e,t,n=i[0].name+&quot;&quot;,s,l,r,o,c,d,v,p,m,f;function g(C,y){return C[2]==&quot;both&quot;?Dn:Sn}let w=g(i),E=w(i);return{c(){e=h(&quot;div&quot;),t=h(&quot;div&quot;),s=I(n),l=b(),E.c(),r=b(),o=h(&quot;div&quot;),o.textContent=&quot;loc&quot;,c=b(),d=h(&quot;div&quot;),v=h(&quot;div&quot;),m=b(),f=new Ri(!1),a(t,&quot;class&quot;,&quot;name svelte-ci3g2p&quot;),a(o,&quot;class&quot;,&quot;label svelte-ci3g2p&quot;),a(v,&quot;class&quot;,&quot;location-color svelte-ci3g2p&quot;),a(v,&quot;style&quot;,p=`background: ${i[0].locationColor}`),f.a=null,a(d,&quot;class&quot;,&quot;location-row&quot;),a(e,&quot;class&quot;,&quot;timeline-canvas-view-tooltip svelte-ci3g2p&quot;),a(e,&quot;style&quot;,`font: ${ai}; max-width: ${Vn}px;`)},m(C,y){S(C,e,y),u(e,t),u(t,s),u(e,l),E.m(e,null),u(e,r),u(e,o),u(e,c),u(e,d),u(d,v),u(d,m),f.m(i[1],d)},p(C,[y]){y&amp;1&amp;&amp;n!==(n=C[0].name+&quot;&quot;)&amp;&amp;_e(s,n),w===(w=g(C))&amp;&amp;E?E.p(C,y):(E.d(1),E=w(C),E&amp;&amp;(E.c(),E.m(e,r))),y&amp;1&amp;&amp;p!==(p=`background: ${C[0].locationColor}`)&amp;&amp;a(v,&quot;style&quot;,p),y&amp;2&amp;&amp;f.p(C[1])},i:F,o:F,d(C){C&amp;&amp;L(e),E.d()}}}function li(i){return i.selfTime==i.time?&quot;self&quot;:i.selfTime/i.time&gt;.001?&quot;both&quot;:&quot;time&quot;}function On(i,e){i.font=ai;const t=li(e)==&quot;both&quot;?140:70,n=i.measureText(e.name).width,s=i.measureText(e.location).width+46;let r=Math.max(t,n,s)+20;return r&gt;310&amp;&amp;(r=310),r}const Vn=310,ai=&quot;400 13px Source Sans Pro, sans-serif&quot;;function Nn(i,e,t){let{f:n}=e,s,l;function r(o){return`&lt;span style=&quot;color: ${zt(o/n.totalTime)}&quot;&gt;${o.toFixed(3)}&lt;/span&gt;`}return i.$$set=o=&gt;{&quot;f&quot;in o&amp;&amp;t(0,n=o.f)},i.$$.update=()=&gt;{i.$$.dirty&amp;1&amp;&amp;t(1,s=Ct(n.location)),i.$$.dirty&amp;1&amp;&amp;t(2,l=li(n))},[n,s,l,r]}class xn extends fe{constructor(e){super(),de(this,e,Nn,Hn,re,{f:0})}}const $n=&quot;#212325&quot;,ci=18,Bn=17,Ie=28,lt=17,ui=29,zn=[&quot;#3475BA&quot;,&quot;#318DBC&quot;,&quot;#47A298&quot;,&quot;#8AAE5D&quot;,&quot;#C1A731&quot;,&quot;#C07210&quot;,&quot;#B84210&quot;,&quot;#B53134&quot;,&quot;#9A3586&quot;,&quot;#4958B5&quot;,&quot;#3475BA&quot;].map(Ki);class Wn extends Ln{constructor(t){super(t);A(this,&quot;zoom&quot;,1);A(this,&quot;startT&quot;,0);A(this,&quot;yOffset&quot;,0);A(this,&quot;frames&quot;,[]);A(this,&quot;isZoomedIn&quot;,!1);A(this,&quot;tooltipContainer&quot;);A(this,&quot;tooltipComponent&quot;,null);A(this,&quot;_rootFrame&quot;,null);A(this,&quot;maxDepth&quot;,0);A(this,&quot;tooltipLocation&quot;,null);A(this,&quot;lastDrawWidth&quot;,0);A(this,&quot;lastDrawHeight&quot;,0);A(this,&quot;_libraryOrder&quot;,null);A(this,&quot;_colors&quot;,[]);A(this,&quot;_frameMaxT&quot;);A(this,&quot;mouseLocation&quot;,null);A(this,&quot;mouseDownLocation&quot;,null);A(this,&quot;touches&quot;,{});this.onWheel=this.onWheel.bind(this),this.onMouseMove=this.onMouseMove.bind(this),this.onMouseLeave=this.onMouseLeave.bind(this),this.onMouseDown=this.onMouseDown.bind(this),this.windowMouseUp=this.windowMouseUp.bind(this),this.onTouchstart=this.onTouchstart.bind(this),this.onTouchmove=this.onTouchmove.bind(this),this.onTouchend=this.onTouchend.bind(this),this.onTouchcancel=this.onTouchend.bind(this),this.canvas.addEventListener(&quot;wheel&quot;,this.onWheel),this.canvas.addEventListener(&quot;mousemove&quot;,this.onMouseMove),this.canvas.addEventListener(&quot;mouseleave&quot;,this.onMouseLeave),this.canvas.addEventListener(&quot;mousedown&quot;,this.onMouseDown),this.canvas.addEventListener(&quot;touchstart&quot;,this.onTouchstart),this.canvas.addEventListener(&quot;touchmove&quot;,this.onTouchmove),this.canvas.addEventListener(&quot;touchend&quot;,this.onTouchend),this.canvas.addEventListener(&quot;touchcancel&quot;,this.onTouchcancel),this.tooltipContainer=document.createElement(&quot;div&quot;),this.tooltipContainer.style.position=&quot;absolute&quot;,this.tooltipContainer.style.pointerEvents=&quot;none&quot;,this.container.appendChild(this.tooltipContainer)}destroy(){this.canvas.removeEventListener(&quot;wheel&quot;,this.onWheel),this.canvas.removeEventListener(&quot;mousemove&quot;,this.onMouseMove),this.canvas.removeEventListener(&quot;mouseleave&quot;,this.onMouseLeave),this.canvas.removeEventListener(&quot;mousedown&quot;,this.onMouseDown),this.canvas.removeEventListener(&quot;touchstart&quot;,this.onTouchstart),this.canvas.removeEventListener(&quot;touchmove&quot;,this.onTouchmove),this.canvas.removeEventListener(&quot;touchend&quot;,this.onTouchend),this.canvas.removeEventListener(&quot;touchcancel&quot;,this.onTouchcancel),this.tooltipContainer.remove(),super.destroy()}setRootFrame(t){this._rootFrame=t,this.frames=[],this._frameMaxT=void 0,this.maxDepth=0,this._collectFrames(t,0),this.fitContents(),this.setNeedsRedraw()}_collectFrames(t,n){this.frames.push({frame:t,depth:n,isApplicationCode:t.isApplicationCode,library:t.library,className:t.className,filePathShort:t.filePathShort}),this.maxDepth=Math.max(this.maxDepth,n);for(const s of t.children)s.identifier!==Ze&amp;&amp;this._collectFrames(s,n+1)}updateTooltip(t,n){var s;if(n){const l={name:this.frameName(n),time:n.frame.time,selfTime:this.frameSelfTime(n),totalTime:((s=this._rootFrame)==null?void 0:s.time)??1e-12,location:`${n.filePathShort}:${n.frame.lineNo}`,locationColor:this.colorForFrame(n)};if(this.tooltipComponent?this.tooltipComponent.$set({f:l}):this.tooltipComponent=new xn({target:this.tooltipContainer,props:{f:l}}),this.tooltipLocation){const r={x:this.tooltipLocation.x+12,y:this.tooltipLocation.y+12},o=On(t,l),c=this.width-10-o;r.x&gt;c&amp;&amp;(r.x=c);const v=this.height-10-60;r.y&gt;v&amp;&amp;(r.y=v),this.tooltipContainer.style.left=`${r.x}px`,this.tooltipContainer.style.top=`${r.y}px`}}n||this.tooltipComponent&amp;&amp;(this.tooltipComponent.$destroy(),this.tooltipComponent=null)}redraw(t,n){const{width:s,height:l}=n;(s!==this.lastDrawWidth||l!==this.lastDrawHeight)&amp;&amp;(this.isZoomedIn?this.clampViewport():this.fitContents()),this.lastDrawWidth=s,this.lastDrawHeight=l,t.fillStyle=$n,t.fillRect(0,0,s,l),this.drawAxes(t);for(const d of this.frames)this.drawFrame(t,d);t.globalAlpha=1;const r=this.maxYOffset&gt;0||this.isZoomedIn,o=!!this.mouseDownLocation;this.canvas.style.cursor=o&amp;&amp;r?&quot;grabbing&quot;:&quot;initial&quot;,t.fillStyle=&quot;red&quot;,t.font=&#x27;23px &quot;Source Sans Pro&quot;, sans-serif&#x27;;let c=null;!o&amp;&amp;this.tooltipLocation&amp;&amp;(c=this.hitTest(this.tooltipLocation)),this.updateTooltip(t,c)}drawAxes(t){const n=Math.max(800,this.width)/this.zoom;if(n==0)return;const s=Math.log10(n);let l=Math.ceil(s)+2;l&lt;0&amp;&amp;(l=0);const r=Math.ceil(s)-3,o=c=&gt;xe(c,{from:[s,s-3],to:[.71,0],clamp:!0});for(let c=r;c&lt;l;c++){let d=o(c);d=Math.max(0,Math.min(1,d)),d=Math.pow(d,2),this.drawAxis(t,Math.pow(10,c),d)}this.drawAxis(t,Math.pow(10,l),o(l),!0)}drawAxis(t,n,s,l=!1){t.fillStyle=&quot;white&quot;;const r=Math.floor(this.startT/n)*n,o=this.startT+this.width/this.zoom,c=Math.max(0,Math.ceil(-Math.log10(n)));for(let d=r;d&lt;o;d+=n){const v=this.xForT(d);if(Math.round(d/n)%10===0&amp;&amp;!l)continue;t.globalAlpha=s;const m=lt-this.yOffset;t.fillRect(v,m,1,this.height-m);const f=xe(s,{from:[.12,.25],to:[0,.5],clamp:!0});if(f&gt;.01){t.globalAlpha=f,t.font=&#x27;13px &quot;Source Sans Pro&quot;, sans-serif&#x27;;let g=d.toFixed(c);g==&quot;0&quot;&amp;&amp;(g=&quot;0s&quot;);let w=m+10;t.fillText(g,v+3,w);let E=this.height+lt+10-this.yOffset;E&lt;this.height-3&amp;&amp;(E=this.height-3),t.fillText(g,v+3,E)}t.globalAlpha=1}}drawFrame(t,n){const{x:s,y:l,w:r,h:o}=this.frameDims(n);if(s+r&lt;0||s&gt;this.width)return;if(t.fillStyle=this.colorForFrame(n),t.globalAlpha=n.isApplicationCode?1:.5,r&lt;2){t.fillRect(s,l,r,o);return}let d=this.frameName(n);const v=Math.floor(r/3.3);if(d.length&gt;v&amp;&amp;(d=d.substring(0,v)),d.length==0){t.fillRect(s,l,r,o);return}t.save(),t.beginPath(),t.rect(s,l,r,o),t.fill(),t.clip(),t.font=&#x27;13px &quot;Source Sans Pro&quot;, sans-serif&#x27;,t.fillStyle=&quot;white&quot;;let p=s;p&lt;0&amp;&amp;(p=0),t.fillText(d,p+2,l+13),t.restore()}_assignLibraryOrder(){const t={};for(const s of this.frames){const r=s.frame.library??&quot;&quot;;t[r]=(t[r]||0)+s.frame.time}const n=Object.keys(t);n.sort((s,l)=&gt;t[l]-t[s]),this._libraryOrder=n}colorForLibraryIndex(t){if(this._colors[t]!==void 0)return this._colors[t];const n=Math.pow(2,Math.ceil(Math.log2(t+1))),l=(2*t-n+1)/n,r=Gi(zn,l);return this._colors[t]=r,r}libraryIndexForFrame(t){this._libraryOrder||this._assignLibraryOrder();const n=t.library||&quot;&quot;;let s=this._libraryOrder.indexOf(n);return s===-1&amp;&amp;(s=this._libraryOrder.length,this._libraryOrder.push(n)),s}colorForFrame(t){const n=this.libraryIndexForFrame(t);return this.colorForLibraryIndex(n)}get frameMaxT(){return this._frameMaxT===void 0&amp;&amp;(this._frameMaxT=this.frames.reduce((t,n)=&gt;Math.max(t,n.frame.startTime+n.frame.time),0)),this._frameMaxT}get maxYOffset(){return Math.max(0,(this.maxDepth+1)*ci+lt*2+ui-this.height)}get minZoom(){return(this.width-2*Ie)/this.frameMaxT}get maxZoom(){return 6666666666666667e-8}fitContents(){this.startT=0,this.zoom=this.minZoom,this.isZoomedIn=!1}clampViewport(){this.zoom&lt;this.minZoom?(this.zoom=this.minZoom,this.isZoomedIn=!1):this.isZoomedIn=!0,this.zoom&gt;this.maxZoom&amp;&amp;(this.zoom=this.maxZoom),this.startT&lt;0&amp;&amp;(this.startT=0);const t=this.frameMaxT-(this.width-2*Ie)/this.zoom;this.startT&gt;t&amp;&amp;(this.startT=t),this.yOffset&lt;0&amp;&amp;(this.yOffset=0),this.yOffset&gt;this.maxYOffset&amp;&amp;(this.yOffset=this.maxYOffset)}frameDims(t){const n=t.depth*ci+lt+ui-this.yOffset,s=Bn;let l=this.xForT(t.frame.startTime),o=this.xForT(t.frame.startTime+t.frame.time)-l;return o&lt;1&amp;&amp;(o=1),o&gt;1&amp;&amp;(o-=xe(o,{from:[1,3],to:[0,1],clamp:!0})),{x:l,y:n,w:o,h:s}}xForT(t){return(t-this.startT)*this.zoom+Ie}tForX(t){return(t-Ie)/this.zoom+this.startT}frameName(t){let n;return t.className?n=`${t.className}.${t.frame.function}`:t.frame.function==&quot;&lt;module&gt;&quot;?n=t.filePathShort??t.frame.filePath??&quot;&quot;:n=t.frame.function,n}frameSelfTime(t){let n=t.frame.time;const s=t.frame.children.filter(l=&gt;!l.isSynthetic);for(const l of s)n-=l.time;return n}hitTest(t){for(const n of this.frames){const{x:s,y:l,w:r,h:o}=this.frameDims(n);if(t.x&gt;=s&amp;&amp;t.x&lt;=s+r&amp;&amp;t.y&gt;=l&amp;&amp;t.y&lt;=l+o)return n}return null}onWheel(t){const n=t.ctrlKey||t.metaKey,s=n?.01:.0023,l=this.tForX(t.offsetX);this.zoom*=1-t.deltaY*s,this.clampViewport(),this.startT=l-(t.offsetX-Ie)/this.zoom,n||(this.startT+=t.deltaX/this.zoom),this.clampViewport(),this.setNeedsRedraw(),t.preventDefault()}onMouseMove(t){const n={x:t.offsetX,y:t.offsetY},s=this.mouseLocation;if(this.mouseLocation=n,s&amp;&amp;this.mouseDownLocation){const l={x:n.x-s.x,y:n.y-s.y};this.startT-=l.x/this.zoom,this.yOffset-=l.y,this.clampViewport()}this.tooltipLocation=n,this.setNeedsRedraw()}onMouseLeave(t){this.mouseLocation=null,this.tooltipLocation=null,this.setNeedsRedraw()}onMouseDown(t){(t.button===0||t.button===1)&amp;&amp;(this.mouseDownLocation={x:t.offsetX,y:t.offsetY},window.addEventListener(&quot;mouseup&quot;,this.windowMouseUp),this.setNeedsRedraw())}windowMouseUp(t){window.removeEventListener(&quot;mouseup&quot;,this.windowMouseUp),this.mouseDownLocation=null,this.setNeedsRedraw()}onTouchstart(t){t.preventDefault(),t.stopPropagation();for(const n of Array.from(t.changedTouches))this.touches[n.identifier]={x:n.clientX,y:n.clientY,downT:this.tForX(n.clientX),startDate:Date.now(),downX:n.clientX,downY:n.clientY}}onTouchmove(t){t.preventDefault(),t.stopPropagation();let n=0;for(const l of Array.from(t.changedTouches)){const r=this.touches[l.identifier];r&amp;&amp;(n+=l.clientY-r.y,this.touches[l.identifier]={...r,x:l.clientX,y:l.clientY})}const s=n/Object.keys(this.touches).length;this.yOffset-=s,this.adjustXAxisForTouches(),this.setNeedsRedraw()}onTouchend(t){t.preventDefault(),t.stopPropagation();for(const n of Array.from(t.changedTouches))delete this.touches[n.identifier];this.setNeedsRedraw()}onTouchcancel(t){t.preventDefault(),t.stopPropagation();for(const n of Array.from(t.changedTouches))delete this.touches[n.identifier];this.setNeedsRedraw()}adjustXAxisForTouches(){const t=Object.keys(this.touches).map(Number);if(t.length!=0){if(t.length==1){const n=this.touches[t[0]];this.startT=n.downT-(n.x-Ie)/this.zoom}if(t.length&gt;=2){const n=this.touches[t[0]],s=this.touches[t[1]],l=(s.x-n.x)/(s.downT-n.downT),r=n.downT-(n.x-Ie)/l;this.startT=r,this.zoom=l}this.clampViewport()}}}function qn(i){let e;return{c(){e=h(&quot;div&quot;),e.innerHTML=&quot;&quot;,a(e,&quot;class&quot;,&quot;timeline svelte-p2tt1k&quot;)},m(t,n){S(t,e,n),i[6](e)},p:F,i:F,o:F,d(t){t&amp;&amp;L(e),i[6](null)}}}function Un(i,e,t){let n,{session:s}=e;const l=Vt([je],([v])=&gt;({processors:[v.removeImportlib?Ft:null,v.removeTracebackHide?Pt:null,v.removePyinstrument?si:null].filter(f=&gt;f!==null),options:{}}));ge(i,l,v=&gt;t(5,n=v));let r,o=null,c=null;Ii(()=&gt;{c==null||c.destroy()});function d(v){ke[v?&quot;unshift&quot;:&quot;push&quot;](()=&gt;{o=v,t(0,o)})}return i.$$set=v=&gt;{&quot;session&quot;in v&amp;&amp;t(2,s=v.session)},i.$$.update=()=&gt;{i.$$.dirty&amp;36&amp;&amp;t(3,r=Qt(s.rootFrame.cloneDeep(),n.processors,n.options)),i.$$.dirty&amp;1&amp;&amp;o&amp;&amp;t(4,c=new Wn(o)),i.$$.dirty&amp;24&amp;&amp;r&amp;&amp;c&amp;&amp;c.setRootFrame(r)},[o,l,s,r,c,n,d]}class Yn extends fe{constructor(e){super(),de(this,e,Un,qn,re,{session:2})}}function Xn(i){let e,t,n=i[1].viewMode+&quot;&quot;,s;return{c(){e=h(&quot;div&quot;),t=I(&quot;Unknown view mode: &quot;),s=I(n),a(e,&quot;class&quot;,&quot;error&quot;)},m(l,r){S(l,e,r),u(e,t),u(e,s)},p(l,r){r&amp;2&amp;&amp;n!==(n=l[1].viewMode+&quot;&quot;)&amp;&amp;_e(s,n)},i:F,o:F,d(l){l&amp;&amp;L(e)}}}function Gn(i){let e,t;return e=new Yn({props:{session:i[0]}}),{c(){we(e.$$.fragment)},m(n,s){ce(e,n,s),t=!0},p(n,s){const l={};s&amp;1&amp;&amp;(l.session=n[0]),e.$set(l)},i(n){t||(D(e.$$.fragment,n),t=!0)},o(n){x(e.$$.fragment,n),t=!1},d(n){ue(e,n)}}}function jn(i){let e,t;return e=new Rn({props:{session:i[0]}}),{c(){we(e.$$.fragment)},m(n,s){ce(e,n,s),t=!0},p(n,s){const l={};s&amp;1&amp;&amp;(l.session=n[0]),e.$set(l)},i(n){t||(D(e.$$.fragment,n),t=!0)},o(n){x(e.$$.fragment,n),t=!1},d(n){ue(e,n)}}}function Zn(i){let e;return{c(){e=h(&quot;div&quot;),e.innerHTML=&#x27;&lt;div class=&quot;spacer&quot; style=&quot;height: 20px;&quot;&gt;&lt;/div&gt; &lt;div class=&quot;error&quot;&gt;No samples recorded.&lt;/div&gt;&#x27;,a(e,&quot;class&quot;,&quot;margins&quot;)},m(t,n){S(t,e,n)},p:F,i:F,o:F,d(t){t&amp;&amp;L(e)}}}function Kn(i){let e,t,n,s,l,r,o,c;n=new pn({props:{session:i[0]}});const d=[Zn,jn,Gn,Xn],v=[];function p(m,f){return m[0].rootFrame?m[1].viewMode===&quot;call-stack&quot;?1:m[1].viewMode===&quot;timeline&quot;?2:3:0}return r=p(i),o=v[r]=d[r](i),{c(){e=h(&quot;div&quot;),t=h(&quot;div&quot;),we(n.$$.fragment),s=b(),l=h(&quot;div&quot;),o.c(),a(t,&quot;class&quot;,&quot;header&quot;),a(l,&quot;class&quot;,&quot;body svelte-1vwroj7&quot;),a(e,&quot;class&quot;,&quot;app svelte-1vwroj7&quot;)},m(m,f){S(m,e,f),u(e,t),ce(n,t,null),u(e,s),u(e,l),v[r].m(l,null),c=!0},p(m,[f]){const g={};f&amp;1&amp;&amp;(g.session=m[0]),n.$set(g);let w=r;r=p(m),r===w?v[r].p(m,f):(Oe(),x(v[w],1,1,()=&gt;{v[w]=null}),Ve(),o=v[r],o?o.p(m,f):(o=v[r]=d[r](m),o.c()),D(o,1),o.m(l,null))},i(m){c||(D(n.$$.fragment,m),D(o),c=!0)},o(m){x(n.$$.fragment,m),x(o),c=!1},d(m){m&amp;&amp;L(e),ue(n),v[r].d()}}}function Qn(i,e,t){let n;ge(i,Ge,p=&gt;t(1,n=p));let{session:s}=e;const l=document.createElement(&quot;link&quot;);l.rel=&quot;shortcut icon&quot;,l.href=vn,document.head.appendChild(l);const r=document.createElement(&quot;link&quot;);r.rel=&quot;preload&quot;,r.as=&quot;style&quot;,r.onload=()=&gt;{r.rel=&quot;stylesheet&quot;},r.href=&quot;https://fonts.googleapis.com/css?family=Source+Code+Pro:400,600|Source+Sans+Pro:400,600&amp;display=swap&quot;,document.head.appendChild(r);const o=s.rootFrame,c=o==null?void 0:o.time.toLocaleString(void 0,{maximumSignificantDigits:3});let d,v;return(v=/[^\\s/]+(:\\d+)?$/.exec(s.target_description))?d=v[0]:d=s.target_description,document.title=`${c}s - ${d} - pyinstrument`,i.$$set=p=&gt;{&quot;session&quot;in p&amp;&amp;t(0,s=p.session)},[s,n]}class Jn extends fe{constructor(e){super(),de(this,e,Qn,Kn,re,{session:0})}}class es{constructor(e){A(this,&quot;startTime&quot;);A(this,&quot;duration&quot;);A(this,&quot;minInterval&quot;);A(this,&quot;maxInterval&quot;);A(this,&quot;sampleCount&quot;);A(this,&quot;target_description&quot;);A(this,&quot;cpuTime&quot;);A(this,&quot;rootFrame&quot;);A(this,&quot;sysPath&quot;);A(this,&quot;sysPrefixes&quot;);A(this,&quot;_shortenPathCache&quot;,{});this.startTime=e.session.start_time,this.duration=e.session.duration,this.minInterval=e.session.min_interval,this.maxInterval=e.session.max_interval,this.sampleCount=e.session.sample_count,this.target_description=e.session.target_description,this.cpuTime=e.session.cpu_time,this.sysPath=e.session.sys_path,this.sysPrefixes=e.session.sys_prefixes,this.rootFrame=new Ke(e.frame_tree,this)}shortenPath(e){if(this._shortenPathCache[e])return this._shortenPathCache[e];let t=e;if($e(e).length&gt;1)for(const s of this.sysPath){const l=ts(e,s);$e(l).length&lt;$e(t).length&amp;&amp;(t=l)}return this._shortenPathCache[e]=t,t}}function $e(i){return i.split(/[/\\\\]/)}function di(i){const e=$e(i);return e.length&gt;0&amp;&amp;e[0].endsWith(&quot;:&quot;)?e[0]:null}function ts(i,e){if(di(i)!=di(e))return i;const t=$e(i),n=$e(e);let s=0;for(;s&lt;t.length&amp;&amp;s&lt;n.length&amp;&amp;t[s]==n[s];)s++;return n.slice(s).map(r=&gt;&quot;..&quot;).concat(t.slice(s)).join(&quot;/&quot;)}return{render(i,e){const t=new es(e);return new Jn({target:i,props:{session:t}})}}}();\n",
              "&lt;/script&gt;\n",
              "                &lt;style&gt;html,body{background-color:#303538;color:#fff;padding:0;margin:0}.margins{padding:0 30px}label{-webkit-user-select:none;user-select:none}label *{-webkit-user-select:initial;user-select:initial}.view-options-call-stack.svelte-1pecl4m.svelte-1pecl4m{padding:6px 9px}.option.svelte-1pecl4m.svelte-1pecl4m{display:grid;grid-template-columns:auto 1fr;align-items:start;padding-left:1px;margin-bottom:3px}.option.svelte-1pecl4m .description.svelte-1pecl4m{font-size:12px;color:#999;grid-column:2/3}.option-group.svelte-1pecl4m.svelte-1pecl4m{margin-bottom:10px}.option-group.svelte-1pecl4m .name.svelte-1pecl4m{margin-bottom:4px}.mini-input-grid.svelte-1pecl4m.svelte-1pecl4m{display:grid;grid-template-columns:auto 1fr;gap:5px;align-items:baseline;margin-top:3px;margin-bottom:2px}.mini-input-grid.svelte-1pecl4m label.svelte-1pecl4m{font-weight:600}input.svelte-1pecl4m.svelte-1pecl4m{font-family:Source Code Pro,Roboto Mono,Consolas,Monaco,monospace;font-size-adjust:.486094;border-radius:3px;background:#4e5255;padding:1px 5px;font-size:12px;border:1px solid #4e5255;color:#ccc}input.svelte-1pecl4m.svelte-1pecl4m:focus-visible{outline:1px solid #abb2b7}input[type=number].svelte-1pecl4m.svelte-1pecl4m::-webkit-inner-spin-button{-webkit-appearance:none}.view-options-timeline.svelte-vsz8zm{padding:6px 9px}.view-options.svelte-rpk7lo{position:absolute;z-index:1;right:0}.box.svelte-rpk7lo{width:90vw;max-width:282px;height:max-content;max-height:calc(100vh - 100px);position:absolute;right:0;top:calc(100% + 4px);border-radius:5px;border:1px solid #4e5255;background:#2a2f32;box-shadow:0 2px 14px -5px #00000040;overflow:hidden;display:flex;flex-direction:column}.title-row.svelte-rpk7lo{padding:5px 9px;font-size:12px;font-weight:600;background-color:#3c4144}.body.svelte-rpk7lo{overflow-y:auto;flex-basis:content;flex-shrink:1}.header.svelte-qdxst2.svelte-qdxst2{background:#292f32;font-size:14px;padding:9px 0}.row.svelte-qdxst2.svelte-qdxst2{display:flex;align-items:center;gap:10px}.logo.svelte-qdxst2.svelte-qdxst2{margin:0 -3px 0 -6px}.layout.svelte-qdxst2.svelte-qdxst2{flex:1;display:grid;gap:0 10px;grid-template-columns:auto minmax(auto,max-content)}@media (max-width: 800px){.layout.svelte-qdxst2.svelte-qdxst2{grid-template-columns:1fr}}.target-description.svelte-qdxst2.svelte-qdxst2{font-weight:600;margin-bottom:1px}.view-options.svelte-qdxst2.svelte-qdxst2{display:flex;flex-wrap:wrap}.view-options.svelte-qdxst2 label.svelte-qdxst2{margin:0 5px;white-space:nowrap}.metrics.svelte-qdxst2.svelte-qdxst2{grid-row:span 2;text-align:right;align-items:end;min-width:min-content}@media (max-width: 800px){.metrics.svelte-qdxst2.svelte-qdxst2{text-align:left}.metrics.svelte-qdxst2 br.svelte-qdxst2{display:none}}.metric.svelte-qdxst2.svelte-qdxst2{display:inline-block;white-space:nowrap;margin-left:2px}@media (max-width: 800px){.metric.svelte-qdxst2.svelte-qdxst2{margin-left:0;margin-right:2px}}.metric-label.svelte-qdxst2.svelte-qdxst2{font-weight:600;color:#fff9}.metric-value.svelte-qdxst2.svelte-qdxst2{color:#fff6}input[type=radio].svelte-qdxst2.svelte-qdxst2{vertical-align:-8%}.button-container.svelte-qdxst2.svelte-qdxst2{position:relative}button.svelte-qdxst2.svelte-qdxst2{background:#5c6063;border-radius:6px;font:inherit;font-size:.8571428571em;color:inherit;border:none;cursor:pointer}button.svelte-qdxst2.svelte-qdxst2:hover{background:#63686b}button.svelte-qdxst2.svelte-qdxst2:active{background:#55585b}.frame.svelte-7e9kco.svelte-7e9kco{font-family:Source Code Pro,Roboto Mono,Consolas,Monaco,monospace;font-size-adjust:.486094;font-size:14px;z-index:0;position:relative;-webkit-user-select:none;user-select:none}.group-header.svelte-7e9kco.svelte-7e9kco{-webkit-user-select:none;user-select:none}.group-header-button.svelte-7e9kco.svelte-7e9kco{margin-left:35px;display:inline-block;color:#ffffff94;-webkit-user-select:none;user-select:none;cursor:default;position:relative}.group-header-button.svelte-7e9kco.svelte-7e9kco:before{position:absolute;left:-3px;right:-3px;top:0;bottom:0;content:&quot;&quot;;z-index:-1;background-color:#3b4043}.group-header-button.svelte-7e9kco.svelte-7e9kco:hover:before{background-color:#4a4f54}.group-triangle.svelte-7e9kco.svelte-7e9kco,.frame-triangle.svelte-7e9kco.svelte-7e9kco{width:6px;height:10px;padding-left:6px;padding-right:5px;display:inline-block}.group-triangle.rotate.svelte-7e9kco.svelte-7e9kco,.frame-triangle.rotate.svelte-7e9kco.svelte-7e9kco{transform:translate(6px,4px) rotate(90deg)}.frame-description.svelte-7e9kco.svelte-7e9kco{display:flex;white-space:nowrap}.frame-description.svelte-7e9kco.svelte-7e9kco:hover{background-color:#35475980}.frame-description.svelte-7e9kco.svelte-7e9kco:focus-visible,.group-header.svelte-7e9kco.svelte-7e9kco:focus-visible{outline:none;background-color:#37516c}.frame-triangle.svelte-7e9kco.svelte-7e9kco{opacity:1}.frame-description.children-visible.svelte-7e9kco .frame-triangle.svelte-7e9kco{opacity:0}.frame-description.children-visible.svelte-7e9kco:hover .frame-triangle.svelte-7e9kco,.frame-description.children-visible.svelte-7e9kco:focus-visible .frame-triangle.svelte-7e9kco{opacity:1}.name.svelte-7e9kco.svelte-7e9kco,.time.svelte-7e9kco.svelte-7e9kco,.code-position.svelte-7e9kco.svelte-7e9kco{-webkit-user-select:text;user-select:text;cursor:default}.application-code.svelte-7e9kco .name.svelte-7e9kco{color:#5db3ff}.time.svelte-7e9kco.svelte-7e9kco{margin-right:.55em;color:#b8e98685}.code-position.svelte-7e9kco.svelte-7e9kco{color:#ffffff80;text-align:right;margin-left:2em}.visual-guide.svelte-7e9kco.svelte-7e9kco{top:21px;bottom:0;left:0;width:2px;background-color:#fff;position:absolute;opacity:.08;pointer-events:none}.frame-description:hover~.visual-guide.svelte-7e9kco.svelte-7e9kco{opacity:.4}.frame-description:hover~.children.svelte-7e9kco .visual-guide{opacity:.15}.call-stack-view.svelte-1hebm9u{background-color:#303538;position:absolute;top:0;bottom:0;left:0;right:0;overflow:auto}.call-stack-view.svelte-1hebm9u:focus{outline:none}.scroll-inner.svelte-1hebm9u{padding-top:10px;padding-bottom:40px;box-sizing:border-box;width:auto;min-width:max-content}.call-stack-margins.svelte-1hebm9u{padding-left:18px;padding-right:18px}.scroll-size-fixer.svelte-1hebm9u{height:1px;width:100px;position:absolute;left:0}.timeline-canvas-view-tooltip.svelte-ci3g2p.svelte-ci3g2p{box-sizing:border-box;width:max-content;border-radius:2px;border:1px solid rgba(255,255,255,.09);background:#202325;box-shadow:0 4px 4px #00000040;display:grid;grid-template-columns:minmax(auto,33px) minmax(auto,1fr);gap:1px 0;padding:4px 10px 7px;color:#fff}.timeline-canvas-view-tooltip.svelte-ci3g2p .name.svelte-ci3g2p{grid-column:span 2;line-break:anywhere}.timeline-canvas-view-tooltip.svelte-ci3g2p .label.svelte-ci3g2p{color:#ffffff80;margin-right:8px}.timeline-canvas-view-tooltip.svelte-ci3g2p .time-val.svelte-ci3g2p{margin-right:10px;font-weight:600}.timeline-canvas-view-tooltip.svelte-ci3g2p .time-row.svelte-ci3g2p{display:flex;justify-content:start}.timeline-canvas-view-tooltip.svelte-ci3g2p .location-color.svelte-ci3g2p{width:9px;height:9px;margin-right:3px;border-radius:2px;position:relative;display:inline-block}.timeline-canvas-view-tooltip.svelte-ci3g2p .location-color.svelte-ci3g2p:before{content:&quot;&quot;;position:absolute;top:0;left:0;right:0;bottom:0;border:1px solid #383838;mix-blend-mode:color-dodge;border-radius:2px}.timeline.svelte-p2tt1k{position:absolute;top:0;bottom:0;left:0;right:0;overflow:hidden;-webkit-user-select:none;user-select:none}.app.svelte-1vwroj7{font-family:Source Sans Pro,Arial,Helvetica,sans-serif;font-size-adjust:.486;-webkit-font-smoothing:antialiased;-moz-osx-font-smoothing:grayscale;display:flex;flex-direction:column;position:absolute;top:0;bottom:0;left:0;right:0}.body.svelte-1vwroj7{flex:1;position:relative}\n",
              "&lt;/style&gt;\n",
              "\n",
              "                &lt;script&gt;\n",
              "                    const sessionData = {&quot;session&quot;: {&quot;start_time&quot;: 1750378224.1812475, &quot;duration&quot;: 0.0019600391387939453, &quot;min_interval&quot;: 0.001, &quot;max_interval&quot;: 0.001, &quot;sample_count&quot;: 1, &quot;start_call_stack&quot;: [&quot;MainThread\\u0000&lt;thread&gt;\\u0000140011554529280&quot;, &quot;_run_module_as_main\\u0000&lt;frozen runpy&gt;\\u0000173\\u0001l198&quot;, &quot;_run_code\\u0000&lt;frozen runpy&gt;\\u000065\\u0001l88&quot;, &quot;&lt;module&gt;\\u0000/usr/local/lib/python3.11/dist-packages/colab_kernel_launcher.py\\u00001\\u0001l37&quot;, &quot;launch_instance\\u0000/usr/local/lib/python3.11/dist-packages/traitlets/config/application.py\\u0000984\\u0001cColabKernelApp\\u0001l992&quot;, &quot;start\\u0000/usr/local/lib/python3.11/dist-packages/ipykernel/kernelapp.py\\u0000694\\u0001cColabKernelApp\\u0001l712&quot;, &quot;start\\u0000/usr/local/lib/python3.11/dist-packages/tornado/platform/asyncio.py\\u0000204\\u0001cAsyncIOMainLoop\\u0001l205&quot;, &quot;run_forever\\u0000/usr/lib/python3.11/asyncio/base_events.py\\u0000594\\u0001c_UnixSelectorEventLoop\\u0001l608&quot;, &quot;_run_once\\u0000/usr/lib/python3.11/asyncio/base_events.py\\u00001859\\u0001c_UnixSelectorEventLoop\\u0001l1936&quot;, &quot;_run\\u0000/usr/lib/python3.11/asyncio/events.py\\u000082\\u0001cHandle\\u0001l84&quot;, &quot;dispatch_queue\\u0000/usr/local/lib/python3.11/dist-packages/ipykernel/kernelbase.py\\u0000501\\u0001cKernel\\u0001l510&quot;, &quot;process_one\\u0000/usr/local/lib/python3.11/dist-packages/ipykernel/kernelbase.py\\u0000487\\u0001cKernel\\u0001l499&quot;, &quot;dispatch_shell\\u0000/usr/local/lib/python3.11/dist-packages/ipykernel/kernelbase.py\\u0000357\\u0001cKernel\\u0001l406&quot;, &quot;execute_request\\u0000/usr/local/lib/python3.11/dist-packages/ipykernel/kernelbase.py\\u0000684\\u0001cKernel\\u0001l730&quot;, &quot;do_execute\\u0000/usr/local/lib/python3.11/dist-packages/ipykernel/ipkernel.py\\u0000300\\u0001cKernel\\u0001l383&quot;, &quot;run_cell\\u0000/usr/local/lib/python3.11/dist-packages/ipykernel/zmqshell.py\\u0000526\\u0001cShell\\u0001l528&quot;, &quot;run_cell\\u0000/usr/local/lib/python3.11/dist-packages/IPython/core/interactiveshell.py\\u00002942\\u0001cShell\\u0001l2975&quot;, &quot;_run_cell\\u0000/usr/local/lib/python3.11/dist-packages/IPython/core/interactiveshell.py\\u00002984\\u0001cShell\\u0001l3030&quot;, &quot;_pseudo_sync_runner\\u0000/usr/local/lib/python3.11/dist-packages/IPython/core/async_helpers.py\\u000068\\u0001l78&quot;, &quot;run_cell_async\\u0000/usr/local/lib/python3.11/dist-packages/IPython/core/interactiveshell.py\\u00003084\\u0001cShell\\u0001l3257&quot;, &quot;run_ast_nodes\\u0000/usr/local/lib/python3.11/dist-packages/IPython/core/interactiveshell.py\\u00003360\\u0001cShell\\u0001l3473&quot;, &quot;run_code\\u0000/usr/local/lib/python3.11/dist-packages/IPython/core/interactiveshell.py\\u00003512\\u0001cShell\\u0001l3553\\u0001h1&quot;, &quot;&lt;cell line: 0&gt;\\u0000/tmp/ipython-input-8-1829346328.py\\u00001\\u0001l1&quot;, &quot;run_cell_magic\\u0000/usr/local/lib/python3.11/dist-packages/google/colab/_shell.py\\u0000269\\u0001cShell\\u0001l276&quot;, &quot;run_cell_magic\\u0000/usr/local/lib/python3.11/dist-packages/IPython/core/interactiveshell.py\\u00002431\\u0001cShell\\u0001l2473&quot;, &quot;pyinstrument\\u0000&lt;decorator-gen-120&gt;\\u00001\\u0001cPyinstrumentMagic\\u0001l2&quot;, &quot;&lt;lambda&gt;\\u0000/usr/local/lib/python3.11/dist-packages/IPython/core/magic.py\\u0000187\\u0001l187&quot;, &quot;pyinstrument\\u0000/usr/local/lib/python3.11/dist-packages/pyinstrument/magic/magic.py\\u000085\\u0001cPyinstrumentMagic\\u0001l223&quot;, &quot;run_cell\\u0000/usr/local/lib/python3.11/dist-packages/ipykernel/zmqshell.py\\u0000526\\u0001cShell\\u0001l528&quot;, &quot;run_cell\\u0000/usr/local/lib/python3.11/dist-packages/IPython/core/interactiveshell.py\\u00002942\\u0001cShell\\u0001l2975&quot;, &quot;_run_cell\\u0000/usr/local/lib/python3.11/dist-packages/IPython/core/interactiveshell.py\\u00002984\\u0001cShell\\u0001l3030&quot;, &quot;_pseudo_sync_runner\\u0000/usr/local/lib/python3.11/dist-packages/IPython/core/async_helpers.py\\u000068\\u0001l78&quot;, &quot;run_cell_async\\u0000/usr/local/lib/python3.11/dist-packages/IPython/core/interactiveshell.py\\u00003084\\u0001cShell\\u0001l3257&quot;, &quot;run_ast_nodes\\u0000/usr/local/lib/python3.11/dist-packages/IPython/core/interactiveshell.py\\u00003360\\u0001cShell\\u0001l3473&quot;, &quot;run_code\\u0000/usr/local/lib/python3.11/dist-packages/IPython/core/interactiveshell.py\\u00003512\\u0001cShell\\u0001l3553\\u0001h1&quot;, &quot;&lt;cell line: 0&gt;\\u0000/tmp/ipython-input-8-701083101.py\\u00001\\u0001l3&quot;], &quot;target_description&quot;: &quot;Cell [8]&quot;, &quot;cpu_time&quot;: 0.0012483499999973446, &quot;sys_path&quot;: [&quot;/content&quot;, &quot;/env/python&quot;, &quot;/usr/lib/python311.zip&quot;, &quot;/usr/lib/python3.11&quot;, &quot;/usr/lib/python3.11/lib-dynload&quot;, &quot;&quot;, &quot;/usr/local/lib/python3.11/dist-packages&quot;, &quot;/usr/lib/python3/dist-packages&quot;, &quot;/usr/local/lib/python3.11/dist-packages/IPython/extensions&quot;, &quot;/usr/local/lib/python3.11/dist-packages/setuptools/_vendor&quot;, &quot;/root/.ipython&quot;], &quot;sys_prefixes&quot;: [&quot;/usr&quot;, &quot;/usr&quot;, &quot;/usr&quot;, &quot;/usr&quot;]}, &quot;frame_tree&quot;: {&quot;identifier&quot;: &quot;&lt;cell line: 0&gt;\\u0000/tmp/ipython-input-8-701083101.py\\u00001&quot;,&quot;time&quot;: 0.001376,&quot;attributes&quot;: {&quot;l1&quot;: 0.0013757970000369824},&quot;children&quot;: [{&quot;identifier&quot;: &quot;some_function\\u0000/tmp/ipython-input-5-3630047074.py\\u000012&quot;,&quot;time&quot;: 0.001376,&quot;attributes&quot;: {&quot;l15&quot;: 0.0013757970000369824},&quot;children&quot;: [{&quot;identifier&quot;: &quot;bottleneck\\u0000/tmp/ipython-input-5-3630047074.py\\u00008&quot;,&quot;time&quot;: 0.001376,&quot;attributes&quot;: {&quot;l9&quot;: 0.0013757970000369824},&quot;children&quot;: [{&quot;identifier&quot;: &quot;sleep\\u0000&lt;built-in&gt;\\u00000&quot;,&quot;time&quot;: 0.001376,&quot;attributes&quot;: {},&quot;children&quot;: [{&quot;identifier&quot;: &quot;[self]&quot;,&quot;time&quot;: 0.001376,&quot;attributes&quot;: {},&quot;children&quot;: []}]}]}]}]}};\n",
              "                    pyinstrumentHTMLRenderer.render(document.getElementById(&#x27;app&#x27;), sessionData);\n",
              "                &lt;/script&gt;\n",
              "            &lt;/body&gt;\n",
              "            &lt;/html&gt;\n",
              "        \"\n",
              "        ></iframe>\n",
              "        "
            ],
            "text/plain": [
              "\n",
              "  _     ._   __/__   _ _  _  _ _/_   Recorded: 00:10:24  Samples:  1\n",
              " /_//_/// /_\\ / //_// / //_'/ //     Duration: 0.002     CPU time: 0.001\n",
              "/   _/                      v5.0.2\n",
              "\n",
              "Cell [8]\n",
              "\n",
              "0.001 <cell line: 0>  /tmp/ipython-input-8-701083101.py:1\n",
              "`- 0.001 some_function  /tmp/ipython-input-5-3630047074.py:12\n",
              "   `- 0.001 bottleneck  /tmp/ipython-input-5-3630047074.py:8\n",
              "      `- 0.001 sleep  <built-in>\n",
              "\n"
            ]
          },
          "metadata": {}
        }
      ]
    },
    {
      "cell_type": "code",
      "source": [
        "import cProfile"
      ],
      "metadata": {
        "id": "OV5pEyTgr0UN"
      },
      "execution_count": 12,
      "outputs": []
    },
    {
      "cell_type": "markdown",
      "source": [
        "The cProfile has a function named run() which accepts any python statement. It'll pass that python statement to exec() function to execute and generate profiling results as well.\n",
        "\n",
        "Below we are simply running a loop 10000 times and generating random numbers between 1-10 each time. We keep all random numbers in a list and then sum them up. We have passed this statement to the run() method of cProfile to see profiling results of where time is getting spent."
      ],
      "metadata": {
        "id": "yxIl0Yxfr5IT"
      }
    },
    {
      "cell_type": "code",
      "source": [
        "import random\n",
        "\n",
        "cProfile.run(\"sum([random.randint(1,10) for i in range(10000)])\")"
      ],
      "metadata": {
        "colab": {
          "base_uri": "https://localhost:8080/"
        },
        "id": "VRgs55SAr7fP",
        "outputId": "bf50a4a5-f622-4e13-8285-5accda6f6527"
      },
      "execution_count": 13,
      "outputs": [
        {
          "output_type": "stream",
          "name": "stdout",
          "text": [
            "         85914 function calls in 0.034 seconds\n",
            "\n",
            "   Ordered by: standard name\n",
            "\n",
            "   ncalls  tottime  percall  cumtime  percall filename:lineno(function)\n",
            "        1    0.004    0.004    0.034    0.034 <string>:1(<listcomp>)\n",
            "        1    0.000    0.000    0.034    0.034 <string>:1(<module>)\n",
            "    10000    0.008    0.000    0.011    0.000 random.py:235(_randbelow_with_getrandbits)\n",
            "    10000    0.012    0.000    0.025    0.000 random.py:284(randrange)\n",
            "    10000    0.005    0.000    0.030    0.000 random.py:358(randint)\n",
            "    30000    0.003    0.000    0.003    0.000 {built-in method _operator.index}\n",
            "        1    0.000    0.000    0.034    0.034 {built-in method builtins.exec}\n",
            "        1    0.000    0.000    0.000    0.000 {built-in method builtins.sum}\n",
            "    10000    0.001    0.000    0.001    0.000 {method 'bit_length' of 'int' objects}\n",
            "        1    0.000    0.000    0.000    0.000 {method 'disable' of '_lsprof.Profiler' objects}\n",
            "    15909    0.002    0.000    0.002    0.000 {method 'getrandbits' of '_random.Random' objects}\n",
            "\n",
            "\n"
          ]
        }
      ]
    },
    {
      "cell_type": "markdown",
      "source": [
        "we can understand from the above output that a total of 55957 function calls were made. The Ordered by: standard name indicates that the table displayed is sorted by string name printed at last.\n",
        "\n",
        "The meaning of each column in the table is explained below:\n",
        "\n",
        "ncalls: It represents a number of times that function was called. It can have two numbers separated by a slash in case of recursive calls. The first number, in that case, represents total calls including recursive calls and the second number represents primitive calls excluding recursive calls.\n",
        "tottime: It represents total time spent in that function excluding time spent in sub-functions of that function.\n",
        "percall : It represents tottime divided by ncalls.\n",
        "cumtime : It represents total time spent in that function including time-spent in sub-functions of that function.\n",
        "percall : It represents cumtime divided by ncalls.\n",
        "filename:lineno(function) : It represents filename, line number in file and function name."
      ],
      "metadata": {
        "id": "wOmolgSBsAr9"
      }
    },
    {
      "cell_type": "code",
      "source": [
        "import time\n",
        "\n",
        "def slow_add(a, b):\n",
        "    time.sleep(0.5)\n",
        "    return a+b\n",
        "\n",
        "def fast_add(a, b):\n",
        "    return a+b\n",
        "\n",
        "prof = cProfile.Profile()\n",
        "\n",
        "def main_func():\n",
        "    arr = []\n",
        "    prof.enable()\n",
        "    for i in range(10):\n",
        "\n",
        "        if i%2==0:\n",
        "            arr.append(slow_add(i,i))\n",
        "        else:\n",
        "            arr.append(fast_add(i,i))\n",
        "    prof.disable()\n",
        "    return arr\n",
        "\n",
        "main_func()"
      ],
      "metadata": {
        "colab": {
          "base_uri": "https://localhost:8080/"
        },
        "id": "wVFsLiV5sQGU",
        "outputId": "0d7e5378-b7f8-4dbb-ddb5-860334da750b"
      },
      "execution_count": 15,
      "outputs": [
        {
          "output_type": "execute_result",
          "data": {
            "text/plain": [
              "[0, 2, 4, 6, 8, 10, 12, 14, 16, 18]"
            ]
          },
          "metadata": {},
          "execution_count": 15
        }
      ]
    },
    {
      "cell_type": "code",
      "source": [
        "prof.print_stats()"
      ],
      "metadata": {
        "colab": {
          "base_uri": "https://localhost:8080/"
        },
        "id": "6WY0gmcysZS_",
        "outputId": "12bdaa19-57a5-480e-f81e-04bba348e421"
      },
      "execution_count": 16,
      "outputs": [
        {
          "output_type": "stream",
          "name": "stdout",
          "text": [
            "         26 function calls in 2.501 seconds\n",
            "\n",
            "   Ordered by: standard name\n",
            "\n",
            "   ncalls  tottime  percall  cumtime  percall filename:lineno(function)\n",
            "        5    0.000    0.000    2.501    0.500 ipython-input-15-376411661.py:3(slow_add)\n",
            "        5    0.000    0.000    0.000    0.000 ipython-input-15-376411661.py:7(fast_add)\n",
            "        5    2.501    0.500    2.501    0.500 {built-in method time.sleep}\n",
            "       10    0.000    0.000    0.000    0.000 {method 'append' of 'list' objects}\n",
            "        1    0.000    0.000    0.000    0.000 {method 'disable' of '_lsprof.Profiler' objects}\n",
            "\n",
            "\n"
          ]
        }
      ]
    },
    {
      "cell_type": "code",
      "source": [
        "prof.dump_stats(\"main_func.prof\")"
      ],
      "metadata": {
        "id": "E4LbgyIestzA"
      },
      "execution_count": 17,
      "outputs": []
    },
    {
      "cell_type": "code",
      "source": [
        "def main_func():\n",
        "    arr = []\n",
        "    with cProfile.Profile() as prof:\n",
        "        for i in range(10):\n",
        "            if i%2==0:\n",
        "                arr.append(slow_add(i,i))\n",
        "            else:\n",
        "                arr.append(fast_add(i,i))\n",
        "    return arr, prof\n",
        "\n",
        "out, prof = main_func()\n",
        "\n",
        "print(out)\n",
        "\n",
        "prof.print_stats()"
      ],
      "metadata": {
        "colab": {
          "base_uri": "https://localhost:8080/"
        },
        "id": "8LKxuUXzs2EW",
        "outputId": "6d05037e-92c6-47bb-c1f5-95063e79870e"
      },
      "execution_count": 18,
      "outputs": [
        {
          "output_type": "stream",
          "name": "stdout",
          "text": [
            "[0, 2, 4, 6, 8, 10, 12, 14, 16, 18]\n",
            "         27 function calls in 2.501 seconds\n",
            "\n",
            "   Ordered by: standard name\n",
            "\n",
            "   ncalls  tottime  percall  cumtime  percall filename:lineno(function)\n",
            "        1    0.000    0.000    0.000    0.000 cProfile.py:118(__exit__)\n",
            "        5    0.000    0.000    2.501    0.500 ipython-input-15-376411661.py:3(slow_add)\n",
            "        5    0.000    0.000    0.000    0.000 ipython-input-15-376411661.py:7(fast_add)\n",
            "        5    2.501    0.500    2.501    0.500 {built-in method time.sleep}\n",
            "       10    0.000    0.000    0.000    0.000 {method 'append' of 'list' objects}\n",
            "        1    0.000    0.000    0.000    0.000 {method 'disable' of '_lsprof.Profiler' objects}\n",
            "\n",
            "\n"
          ]
        }
      ]
    },
    {
      "cell_type": "code",
      "source": [
        "def Fibonacci(n):\n",
        "    if n<=0:\n",
        "        print(\"Incorrect input\")\n",
        "    elif n==1:\n",
        "        return 0\n",
        "    elif n==2:\n",
        "        return 1\n",
        "    else:\n",
        "        return Fibonacci(n-1)+Fibonacci(n-2)"
      ],
      "metadata": {
        "id": "LVauD_xLtCzx"
      },
      "execution_count": 19,
      "outputs": []
    },
    {
      "cell_type": "code",
      "source": [
        "cProfile.run(\"Fibonacci(25)\")"
      ],
      "metadata": {
        "colab": {
          "base_uri": "https://localhost:8080/"
        },
        "id": "dK0z1lbztGNE",
        "outputId": "d3fd1970-f86b-458b-99fe-9ca917f5173b"
      },
      "execution_count": 20,
      "outputs": [
        {
          "output_type": "stream",
          "name": "stdout",
          "text": [
            "         150052 function calls (4 primitive calls) in 0.067 seconds\n",
            "\n",
            "   Ordered by: standard name\n",
            "\n",
            "   ncalls  tottime  percall  cumtime  percall filename:lineno(function)\n",
            "        1    0.000    0.000    0.067    0.067 <string>:1(<module>)\n",
            " 150049/1    0.067    0.000    0.067    0.067 ipython-input-19-2936163828.py:1(Fibonacci)\n",
            "        1    0.000    0.000    0.067    0.067 {built-in method builtins.exec}\n",
            "        1    0.000    0.000    0.000    0.000 {method 'disable' of '_lsprof.Profiler' objects}\n",
            "\n",
            "\n"
          ]
        }
      ]
    },
    {
      "cell_type": "markdown",
      "source": [
        "#Eliot\n",
        "Logs the performance information. It tracks each function called, its arguments, the return values, and any rasied exceptions. Hence, it can be helpful for profiling in real use cases.\n",
        "\n",
        "Logging has a higher overhead than `cProfile`."
      ],
      "metadata": {
        "id": "UX8SntShtR-p"
      }
    },
    {
      "cell_type": "code",
      "source": [
        "import eliot"
      ],
      "metadata": {
        "id": "ev30Hematatj"
      },
      "execution_count": 21,
      "outputs": []
    },
    {
      "cell_type": "code",
      "source": [
        "def bottleneck():\n",
        "    time.sleep(0.5)"
      ],
      "metadata": {
        "id": "jg6eptTgteP1"
      },
      "execution_count": 22,
      "outputs": []
    },
    {
      "cell_type": "code",
      "source": [
        "@eliot.log_call\n",
        "def multiply(x, y):\n",
        "    bottleneck()\n",
        "    return x * y"
      ],
      "metadata": {
        "id": "QTZqjwJYtguB"
      },
      "execution_count": 23,
      "outputs": []
    },
    {
      "cell_type": "code",
      "source": [
        "@eliot.log_call\n",
        "def add(x, y):\n",
        "    return x + y"
      ],
      "metadata": {
        "id": "A_5PJ3lAtjBi"
      },
      "execution_count": 24,
      "outputs": []
    },
    {
      "cell_type": "code",
      "source": [
        "# remove file if exists\n",
        "import os\n",
        "\n",
        "try:\n",
        "    os.remove(\"profiling_some_function.log\")\n",
        "except OSError:\n",
        "    pass\n"
      ],
      "metadata": {
        "id": "XD5ETCAjtnms"
      },
      "execution_count": 25,
      "outputs": []
    },
    {
      "cell_type": "code",
      "source": [
        "eliot.to_file(open(\"profiling_some_function.log\", \"w+\"))\n",
        "result = multiply(add(3, 4), add(5, 6))"
      ],
      "metadata": {
        "id": "OrH8N1nttt-W"
      },
      "execution_count": 26,
      "outputs": []
    },
    {
      "cell_type": "code",
      "source": [
        "!eliot-tree profiling_some_function.log"
      ],
      "metadata": {
        "colab": {
          "base_uri": "https://localhost:8080/"
        },
        "id": "dKDg5sT0twil",
        "outputId": "b6206060-f42f-4593-b75b-27432f8a8ae7"
      },
      "execution_count": 27,
      "outputs": [
        {
          "output_type": "stream",
          "name": "stdout",
          "text": [
            "\u001b[38;5;15m92ecbb2c-e7d6-4a05-894d-41732bea6e8b\u001b[1m\u001b[0m\n",
            "\u001b[38;5;15m└── \u001b[2m\u001b[0m\u001b[38;5;5m__main__.add\u001b[0m/1\u001b[0m ⇒ \u001b[38;5;2mstarted\u001b[0m \u001b[38;5;15m2025-06-20 00:22:12Z\u001b[2m\u001b[0m ⧖ \u001b[38;5;4m0.000s\u001b[2m\u001b[0m\n",
            "    \u001b[38;5;4m├── \u001b[2m\u001b[0m\u001b[38;5;4mx\u001b[0m: 3\u001b[0m\n",
            "    \u001b[38;5;4m├── \u001b[2m\u001b[0m\u001b[38;5;4my\u001b[0m: 4\u001b[0m\n",
            "    \u001b[38;5;4m└── \u001b[2m\u001b[0m\u001b[38;5;5m__main__.add\u001b[0m/2\u001b[0m ⇒ \u001b[38;5;2msucceeded\u001b[0m \u001b[38;5;15m2025-06-20 00:22:12Z\u001b[2m\u001b[0m\n",
            "        \u001b[38;5;5m└── \u001b[2m\u001b[0m\u001b[38;5;4mresult\u001b[0m: 7\u001b[0m\n",
            "\n",
            "\u001b[38;5;15m4444c583-7b0b-4962-989a-17371657c931\u001b[1m\u001b[0m\n",
            "\u001b[38;5;15m└── \u001b[2m\u001b[0m\u001b[38;5;5m__main__.add\u001b[0m/1\u001b[0m ⇒ \u001b[38;5;2mstarted\u001b[0m \u001b[38;5;15m2025-06-20 00:22:12Z\u001b[2m\u001b[0m ⧖ \u001b[38;5;4m0.000s\u001b[2m\u001b[0m\n",
            "    \u001b[38;5;4m├── \u001b[2m\u001b[0m\u001b[38;5;4mx\u001b[0m: 5\u001b[0m\n",
            "    \u001b[38;5;4m├── \u001b[2m\u001b[0m\u001b[38;5;4my\u001b[0m: 6\u001b[0m\n",
            "    \u001b[38;5;4m└── \u001b[2m\u001b[0m\u001b[38;5;5m__main__.add\u001b[0m/2\u001b[0m ⇒ \u001b[38;5;2msucceeded\u001b[0m \u001b[38;5;15m2025-06-20 00:22:12Z\u001b[2m\u001b[0m\n",
            "        \u001b[38;5;5m└── \u001b[2m\u001b[0m\u001b[38;5;4mresult\u001b[0m: 11\u001b[0m\n",
            "\n",
            "\u001b[38;5;15ma4ff5b7b-48e0-4646-b0f2-8a2a678f43c0\u001b[1m\u001b[0m\n",
            "\u001b[38;5;15m└── \u001b[2m\u001b[0m\u001b[38;5;5m__main__.multiply\u001b[0m/1\u001b[0m ⇒ \u001b[38;5;2mstarted\u001b[0m \u001b[38;5;15m2025-06-20 00:22:12Z\u001b[2m\u001b[0m ⧖ \u001b[38;5;4m0.500s\u001b[2m\u001b[0m\n",
            "    \u001b[38;5;4m├── \u001b[2m\u001b[0m\u001b[38;5;4mx\u001b[0m: 7\u001b[0m\n",
            "    \u001b[38;5;4m├── \u001b[2m\u001b[0m\u001b[38;5;4my\u001b[0m: 11\u001b[0m\n",
            "    \u001b[38;5;4m└── \u001b[2m\u001b[0m\u001b[38;5;5m__main__.multiply\u001b[0m/2\u001b[0m ⇒ \u001b[38;5;2msucceeded\u001b[0m \u001b[38;5;15m2025-06-20 00:22:13Z\u001b[2m\u001b[0m\n",
            "        \u001b[38;5;5m└── \u001b[2m\u001b[0m\u001b[38;5;4mresult\u001b[0m: 77\u001b[0m\n",
            "\n"
          ]
        }
      ]
    },
    {
      "cell_type": "code",
      "source": [
        "%%writefile one.py\n",
        "def main_func():\n",
        "    import random\n",
        "    arr1 = [random.randint(1,10) for i in range(100000)]\n",
        "    arr2 = [random.randint(1,10) for i in range(100000)]\n",
        "    arr3 = [arr1[i]+arr2[i] for i in range(100000)]\n",
        "    tot = sum(arr3)\n",
        "    print(tot)\n",
        "\n",
        "if __name__ == \"__main__\":\n",
        "    main_func()"
      ],
      "metadata": {
        "colab": {
          "base_uri": "https://localhost:8080/"
        },
        "id": "rXmGxEUNuOHb",
        "outputId": "c7f625d4-144b-45d6-d86b-fcaf72767eff"
      },
      "execution_count": 34,
      "outputs": [
        {
          "output_type": "stream",
          "name": "stdout",
          "text": [
            "Writing one.py\n"
          ]
        }
      ]
    },
    {
      "cell_type": "markdown",
      "source": [
        "Below is a list of columns present in profiling output.\n",
        "\n",
        "Time % Python - It specifies % of the time spent in python.\n",
        "\n",
        "Time % native - It specifies % of time spent in native code (python library which comes along with python package like random, DateTime, etc and C code).\n",
        "\n",
        "Sys % - It specifies % time spent in other tasks of OS, not from python or native code. If we put the thread to sleep and CPU is utilized for other tasks, this refers to sys.\n",
        "\n",
        "Mem % Python - It specifies the amount of memory used by python.\n",
        "\n",
        "Net (MB) - It specifies net memory allocation in MB during that line of code. If it’s negative then it means that memory was recollected during that instruction.\n",
        "\n",
        "Memory usage over time /% - It shows memory usage over time as a bar chart.\n",
        "Copy(MB/s) - It specifies the amount of memory copied per second."
      ],
      "metadata": {
        "id": "LoYftyV2uRLM"
      }
    },
    {
      "cell_type": "code",
      "source": [
        "!scalene one.py"
      ],
      "metadata": {
        "colab": {
          "base_uri": "https://localhost:8080/"
        },
        "id": "BfWQGy31uVNs",
        "outputId": "6a2e3c08-d302-4f61-86a0-1633fed2dded"
      },
      "execution_count": 35,
      "outputs": [
        {
          "output_type": "stream",
          "name": "stdout",
          "text": [
            "1098812\n",
            "\u001b[3m      /content/one.py: % of time = 100.00% (195.191ms) out of 195.191ms.       \u001b[0m\n",
            "       ╷       ╷       ╷       ╷        ╷       ╷               ╷       ╷      \n",
            " \u001b[1m      \u001b[0m│\u001b[1;34mTime\u001b[0m\u001b[1m  \u001b[0m\u001b[1m \u001b[0m│\u001b[1;34m––––––\u001b[0m\u001b[1m \u001b[0m│\u001b[1;34m––––––\u001b[0m\u001b[1m \u001b[0m│\u001b[1;32mMemory\u001b[0m\u001b[1m \u001b[0m\u001b[1m \u001b[0m│\u001b[1;32m––––––\u001b[0m\u001b[1m \u001b[0m│\u001b[1;32m–––––––––––\u001b[0m\u001b[1m   \u001b[0m\u001b[1m \u001b[0m│\u001b[1;33mCopy\u001b[0m\u001b[1m  \u001b[0m\u001b[1m \u001b[0m│\u001b[1m    \u001b[0m\u001b[1m \u001b[0m \n",
            " \u001b[1m \u001b[0m\u001b[1;2mLine\u001b[0m\u001b[1m \u001b[0m│\u001b[1;3;34mPython\u001b[0m\u001b[1m \u001b[0m│\u001b[1;3;34mnative\u001b[0m\u001b[1m \u001b[0m│\u001b[1;3;34msystem\u001b[0m\u001b[1m \u001b[0m│\u001b[1;3;32mPython\u001b[0m\u001b[1m \u001b[0m\u001b[1m \u001b[0m│\u001b[1;3;32mpeak\u001b[0m\u001b[1m  \u001b[0m\u001b[1m \u001b[0m│\u001b[1;3;32mtimeline\u001b[0m\u001b[1;32m/%\u001b[0m\u001b[1m    \u001b[0m\u001b[1m \u001b[0m│\u001b[1;3;33m(MB/s)\u001b[0m\u001b[1m \u001b[0m│\u001b[1m/co…\u001b[0m\u001b[1m \u001b[0m \n",
            "╺━━━━━━┿━━━━━━━┿━━━━━━━┿━━━━━━━┿━━━━━━━━┿━━━━━━━┿━━━━━━━━━━━━━━━┿━━━━━━━┿━━━━━╸\n",
            " \u001b[2m \u001b[0m\u001b[2m   1\u001b[0m\u001b[2m \u001b[0m│\u001b[34m      \u001b[0m\u001b[34m \u001b[0m│\u001b[34m      \u001b[0m\u001b[34m \u001b[0m│\u001b[34m      \u001b[0m\u001b[34m \u001b[0m│\u001b[32m       \u001b[0m\u001b[32m \u001b[0m│\u001b[32m      \u001b[0m\u001b[32m \u001b[0m│\u001b[32m              \u001b[0m\u001b[32m \u001b[0m│\u001b[33m      \u001b[0m\u001b[33m \u001b[0m│\u001b[93;40mdef\u001b[0m\u001b[37;40m \u001b[0m  \n",
            " \u001b[2m \u001b[0m\u001b[2m   2\u001b[0m\u001b[2m \u001b[0m│\u001b[34m      \u001b[0m\u001b[34m \u001b[0m│\u001b[34m      \u001b[0m\u001b[34m \u001b[0m│\u001b[34m      \u001b[0m\u001b[34m \u001b[0m│\u001b[32m       \u001b[0m\u001b[32m \u001b[0m│\u001b[32m      \u001b[0m\u001b[32m \u001b[0m│\u001b[32m              \u001b[0m\u001b[32m \u001b[0m│\u001b[33m      \u001b[0m\u001b[33m \u001b[0m│\u001b[37;40m    \u001b[0m  \n",
            " \u001b[2m \u001b[0m\u001b[2m   3\u001b[0m\u001b[2m \u001b[0m│\u001b[1;31m   21%\u001b[0m\u001b[34m \u001b[0m│\u001b[1;31m   33%\u001b[0m\u001b[34m \u001b[0m│\u001b[34m   5% \u001b[0m\u001b[34m \u001b[0m│\u001b[32m       \u001b[0m\u001b[32m \u001b[0m│\u001b[32m      \u001b[0m\u001b[32m \u001b[0m│\u001b[32m              \u001b[0m\u001b[32m \u001b[0m│\u001b[33m    26\u001b[0m\u001b[33m \u001b[0m│\u001b[37;40m    \u001b[0m  \n",
            " \u001b[2m \u001b[0m\u001b[2m   4\u001b[0m\u001b[2m \u001b[0m│\u001b[1;31m   33%\u001b[0m\u001b[34m \u001b[0m│\u001b[34m      \u001b[0m\u001b[34m \u001b[0m│\u001b[34m   2% \u001b[0m\u001b[34m \u001b[0m│\u001b[32m       \u001b[0m\u001b[32m \u001b[0m│\u001b[32m      \u001b[0m\u001b[32m \u001b[0m│\u001b[32m              \u001b[0m\u001b[32m \u001b[0m│\u001b[33m      \u001b[0m\u001b[33m \u001b[0m│\u001b[37;40m    \u001b[0m  \n",
            " \u001b[2m \u001b[0m\u001b[2m   5\u001b[0m\u001b[2m \u001b[0m│\u001b[34m    6%\u001b[0m\u001b[34m \u001b[0m│\u001b[34m      \u001b[0m\u001b[34m \u001b[0m│\u001b[34m      \u001b[0m\u001b[34m \u001b[0m│\u001b[32m       \u001b[0m\u001b[32m \u001b[0m│\u001b[32m      \u001b[0m\u001b[32m \u001b[0m│\u001b[32m              \u001b[0m\u001b[32m \u001b[0m│\u001b[33m      \u001b[0m\u001b[33m \u001b[0m│\u001b[37;40m    \u001b[0m  \n",
            " \u001b[2m \u001b[0m\u001b[2m   6\u001b[0m\u001b[2m \u001b[0m│\u001b[34m      \u001b[0m\u001b[34m \u001b[0m│\u001b[34m      \u001b[0m\u001b[34m \u001b[0m│\u001b[34m      \u001b[0m\u001b[34m \u001b[0m│\u001b[32m       \u001b[0m\u001b[32m \u001b[0m│\u001b[32m      \u001b[0m\u001b[32m \u001b[0m│\u001b[32m              \u001b[0m\u001b[32m \u001b[0m│\u001b[33m      \u001b[0m\u001b[33m \u001b[0m│\u001b[37;40m    \u001b[0m  \n",
            " \u001b[2m \u001b[0m\u001b[2m   7\u001b[0m\u001b[2m \u001b[0m│\u001b[34m      \u001b[0m\u001b[34m \u001b[0m│\u001b[34m      \u001b[0m\u001b[34m \u001b[0m│\u001b[34m      \u001b[0m\u001b[34m \u001b[0m│\u001b[32m       \u001b[0m\u001b[32m \u001b[0m│\u001b[32m      \u001b[0m\u001b[32m \u001b[0m│\u001b[32m              \u001b[0m\u001b[32m \u001b[0m│\u001b[33m      \u001b[0m\u001b[33m \u001b[0m│\u001b[37;40m    \u001b[0m  \n",
            " \u001b[2m \u001b[0m\u001b[2m   8\u001b[0m\u001b[2m \u001b[0m│\u001b[34m      \u001b[0m\u001b[34m \u001b[0m│\u001b[34m      \u001b[0m\u001b[34m \u001b[0m│\u001b[34m      \u001b[0m\u001b[34m \u001b[0m│\u001b[32m       \u001b[0m\u001b[32m \u001b[0m│\u001b[32m      \u001b[0m\u001b[32m \u001b[0m│\u001b[32m              \u001b[0m\u001b[32m \u001b[0m│\u001b[33m      \u001b[0m\u001b[33m \u001b[0m│\u001b[40m    \u001b[0m  \n",
            " \u001b[2m \u001b[0m\u001b[2m   9\u001b[0m\u001b[2m \u001b[0m│\u001b[34m      \u001b[0m\u001b[34m \u001b[0m│\u001b[34m      \u001b[0m\u001b[34m \u001b[0m│\u001b[34m      \u001b[0m\u001b[34m \u001b[0m│\u001b[32m       \u001b[0m\u001b[32m \u001b[0m│\u001b[32m      \u001b[0m\u001b[32m \u001b[0m│\u001b[32m              \u001b[0m\u001b[32m \u001b[0m│\u001b[33m      \u001b[0m\u001b[33m \u001b[0m│\u001b[93;40mif\u001b[0m\u001b[37;40m \u001b[0m\u001b[36;40m_\u001b[0m  \n",
            " \u001b[2m \u001b[0m\u001b[2m  10\u001b[0m\u001b[2m \u001b[0m│\u001b[34m      \u001b[0m\u001b[34m \u001b[0m│\u001b[34m      \u001b[0m\u001b[34m \u001b[0m│\u001b[34m      \u001b[0m\u001b[34m \u001b[0m│\u001b[32m       \u001b[0m\u001b[32m \u001b[0m│\u001b[32m      \u001b[0m\u001b[32m \u001b[0m│\u001b[32m              \u001b[0m\u001b[32m \u001b[0m│\u001b[33m      \u001b[0m\u001b[33m \u001b[0m│\u001b[37;40m    \u001b[0m  \n",
            " \u001b[2m \u001b[0m\u001b[2m  11\u001b[0m\u001b[2m \u001b[0m│\u001b[34m      \u001b[0m\u001b[34m \u001b[0m│\u001b[34m      \u001b[0m\u001b[34m \u001b[0m│\u001b[34m      \u001b[0m\u001b[34m \u001b[0m│\u001b[32m       \u001b[0m\u001b[32m \u001b[0m│\u001b[32m      \u001b[0m\u001b[32m \u001b[0m│\u001b[32m              \u001b[0m\u001b[32m \u001b[0m│\u001b[33m      \u001b[0m\u001b[33m \u001b[0m│\u001b[40m    \u001b[0m  \n",
            " \u001b[2m \u001b[0m\u001b[2m    \u001b[0m\u001b[2m \u001b[0m│\u001b[34m      \u001b[0m\u001b[34m \u001b[0m│\u001b[34m      \u001b[0m\u001b[34m \u001b[0m│\u001b[34m      \u001b[0m\u001b[34m \u001b[0m│\u001b[32m       \u001b[0m\u001b[32m \u001b[0m│\u001b[32m      \u001b[0m\u001b[32m \u001b[0m│\u001b[32m              \u001b[0m\u001b[32m \u001b[0m│\u001b[33m      \u001b[0m\u001b[33m \u001b[0m│      \n",
            "╶──────┼───────┼───────┼───────┼────────┼───────┼───────────────┼───────┼─────╴\n",
            " \u001b[2m \u001b[0m\u001b[2m    \u001b[0m\u001b[2m \u001b[0m│\u001b[34m      \u001b[0m\u001b[34m \u001b[0m│\u001b[34m      \u001b[0m\u001b[34m \u001b[0m│\u001b[34m      \u001b[0m\u001b[34m \u001b[0m│\u001b[32m       \u001b[0m\u001b[32m \u001b[0m│\u001b[32m      \u001b[0m\u001b[32m \u001b[0m│\u001b[32m              \u001b[0m\u001b[32m \u001b[0m│\u001b[33m      \u001b[0m\u001b[33m \u001b[0m│\u001b[1;3mfun…\u001b[0m  \n",
            " \u001b[2m \u001b[0m\u001b[2m   1\u001b[0m\u001b[2m \u001b[0m│\u001b[1;31m   60%\u001b[0m\u001b[34m \u001b[0m│\u001b[1;31m   34%\u001b[0m\u001b[34m \u001b[0m│\u001b[34m   6% \u001b[0m\u001b[34m \u001b[0m│\u001b[32m       \u001b[0m\u001b[32m \u001b[0m│\u001b[32m      \u001b[0m\u001b[32m \u001b[0m│\u001b[32m              \u001b[0m\u001b[32m \u001b[0m│\u001b[33m    26\u001b[0m\u001b[33m \u001b[0m│\u001b[37;40mmai…\u001b[0m  \n",
            "       ╵       ╵       ╵       ╵        ╵       ╵               ╵       ╵      \n"
          ]
        }
      ]
    },
    {
      "cell_type": "code",
      "source": [
        "!pip install scalene"
      ],
      "metadata": {
        "colab": {
          "base_uri": "https://localhost:8080/"
        },
        "id": "5Up1Z9umuwct",
        "outputId": "20cf7a2f-0ca1-40ef-a7e1-31759efa4afa"
      },
      "execution_count": 32,
      "outputs": [
        {
          "output_type": "stream",
          "name": "stdout",
          "text": [
            "Collecting scalene\n",
            "  Downloading scalene-1.5.51-cp311-cp311-manylinux_2_24_x86_64.manylinux_2_28_x86_64.whl.metadata (23 kB)\n",
            "Requirement already satisfied: wheel>=0.36.1 in /usr/local/lib/python3.11/dist-packages (from scalene) (0.45.1)\n",
            "Requirement already satisfied: rich>=10.7.0 in /usr/local/lib/python3.11/dist-packages (from scalene) (13.9.4)\n",
            "Requirement already satisfied: cloudpickle>=2.2.1 in /usr/local/lib/python3.11/dist-packages (from scalene) (3.1.1)\n",
            "Requirement already satisfied: nvidia-ml-py>=12.555.43 in /usr/local/lib/python3.11/dist-packages (from scalene) (12.575.51)\n",
            "Requirement already satisfied: Jinja2>=3.0.3 in /usr/local/lib/python3.11/dist-packages (from scalene) (3.1.6)\n",
            "Requirement already satisfied: psutil>=5.9.2 in /usr/local/lib/python3.11/dist-packages (from scalene) (5.9.5)\n",
            "Requirement already satisfied: numpy!=1.27,>=1.24.0 in /usr/local/lib/python3.11/dist-packages (from scalene) (2.0.2)\n",
            "Requirement already satisfied: pydantic>=2.6 in /usr/local/lib/python3.11/dist-packages (from scalene) (2.11.7)\n",
            "Requirement already satisfied: MarkupSafe>=2.0 in /usr/local/lib/python3.11/dist-packages (from Jinja2>=3.0.3->scalene) (3.0.2)\n",
            "Requirement already satisfied: annotated-types>=0.6.0 in /usr/local/lib/python3.11/dist-packages (from pydantic>=2.6->scalene) (0.7.0)\n",
            "Requirement already satisfied: pydantic-core==2.33.2 in /usr/local/lib/python3.11/dist-packages (from pydantic>=2.6->scalene) (2.33.2)\n",
            "Requirement already satisfied: typing-extensions>=4.12.2 in /usr/local/lib/python3.11/dist-packages (from pydantic>=2.6->scalene) (4.14.0)\n",
            "Requirement already satisfied: typing-inspection>=0.4.0 in /usr/local/lib/python3.11/dist-packages (from pydantic>=2.6->scalene) (0.4.1)\n",
            "Requirement already satisfied: markdown-it-py>=2.2.0 in /usr/local/lib/python3.11/dist-packages (from rich>=10.7.0->scalene) (3.0.0)\n",
            "Requirement already satisfied: pygments<3.0.0,>=2.13.0 in /usr/local/lib/python3.11/dist-packages (from rich>=10.7.0->scalene) (2.19.1)\n",
            "Requirement already satisfied: mdurl~=0.1 in /usr/local/lib/python3.11/dist-packages (from markdown-it-py>=2.2.0->rich>=10.7.0->scalene) (0.1.2)\n",
            "Downloading scalene-1.5.51-cp311-cp311-manylinux_2_24_x86_64.manylinux_2_28_x86_64.whl (1.2 MB)\n",
            "\u001b[2K   \u001b[90m━━━━━━━━━━━━━━━━━━━━━━━━━━━━━━━━━━━━━━━━\u001b[0m \u001b[32m1.2/1.2 MB\u001b[0m \u001b[31m31.9 MB/s\u001b[0m eta \u001b[36m0:00:00\u001b[0m\n",
            "\u001b[?25hInstalling collected packages: scalene\n",
            "Successfully installed scalene-1.5.51\n"
          ]
        }
      ]
    },
    {
      "cell_type": "code",
      "source": [
        "!scalene --html --outfile sharry.html one.py"
      ],
      "metadata": {
        "colab": {
          "base_uri": "https://localhost:8080/"
        },
        "id": "QlNEa6XYvfxG",
        "outputId": "1ac6448c-ae06-4a56-b2e5-db6d906d29c2"
      },
      "execution_count": 38,
      "outputs": [
        {
          "output_type": "stream",
          "name": "stdout",
          "text": [
            "1101025\n"
          ]
        }
      ]
    },
    {
      "cell_type": "code",
      "source": [
        "from IPython.display import HTML\n",
        "\n",
        "HTML(open(\"sharry.html\").read())"
      ],
      "metadata": {
        "colab": {
          "base_uri": "https://localhost:8080/",
          "height": 419
        },
        "id": "Mo1ezkTLvun_",
        "outputId": "a94345d9-00a8-4658-890a-d7958e5957bd"
      },
      "execution_count": 39,
      "outputs": [
        {
          "output_type": "execute_result",
          "data": {
            "text/plain": [
              "<IPython.core.display.HTML object>"
            ],
            "text/html": [
              "<!DOCTYPE html>\n",
              "<html>\n",
              "<head>\n",
              "<meta charset=\"UTF-8\">\n",
              "<style>\n",
              ".r1 {font-style: italic}\n",
              ".r2 {font-weight: bold}\n",
              ".r3 {color: #000080; text-decoration-color: #000080; font-weight: bold}\n",
              ".r4 {color: #005f00; text-decoration-color: #005f00; font-weight: bold}\n",
              ".r5 {color: #87af00; text-decoration-color: #87af00; font-weight: bold}\n",
              ".r6 {color: #7f7f7f; text-decoration-color: #7f7f7f; font-weight: bold}\n",
              ".r7 {color: #000080; text-decoration-color: #000080; font-weight: bold; font-style: italic}\n",
              ".r8 {color: #005f00; text-decoration-color: #005f00; font-weight: bold; font-style: italic}\n",
              ".r9 {color: #87af00; text-decoration-color: #87af00; font-weight: bold; font-style: italic}\n",
              ".r10 {color: #7f7f7f; text-decoration-color: #7f7f7f}\n",
              ".r11 {color: #000080; text-decoration-color: #000080}\n",
              ".r12 {color: #005f00; text-decoration-color: #005f00}\n",
              ".r13 {color: #87af00; text-decoration-color: #87af00}\n",
              ".r14 {color: #008000; text-decoration-color: #008000; background-color: #f8f8f8; font-weight: bold}\n",
              ".r15 {color: #bbbbbb; text-decoration-color: #bbbbbb; background-color: #f8f8f8}\n",
              ".r16 {color: #0000ff; text-decoration-color: #0000ff; background-color: #f8f8f8}\n",
              ".r17 {color: #000000; text-decoration-color: #000000; background-color: #f8f8f8}\n",
              ".r18 {background-color: #f8f8f8}\n",
              ".r19 {color: #0000ff; text-decoration-color: #0000ff; background-color: #f8f8f8; font-weight: bold}\n",
              ".r20 {color: #800000; text-decoration-color: #800000; font-weight: bold}\n",
              ".r21 {color: #666666; text-decoration-color: #666666; background-color: #f8f8f8}\n",
              ".r22 {color: #aa22ff; text-decoration-color: #aa22ff; background-color: #f8f8f8; font-weight: bold}\n",
              ".r23 {color: #008000; text-decoration-color: #008000; background-color: #f8f8f8}\n",
              ".r24 {color: #19177c; text-decoration-color: #19177c; background-color: #f8f8f8}\n",
              ".r25 {color: #ba2121; text-decoration-color: #ba2121; background-color: #f8f8f8}\n",
              ".r26 {font-weight: bold; font-style: italic}\n",
              ".r27 {color: #000080; text-decoration-color: #000080; text-decoration: underline}\n",
              "body {\n",
              "    color: #000000;\n",
              "    background-color: #ffffff;\n",
              "}\n",
              "</style>\n",
              "</head>\n",
              "<body>\n",
              "    <pre style=\"font-family:Menlo,'DejaVu Sans Mono',consolas,'Courier New',monospace\"><code style=\"font-family:inherit\"><span class=\"r1\">                                /content/one.py: % of time = 100.00% (191.288ms) out of 191.288ms.                                 </span>\n",
              "       ╷       ╷       ╷       ╷        ╷       ╷               ╷       ╷                                                          \n",
              " <span class=\"r2\">      </span>│<span class=\"r3\">Time</span><span class=\"r2\">   </span>│<span class=\"r3\">––––––</span><span class=\"r2\"> </span>│<span class=\"r3\">––––––</span><span class=\"r2\"> </span>│<span class=\"r4\">Memory</span><span class=\"r2\">  </span>│<span class=\"r4\">––––––</span><span class=\"r2\"> </span>│<span class=\"r4\">–––––––––––</span><span class=\"r2\">    </span>│<span class=\"r5\">Copy</span><span class=\"r2\">   </span>│<span class=\"r2\">                                                         </span> \n",
              " <span class=\"r2\"> </span><span class=\"r6\">Line</span><span class=\"r2\"> </span>│<span class=\"r7\">Python</span><span class=\"r2\"> </span>│<span class=\"r7\">native</span><span class=\"r2\"> </span>│<span class=\"r7\">system</span><span class=\"r2\"> </span>│<span class=\"r8\">Python</span><span class=\"r2\">  </span>│<span class=\"r8\">peak</span><span class=\"r2\">   </span>│<span class=\"r8\">timeline</span><span class=\"r4\">/%</span><span class=\"r2\">     </span>│<span class=\"r9\">(MB/s)</span><span class=\"r2\"> </span>│<span class=\"r2\">/content/one.py                                          </span> \n",
              "╺━━━━━━┿━━━━━━━┿━━━━━━━┿━━━━━━━┿━━━━━━━━┿━━━━━━━┿━━━━━━━━━━━━━━━┿━━━━━━━┿━━━━━━━━━━━━━━━━━━━━━━━━━━━━━━━━━━━━━━━━━━━━━━━━━━━━━━━━━╸\n",
              " <span class=\"r10\">    1 </span>│<span class=\"r11\">       </span>│<span class=\"r11\">       </span>│<span class=\"r11\">       </span>│<span class=\"r12\">        </span>│<span class=\"r12\">       </span>│<span class=\"r12\">               </span>│<span class=\"r13\">       </span>│<span class=\"r14\">def</span><span class=\"r15\"> </span><span class=\"r16\">main_func</span><span class=\"r17\">():</span><span class=\"r18\">                                        </span>  \n",
              " <span class=\"r10\">    2 </span>│<span class=\"r11\">       </span>│<span class=\"r11\">       </span>│<span class=\"r11\">       </span>│<span class=\"r12\">        </span>│<span class=\"r12\">       </span>│<span class=\"r12\">               </span>│<span class=\"r13\">       </span>│<span class=\"r17\">    </span><span class=\"r14\">import</span><span class=\"r15\"> </span><span class=\"r19\">random</span><span class=\"r18\">                                       </span>  \n",
              " <span class=\"r10\">    3 </span>│<span class=\"r20\">   23%</span><span class=\"r11\"> </span>│<span class=\"r20\">   33%</span><span class=\"r11\"> </span>│<span class=\"r11\">   1%  </span>│<span class=\"r12\">        </span>│<span class=\"r12\">       </span>│<span class=\"r12\">               </span>│<span class=\"r13\">       </span>│<span class=\"r17\">    arr1 </span><span class=\"r21\">=</span><span class=\"r17\"> [random</span><span class=\"r21\">.</span><span class=\"r17\">randint(</span><span class=\"r21\">1</span><span class=\"r17\">,</span><span class=\"r21\">10</span><span class=\"r17\">) </span><span class=\"r14\">for</span><span class=\"r17\"> i </span><span class=\"r22\">in</span><span class=\"r17\"> </span><span class=\"r23\">range</span><span class=\"r17\">(</span><span class=\"r21\">100000</span><span class=\"r17\">)]</span>  \n",
              " <span class=\"r10\">    4 </span>│<span class=\"r20\">   35%</span><span class=\"r11\"> </span>│<span class=\"r20\">    1%</span><span class=\"r11\"> </span>│<span class=\"r11\">       </span>│<span class=\"r12\">        </span>│<span class=\"r12\">       </span>│<span class=\"r12\">               </span>│<span class=\"r13\">       </span>│<span class=\"r17\">    arr2 </span><span class=\"r21\">=</span><span class=\"r17\"> [random</span><span class=\"r21\">.</span><span class=\"r17\">randint(</span><span class=\"r21\">1</span><span class=\"r17\">,</span><span class=\"r21\">10</span><span class=\"r17\">) </span><span class=\"r14\">for</span><span class=\"r17\"> i </span><span class=\"r22\">in</span><span class=\"r17\"> </span><span class=\"r23\">range</span><span class=\"r17\">(</span><span class=\"r21\">100000</span><span class=\"r17\">)]</span>  \n",
              " <span class=\"r10\">    5 </span>│<span class=\"r11\">    6% </span>│<span class=\"r11\">       </span>│<span class=\"r11\">       </span>│<span class=\"r12\">        </span>│<span class=\"r12\">       </span>│<span class=\"r12\">               </span>│<span class=\"r13\">       </span>│<span class=\"r17\">    arr3 </span><span class=\"r21\">=</span><span class=\"r17\"> [arr1[i]</span><span class=\"r21\">+</span><span class=\"r17\">arr2[i] </span><span class=\"r14\">for</span><span class=\"r17\"> i </span><span class=\"r22\">in</span><span class=\"r17\"> </span><span class=\"r23\">range</span><span class=\"r17\">(</span><span class=\"r21\">100000</span><span class=\"r17\">)]</span><span class=\"r18\">     </span>  \n",
              " <span class=\"r10\">    6 </span>│<span class=\"r11\">       </span>│<span class=\"r11\">       </span>│<span class=\"r11\">       </span>│<span class=\"r12\">        </span>│<span class=\"r12\">       </span>│<span class=\"r12\">               </span>│<span class=\"r13\">       </span>│<span class=\"r17\">    tot </span><span class=\"r21\">=</span><span class=\"r17\"> </span><span class=\"r23\">sum</span><span class=\"r17\">(arr3)</span><span class=\"r18\">                                     </span>  \n",
              " <span class=\"r10\">    7 </span>│<span class=\"r11\">       </span>│<span class=\"r11\">       </span>│<span class=\"r11\">       </span>│<span class=\"r12\">        </span>│<span class=\"r12\">       </span>│<span class=\"r12\">               </span>│<span class=\"r13\">       </span>│<span class=\"r17\">    </span><span class=\"r23\">print</span><span class=\"r17\">(tot)</span><span class=\"r18\">                                          </span>  \n",
              " <span class=\"r10\">    8 </span>│<span class=\"r11\">       </span>│<span class=\"r11\">       </span>│<span class=\"r11\">       </span>│<span class=\"r12\">        </span>│<span class=\"r12\">       </span>│<span class=\"r12\">               </span>│<span class=\"r13\">       </span>│<span class=\"r18\">                                                        </span>  \n",
              " <span class=\"r10\">    9 </span>│<span class=\"r11\">       </span>│<span class=\"r11\">       </span>│<span class=\"r11\">       </span>│<span class=\"r12\">        </span>│<span class=\"r12\">       </span>│<span class=\"r12\">               </span>│<span class=\"r13\">       </span>│<span class=\"r14\">if</span><span class=\"r17\"> </span><span class=\"r24\">__name__</span><span class=\"r17\"> </span><span class=\"r21\">==</span><span class=\"r17\"> </span><span class=\"r25\">&quot;__main__&quot;</span><span class=\"r17\">:</span><span class=\"r18\">                              </span>  \n",
              " <span class=\"r10\">   10 </span>│<span class=\"r11\">       </span>│<span class=\"r11\">       </span>│<span class=\"r11\">       </span>│<span class=\"r12\">        </span>│<span class=\"r12\">       </span>│<span class=\"r12\">               </span>│<span class=\"r13\">       </span>│<span class=\"r17\">    main_func()</span><span class=\"r18\">                                         </span>  \n",
              " <span class=\"r10\">   11 </span>│<span class=\"r11\">       </span>│<span class=\"r11\">       </span>│<span class=\"r11\">       </span>│<span class=\"r12\">        </span>│<span class=\"r12\">       </span>│<span class=\"r12\">               </span>│<span class=\"r13\">       </span>│<span class=\"r18\">                                                        </span>  \n",
              " <span class=\"r10\">      </span>│<span class=\"r11\">       </span>│<span class=\"r11\">       </span>│<span class=\"r11\">       </span>│<span class=\"r12\">        </span>│<span class=\"r12\">       </span>│<span class=\"r12\">               </span>│<span class=\"r13\">       </span>│                                                          \n",
              "╶──────┼───────┼───────┼───────┼────────┼───────┼───────────────┼───────┼─────────────────────────────────────────────────────────╴\n",
              " <span class=\"r10\">      </span>│<span class=\"r11\">       </span>│<span class=\"r11\">       </span>│<span class=\"r11\">       </span>│<span class=\"r12\">        </span>│<span class=\"r12\">       </span>│<span class=\"r12\">               </span>│<span class=\"r13\">       </span>│<span class=\"r26\">function summary for /content/one.py                    </span>  \n",
              " <span class=\"r10\">    1 </span>│<span class=\"r20\">   64%</span><span class=\"r11\"> </span>│<span class=\"r20\">   35%</span><span class=\"r11\"> </span>│<span class=\"r11\">       </span>│<span class=\"r12\">        </span>│<span class=\"r12\">       </span>│<span class=\"r12\">               </span>│<span class=\"r13\">       </span>│<span class=\"r17\">main_func</span><span class=\"r18\">                                               </span>  \n",
              "       ╵       ╵       ╵       ╵        ╵       ╵               ╵       ╵                                                          \n",
              "generated by the <a class=\"r27\" href=\"https://github.com/plasma-umass/scalene\">scalene</a> profiler                                                                                                   \n",
              "</code></pre>\n",
              "</body>\n",
              "</html>\n"
            ]
          },
          "metadata": {},
          "execution_count": 39
        }
      ]
    },
    {
      "cell_type": "code",
      "source": [
        "!scalene --reduced-profile  one.py"
      ],
      "metadata": {
        "colab": {
          "base_uri": "https://localhost:8080/"
        },
        "id": "wMWgSTHrwQuv",
        "outputId": "53a5fbf0-d153-48c1-a2ba-744f7c7f25c6"
      },
      "execution_count": 40,
      "outputs": [
        {
          "output_type": "stream",
          "name": "stdout",
          "text": [
            "1097808\n",
            "\u001b[3m      /content/one.py: % of time = 100.00% (182.837ms) out of 182.837ms.       \u001b[0m\n",
            "       ╷       ╷       ╷       ╷        ╷       ╷               ╷       ╷      \n",
            " \u001b[1m      \u001b[0m│\u001b[1;34mTime\u001b[0m\u001b[1m  \u001b[0m\u001b[1m \u001b[0m│\u001b[1;34m––––––\u001b[0m\u001b[1m \u001b[0m│\u001b[1;34m––––––\u001b[0m\u001b[1m \u001b[0m│\u001b[1;32mMemory\u001b[0m\u001b[1m \u001b[0m\u001b[1m \u001b[0m│\u001b[1;32m––––––\u001b[0m\u001b[1m \u001b[0m│\u001b[1;32m–––––––––––\u001b[0m\u001b[1m   \u001b[0m\u001b[1m \u001b[0m│\u001b[1;33mCopy\u001b[0m\u001b[1m  \u001b[0m\u001b[1m \u001b[0m│\u001b[1m    \u001b[0m\u001b[1m \u001b[0m \n",
            " \u001b[1m \u001b[0m\u001b[1;2mLine\u001b[0m\u001b[1m \u001b[0m│\u001b[1;3;34mPython\u001b[0m\u001b[1m \u001b[0m│\u001b[1;3;34mnative\u001b[0m\u001b[1m \u001b[0m│\u001b[1;3;34msystem\u001b[0m\u001b[1m \u001b[0m│\u001b[1;3;32mPython\u001b[0m\u001b[1m \u001b[0m\u001b[1m \u001b[0m│\u001b[1;3;32mpeak\u001b[0m\u001b[1m  \u001b[0m\u001b[1m \u001b[0m│\u001b[1;3;32mtimeline\u001b[0m\u001b[1;32m/%\u001b[0m\u001b[1m    \u001b[0m\u001b[1m \u001b[0m│\u001b[1;3;33m(MB/s)\u001b[0m\u001b[1m \u001b[0m│\u001b[1m/co…\u001b[0m\u001b[1m \u001b[0m \n",
            "╺━━━━━━┿━━━━━━━┿━━━━━━━┿━━━━━━━┿━━━━━━━━┿━━━━━━━┿━━━━━━━━━━━━━━━┿━━━━━━━┿━━━━━╸\n",
            " \u001b[2m \u001b[0m\u001b[2m ...\u001b[0m\u001b[2m \u001b[0m│\u001b[34m      \u001b[0m\u001b[34m \u001b[0m│\u001b[34m      \u001b[0m\u001b[34m \u001b[0m│\u001b[34m      \u001b[0m\u001b[34m \u001b[0m│\u001b[32m       \u001b[0m\u001b[32m \u001b[0m│\u001b[32m      \u001b[0m\u001b[32m \u001b[0m│\u001b[32m              \u001b[0m\u001b[32m \u001b[0m│\u001b[33m      \u001b[0m\u001b[33m \u001b[0m│      \n",
            " \u001b[2m \u001b[0m\u001b[2m   3\u001b[0m\u001b[2m \u001b[0m│\u001b[1;31m   24%\u001b[0m\u001b[34m \u001b[0m│\u001b[1;31m   33%\u001b[0m\u001b[34m \u001b[0m│\u001b[34m      \u001b[0m\u001b[34m \u001b[0m│\u001b[32m       \u001b[0m\u001b[32m \u001b[0m│\u001b[32m      \u001b[0m\u001b[32m \u001b[0m│\u001b[32m              \u001b[0m\u001b[32m \u001b[0m│\u001b[33m      \u001b[0m\u001b[33m \u001b[0m│\u001b[37;40m    \u001b[0m  \n",
            " \u001b[2m \u001b[0m\u001b[2m   4\u001b[0m\u001b[2m \u001b[0m│\u001b[1;31m   34%\u001b[0m\u001b[34m \u001b[0m│\u001b[34m      \u001b[0m\u001b[34m \u001b[0m│\u001b[34m   2% \u001b[0m\u001b[34m \u001b[0m│\u001b[32m       \u001b[0m\u001b[32m \u001b[0m│\u001b[32m      \u001b[0m\u001b[32m \u001b[0m│\u001b[32m              \u001b[0m\u001b[32m \u001b[0m│\u001b[33m      \u001b[0m\u001b[33m \u001b[0m│\u001b[37;40m    \u001b[0m  \n",
            " \u001b[2m \u001b[0m\u001b[2m   5\u001b[0m\u001b[2m \u001b[0m│\u001b[34m    6%\u001b[0m\u001b[34m \u001b[0m│\u001b[34m      \u001b[0m\u001b[34m \u001b[0m│\u001b[34m      \u001b[0m\u001b[34m \u001b[0m│\u001b[32m       \u001b[0m\u001b[32m \u001b[0m│\u001b[32m      \u001b[0m\u001b[32m \u001b[0m│\u001b[32m              \u001b[0m\u001b[32m \u001b[0m│\u001b[33m      \u001b[0m\u001b[33m \u001b[0m│\u001b[37;40m    \u001b[0m  \n",
            " \u001b[2m \u001b[0m\u001b[2m ...\u001b[0m\u001b[2m \u001b[0m│\u001b[34m      \u001b[0m\u001b[34m \u001b[0m│\u001b[34m      \u001b[0m\u001b[34m \u001b[0m│\u001b[34m      \u001b[0m\u001b[34m \u001b[0m│\u001b[32m       \u001b[0m\u001b[32m \u001b[0m│\u001b[32m      \u001b[0m\u001b[32m \u001b[0m│\u001b[32m              \u001b[0m\u001b[32m \u001b[0m│\u001b[33m      \u001b[0m\u001b[33m \u001b[0m│      \n",
            " \u001b[2m \u001b[0m\u001b[2m    \u001b[0m\u001b[2m \u001b[0m│\u001b[34m      \u001b[0m\u001b[34m \u001b[0m│\u001b[34m      \u001b[0m\u001b[34m \u001b[0m│\u001b[34m      \u001b[0m\u001b[34m \u001b[0m│\u001b[32m       \u001b[0m\u001b[32m \u001b[0m│\u001b[32m      \u001b[0m\u001b[32m \u001b[0m│\u001b[32m              \u001b[0m\u001b[32m \u001b[0m│\u001b[33m      \u001b[0m\u001b[33m \u001b[0m│      \n",
            "╶──────┼───────┼───────┼───────┼────────┼───────┼───────────────┼───────┼─────╴\n",
            " \u001b[2m \u001b[0m\u001b[2m    \u001b[0m\u001b[2m \u001b[0m│\u001b[34m      \u001b[0m\u001b[34m \u001b[0m│\u001b[34m      \u001b[0m\u001b[34m \u001b[0m│\u001b[34m      \u001b[0m\u001b[34m \u001b[0m│\u001b[32m       \u001b[0m\u001b[32m \u001b[0m│\u001b[32m      \u001b[0m\u001b[32m \u001b[0m│\u001b[32m              \u001b[0m\u001b[32m \u001b[0m│\u001b[33m      \u001b[0m\u001b[33m \u001b[0m│\u001b[1;3mfun…\u001b[0m  \n",
            " \u001b[2m \u001b[0m\u001b[2m   1\u001b[0m\u001b[2m \u001b[0m│\u001b[1;31m   63%\u001b[0m\u001b[34m \u001b[0m│\u001b[1;31m   33%\u001b[0m\u001b[34m \u001b[0m│\u001b[34m   4% \u001b[0m\u001b[34m \u001b[0m│\u001b[32m       \u001b[0m\u001b[32m \u001b[0m│\u001b[32m      \u001b[0m\u001b[32m \u001b[0m│\u001b[32m              \u001b[0m\u001b[32m \u001b[0m│\u001b[33m      \u001b[0m\u001b[33m \u001b[0m│\u001b[37;40mmai…\u001b[0m  \n",
            "       ╵       ╵       ╵       ╵        ╵       ╵               ╵       ╵      \n"
          ]
        }
      ]
    },
    {
      "cell_type": "code",
      "source": [
        "!scalene --cpu-only one.py"
      ],
      "metadata": {
        "colab": {
          "base_uri": "https://localhost:8080/"
        },
        "id": "A0MGhcPTwXkB",
        "outputId": "5a6d0f9b-c782-4f83-d90b-b834908410a6"
      },
      "execution_count": 41,
      "outputs": [
        {
          "output_type": "stream",
          "name": "stdout",
          "text": [
            "1100019\n",
            "\u001b[3m      /content/one.py: % of time = 100.00% (154.151ms) out of 154.151ms.       \u001b[0m\n",
            "        ╷        ╷       ╷       ╷                                             \n",
            " \u001b[1m       \u001b[0m│\u001b[1;34mTime\u001b[0m\u001b[1m   \u001b[0m\u001b[1m \u001b[0m│\u001b[1;34m––––––\u001b[0m\u001b[1m \u001b[0m│\u001b[1;34m––––––\u001b[0m\u001b[1m \u001b[0m│\u001b[1m                                           \u001b[0m\u001b[1m \u001b[0m \n",
            " \u001b[1m \u001b[0m\u001b[1;2mLine\u001b[0m\u001b[1m \u001b[0m\u001b[1m \u001b[0m│\u001b[1;3;34mPython\u001b[0m\u001b[1m \u001b[0m\u001b[1m \u001b[0m│\u001b[1;3;34mnative\u001b[0m\u001b[1m \u001b[0m│\u001b[1;3;34msystem\u001b[0m\u001b[1m \u001b[0m│\u001b[1m/content/one.py                            \u001b[0m\u001b[1m \u001b[0m \n",
            "╺━━━━━━━┿━━━━━━━━┿━━━━━━━┿━━━━━━━┿━━━━━━━━━━━━━━━━━━━━━━━━━━━━━━━━━━━━━━━━━━━━╸\n",
            " \u001b[2m \u001b[0m\u001b[2m    1\u001b[0m\u001b[2m \u001b[0m│\u001b[34m       \u001b[0m\u001b[34m \u001b[0m│\u001b[34m      \u001b[0m\u001b[34m \u001b[0m│\u001b[34m      \u001b[0m\u001b[34m \u001b[0m│\u001b[93;40mdef\u001b[0m\u001b[37;40m \u001b[0m\u001b[37;40mmain_func\u001b[0m\u001b[37;40m(\u001b[0m\u001b[37;40m)\u001b[0m\u001b[37;40m:\u001b[0m\u001b[40m                           \u001b[0m  \n",
            " \u001b[2m \u001b[0m\u001b[2m    2\u001b[0m\u001b[2m \u001b[0m│\u001b[34m       \u001b[0m\u001b[34m \u001b[0m│\u001b[34m      \u001b[0m\u001b[34m \u001b[0m│\u001b[34m      \u001b[0m\u001b[34m \u001b[0m│\u001b[37;40m    \u001b[0m\u001b[35;40mimport\u001b[0m\u001b[37;40m \u001b[0m\u001b[37;40mrandom\u001b[0m\u001b[40m                          \u001b[0m  \n",
            " \u001b[2m \u001b[0m\u001b[2m    3\u001b[0m\u001b[2m \u001b[0m│\u001b[1;31m   21%\u001b[0m\u001b[34m \u001b[0m\u001b[34m \u001b[0m│\u001b[1;31m   35%\u001b[0m\u001b[34m \u001b[0m│\u001b[34m   1% \u001b[0m\u001b[34m \u001b[0m│\u001b[37;40m    \u001b[0m\u001b[37;40marr1\u001b[0m\u001b[37;40m \u001b[0m\u001b[36;40m=\u001b[0m\u001b[37;40m \u001b[0m\u001b[37;40m[\u001b[0m\u001b[37;40mrandom\u001b[0m\u001b[36;40m.\u001b[0m\u001b[37;40mrandint\u001b[0m\u001b[37;40m(\u001b[0m\u001b[35;40m1\u001b[0m\u001b[37;40m,\u001b[0m\u001b[35;40m10\u001b[0m\u001b[37;40m)\u001b[0m\u001b[37;40m \u001b[0m\u001b[93;40mfor\u001b[0m\u001b[37;40m \u001b[0m\u001b[37;40mi\u001b[0m\u001b[37;40m \u001b[0m\u001b[93;40min\u001b[0m\u001b[37;40m \u001b[0m\u001b[35;40mr\u001b[0m  \n",
            " \u001b[2m \u001b[0m\u001b[2m    4\u001b[0m\u001b[2m \u001b[0m│\u001b[1;31m   34%\u001b[0m\u001b[34m \u001b[0m\u001b[34m \u001b[0m│\u001b[34m      \u001b[0m\u001b[34m \u001b[0m│\u001b[34m      \u001b[0m\u001b[34m \u001b[0m│\u001b[37;40m    \u001b[0m\u001b[37;40marr2\u001b[0m\u001b[37;40m \u001b[0m\u001b[36;40m=\u001b[0m\u001b[37;40m \u001b[0m\u001b[37;40m[\u001b[0m\u001b[37;40mrandom\u001b[0m\u001b[36;40m.\u001b[0m\u001b[37;40mrandint\u001b[0m\u001b[37;40m(\u001b[0m\u001b[35;40m1\u001b[0m\u001b[37;40m,\u001b[0m\u001b[35;40m10\u001b[0m\u001b[37;40m)\u001b[0m\u001b[37;40m \u001b[0m\u001b[93;40mfor\u001b[0m\u001b[37;40m \u001b[0m\u001b[37;40mi\u001b[0m\u001b[37;40m \u001b[0m\u001b[93;40min\u001b[0m\u001b[37;40m \u001b[0m\u001b[35;40mr\u001b[0m  \n",
            " \u001b[2m \u001b[0m\u001b[2m    5\u001b[0m\u001b[2m \u001b[0m│\u001b[34m       \u001b[0m\u001b[34m \u001b[0m│\u001b[34m      \u001b[0m\u001b[34m \u001b[0m│\u001b[34m      \u001b[0m\u001b[34m \u001b[0m│\u001b[37;40m    \u001b[0m\u001b[37;40marr3\u001b[0m\u001b[37;40m \u001b[0m\u001b[36;40m=\u001b[0m\u001b[37;40m \u001b[0m\u001b[37;40m[\u001b[0m\u001b[37;40marr1\u001b[0m\u001b[37;40m[\u001b[0m\u001b[37;40mi\u001b[0m\u001b[37;40m]\u001b[0m\u001b[36;40m+\u001b[0m\u001b[37;40marr2\u001b[0m\u001b[37;40m[\u001b[0m\u001b[37;40mi\u001b[0m\u001b[37;40m]\u001b[0m\u001b[37;40m \u001b[0m\u001b[93;40mfor\u001b[0m\u001b[37;40m \u001b[0m\u001b[37;40mi\u001b[0m\u001b[37;40m \u001b[0m\u001b[93;40min\u001b[0m\u001b[37;40m \u001b[0m\u001b[35;40mrange\u001b[0m\u001b[37;40m(\u001b[0m  \n",
            " \u001b[2m \u001b[0m\u001b[2m    6\u001b[0m\u001b[2m \u001b[0m│\u001b[34m    6% \u001b[0m\u001b[34m \u001b[0m│\u001b[34m      \u001b[0m\u001b[34m \u001b[0m│\u001b[34m      \u001b[0m\u001b[34m \u001b[0m│\u001b[37;40m    \u001b[0m\u001b[37;40mtot\u001b[0m\u001b[37;40m \u001b[0m\u001b[36;40m=\u001b[0m\u001b[37;40m \u001b[0m\u001b[35;40msum\u001b[0m\u001b[37;40m(\u001b[0m\u001b[37;40marr3\u001b[0m\u001b[37;40m)\u001b[0m\u001b[40m                        \u001b[0m  \n",
            " \u001b[2m \u001b[0m\u001b[2m    7\u001b[0m\u001b[2m \u001b[0m│\u001b[34m       \u001b[0m\u001b[34m \u001b[0m│\u001b[34m      \u001b[0m\u001b[34m \u001b[0m│\u001b[34m      \u001b[0m\u001b[34m \u001b[0m│\u001b[37;40m    \u001b[0m\u001b[35;40mprint\u001b[0m\u001b[37;40m(\u001b[0m\u001b[37;40mtot\u001b[0m\u001b[37;40m)\u001b[0m\u001b[40m                             \u001b[0m  \n",
            " \u001b[2m \u001b[0m\u001b[2m    8\u001b[0m\u001b[2m \u001b[0m│\u001b[34m       \u001b[0m\u001b[34m \u001b[0m│\u001b[34m      \u001b[0m\u001b[34m \u001b[0m│\u001b[34m      \u001b[0m\u001b[34m \u001b[0m│\u001b[40m                                           \u001b[0m  \n",
            " \u001b[2m \u001b[0m\u001b[2m    9\u001b[0m\u001b[2m \u001b[0m│\u001b[34m       \u001b[0m\u001b[34m \u001b[0m│\u001b[34m      \u001b[0m\u001b[34m \u001b[0m│\u001b[34m      \u001b[0m\u001b[34m \u001b[0m│\u001b[93;40mif\u001b[0m\u001b[37;40m \u001b[0m\u001b[36;40m__name__\u001b[0m\u001b[37;40m \u001b[0m\u001b[36;40m==\u001b[0m\u001b[37;40m \u001b[0m\u001b[31;40m\"\u001b[0m\u001b[31;40m__main__\u001b[0m\u001b[31;40m\"\u001b[0m\u001b[37;40m:\u001b[0m\u001b[40m                 \u001b[0m  \n",
            " \u001b[2m \u001b[0m\u001b[2m   10\u001b[0m\u001b[2m \u001b[0m│\u001b[34m       \u001b[0m\u001b[34m \u001b[0m│\u001b[34m      \u001b[0m\u001b[34m \u001b[0m│\u001b[34m      \u001b[0m\u001b[34m \u001b[0m│\u001b[37;40m    \u001b[0m\u001b[37;40mmain_func\u001b[0m\u001b[37;40m(\u001b[0m\u001b[37;40m)\u001b[0m\u001b[40m                            \u001b[0m  \n",
            " \u001b[2m \u001b[0m\u001b[2m   11\u001b[0m\u001b[2m \u001b[0m│\u001b[34m       \u001b[0m\u001b[34m \u001b[0m│\u001b[34m      \u001b[0m\u001b[34m \u001b[0m│\u001b[34m      \u001b[0m\u001b[34m \u001b[0m│\u001b[40m                                           \u001b[0m  \n",
            " \u001b[2m \u001b[0m\u001b[2m     \u001b[0m\u001b[2m \u001b[0m│\u001b[34m       \u001b[0m\u001b[34m \u001b[0m│\u001b[34m      \u001b[0m\u001b[34m \u001b[0m│\u001b[34m      \u001b[0m\u001b[34m \u001b[0m│                                             \n",
            "╶───────┼────────┼───────┼───────┼────────────────────────────────────────────╴\n",
            " \u001b[2m \u001b[0m\u001b[2m     \u001b[0m\u001b[2m \u001b[0m│\u001b[34m       \u001b[0m\u001b[34m \u001b[0m│\u001b[34m      \u001b[0m\u001b[34m \u001b[0m│\u001b[34m      \u001b[0m\u001b[34m \u001b[0m│\u001b[1;3mfunction summary for /content/one.py       \u001b[0m  \n",
            " \u001b[2m \u001b[0m\u001b[2m    1\u001b[0m\u001b[2m \u001b[0m│\u001b[1;31m   61%\u001b[0m\u001b[34m \u001b[0m\u001b[34m \u001b[0m│\u001b[1;31m   36%\u001b[0m\u001b[34m \u001b[0m│\u001b[34m   3% \u001b[0m\u001b[34m \u001b[0m│\u001b[37;40mmain_func\u001b[0m\u001b[40m                                  \u001b[0m  \n",
            "        ╵        ╵       ╵       ╵                                             \n"
          ]
        }
      ]
    },
    {
      "cell_type": "markdown",
      "source": [
        "CPU Only Profiling\n",
        "The fourth example explains how we can eliminate memory usage information from profiling if we don't need it. We can use the --cpu-only option if we want to check only CPU consumption by our script."
      ],
      "metadata": {
        "id": "ipR-xsnRwtGu"
      }
    },
    {
      "cell_type": "code",
      "source": [
        "!scalene --use-virtual-time one.py"
      ],
      "metadata": {
        "colab": {
          "base_uri": "https://localhost:8080/"
        },
        "id": "XlLHNxtNwdRJ",
        "outputId": "0fa2520a-38ce-4e2e-b9ca-4d996fc923a6"
      },
      "execution_count": 42,
      "outputs": [
        {
          "output_type": "stream",
          "name": "stdout",
          "text": [
            "1101208\n",
            "\u001b[3m      /content/one.py: % of time = 100.00% (332.984ms) out of 332.984ms.       \u001b[0m\n",
            "       ╷       ╷       ╷       ╷        ╷       ╷               ╷       ╷      \n",
            " \u001b[1m      \u001b[0m│\u001b[1;34mTime\u001b[0m\u001b[1m  \u001b[0m\u001b[1m \u001b[0m│\u001b[1;34m––––––\u001b[0m\u001b[1m \u001b[0m│\u001b[1;34m––––––\u001b[0m\u001b[1m \u001b[0m│\u001b[1;32mMemory\u001b[0m\u001b[1m \u001b[0m\u001b[1m \u001b[0m│\u001b[1;32m––––––\u001b[0m\u001b[1m \u001b[0m│\u001b[1;32m–––––––––––\u001b[0m\u001b[1m   \u001b[0m\u001b[1m \u001b[0m│\u001b[1;33mCopy\u001b[0m\u001b[1m  \u001b[0m\u001b[1m \u001b[0m│\u001b[1m    \u001b[0m\u001b[1m \u001b[0m \n",
            " \u001b[1m \u001b[0m\u001b[1;2mLine\u001b[0m\u001b[1m \u001b[0m│\u001b[1;3;34mPython\u001b[0m\u001b[1m \u001b[0m│\u001b[1;3;34mnative\u001b[0m\u001b[1m \u001b[0m│\u001b[1;3;34msystem\u001b[0m\u001b[1m \u001b[0m│\u001b[1;3;32mPython\u001b[0m\u001b[1m \u001b[0m\u001b[1m \u001b[0m│\u001b[1;3;32mpeak\u001b[0m\u001b[1m  \u001b[0m\u001b[1m \u001b[0m│\u001b[1;3;32mtimeline\u001b[0m\u001b[1;32m/%\u001b[0m\u001b[1m    \u001b[0m\u001b[1m \u001b[0m│\u001b[1;3;33m(MB/s)\u001b[0m\u001b[1m \u001b[0m│\u001b[1m/co…\u001b[0m\u001b[1m \u001b[0m \n",
            "╺━━━━━━┿━━━━━━━┿━━━━━━━┿━━━━━━━┿━━━━━━━━┿━━━━━━━┿━━━━━━━━━━━━━━━┿━━━━━━━┿━━━━━╸\n",
            " \u001b[2m \u001b[0m\u001b[2m   1\u001b[0m\u001b[2m \u001b[0m│\u001b[34m      \u001b[0m\u001b[34m \u001b[0m│\u001b[34m      \u001b[0m\u001b[34m \u001b[0m│\u001b[34m      \u001b[0m\u001b[34m \u001b[0m│\u001b[32m       \u001b[0m\u001b[32m \u001b[0m│\u001b[32m      \u001b[0m\u001b[32m \u001b[0m│\u001b[32m              \u001b[0m\u001b[32m \u001b[0m│\u001b[33m      \u001b[0m\u001b[33m \u001b[0m│\u001b[93;40mdef\u001b[0m\u001b[37;40m \u001b[0m  \n",
            " \u001b[2m \u001b[0m\u001b[2m   2\u001b[0m\u001b[2m \u001b[0m│\u001b[34m      \u001b[0m\u001b[34m \u001b[0m│\u001b[34m      \u001b[0m\u001b[34m \u001b[0m│\u001b[34m      \u001b[0m\u001b[34m \u001b[0m│\u001b[32m       \u001b[0m\u001b[32m \u001b[0m│\u001b[32m      \u001b[0m\u001b[32m \u001b[0m│\u001b[32m              \u001b[0m\u001b[32m \u001b[0m│\u001b[33m      \u001b[0m\u001b[33m \u001b[0m│\u001b[37;40m    \u001b[0m  \n",
            " \u001b[2m \u001b[0m\u001b[2m   3\u001b[0m\u001b[2m \u001b[0m│\u001b[1;31m   22%\u001b[0m\u001b[34m \u001b[0m│\u001b[1;31m   32%\u001b[0m\u001b[34m \u001b[0m│\u001b[34m   4% \u001b[0m\u001b[34m \u001b[0m│\u001b[32m       \u001b[0m\u001b[32m \u001b[0m│\u001b[32m      \u001b[0m\u001b[32m \u001b[0m│\u001b[32m              \u001b[0m\u001b[32m \u001b[0m│\u001b[33m      \u001b[0m\u001b[33m \u001b[0m│\u001b[37;40m    \u001b[0m  \n",
            " \u001b[2m \u001b[0m\u001b[2m   4\u001b[0m\u001b[2m \u001b[0m│\u001b[1;31m   31%\u001b[0m\u001b[34m \u001b[0m│\u001b[1;31m    3%\u001b[0m\u001b[34m \u001b[0m│\u001b[34m   3% \u001b[0m\u001b[34m \u001b[0m│\u001b[32m       \u001b[0m\u001b[32m \u001b[0m│\u001b[32m      \u001b[0m\u001b[32m \u001b[0m│\u001b[32m              \u001b[0m\u001b[32m \u001b[0m│\u001b[33m      \u001b[0m\u001b[33m \u001b[0m│\u001b[37;40m    \u001b[0m  \n",
            " \u001b[2m \u001b[0m\u001b[2m   5\u001b[0m\u001b[2m \u001b[0m│\u001b[34m    3%\u001b[0m\u001b[34m \u001b[0m│\u001b[34m      \u001b[0m\u001b[34m \u001b[0m│\u001b[34m      \u001b[0m\u001b[34m \u001b[0m│\u001b[32m       \u001b[0m\u001b[32m \u001b[0m│\u001b[32m      \u001b[0m\u001b[32m \u001b[0m│\u001b[32m              \u001b[0m\u001b[32m \u001b[0m│\u001b[33m      \u001b[0m\u001b[33m \u001b[0m│\u001b[37;40m    \u001b[0m  \n",
            " \u001b[2m \u001b[0m\u001b[2m   6\u001b[0m\u001b[2m \u001b[0m│\u001b[34m      \u001b[0m\u001b[34m \u001b[0m│\u001b[34m      \u001b[0m\u001b[34m \u001b[0m│\u001b[34m      \u001b[0m\u001b[34m \u001b[0m│\u001b[32m       \u001b[0m\u001b[32m \u001b[0m│\u001b[32m      \u001b[0m\u001b[32m \u001b[0m│\u001b[32m              \u001b[0m\u001b[32m \u001b[0m│\u001b[33m      \u001b[0m\u001b[33m \u001b[0m│\u001b[37;40m    \u001b[0m  \n",
            " \u001b[2m \u001b[0m\u001b[2m   7\u001b[0m\u001b[2m \u001b[0m│\u001b[34m      \u001b[0m\u001b[34m \u001b[0m│\u001b[34m      \u001b[0m\u001b[34m \u001b[0m│\u001b[34m      \u001b[0m\u001b[34m \u001b[0m│\u001b[32m       \u001b[0m\u001b[32m \u001b[0m│\u001b[32m      \u001b[0m\u001b[32m \u001b[0m│\u001b[32m              \u001b[0m\u001b[32m \u001b[0m│\u001b[33m      \u001b[0m\u001b[33m \u001b[0m│\u001b[37;40m    \u001b[0m  \n",
            " \u001b[2m \u001b[0m\u001b[2m   8\u001b[0m\u001b[2m \u001b[0m│\u001b[34m      \u001b[0m\u001b[34m \u001b[0m│\u001b[34m      \u001b[0m\u001b[34m \u001b[0m│\u001b[34m      \u001b[0m\u001b[34m \u001b[0m│\u001b[32m       \u001b[0m\u001b[32m \u001b[0m│\u001b[32m      \u001b[0m\u001b[32m \u001b[0m│\u001b[32m              \u001b[0m\u001b[32m \u001b[0m│\u001b[33m      \u001b[0m\u001b[33m \u001b[0m│\u001b[40m    \u001b[0m  \n",
            " \u001b[2m \u001b[0m\u001b[2m   9\u001b[0m\u001b[2m \u001b[0m│\u001b[34m      \u001b[0m\u001b[34m \u001b[0m│\u001b[34m      \u001b[0m\u001b[34m \u001b[0m│\u001b[34m      \u001b[0m\u001b[34m \u001b[0m│\u001b[32m       \u001b[0m\u001b[32m \u001b[0m│\u001b[32m      \u001b[0m\u001b[32m \u001b[0m│\u001b[32m              \u001b[0m\u001b[32m \u001b[0m│\u001b[33m      \u001b[0m\u001b[33m \u001b[0m│\u001b[93;40mif\u001b[0m\u001b[37;40m \u001b[0m\u001b[36;40m_\u001b[0m  \n",
            " \u001b[2m \u001b[0m\u001b[2m  10\u001b[0m\u001b[2m \u001b[0m│\u001b[34m      \u001b[0m\u001b[34m \u001b[0m│\u001b[34m      \u001b[0m\u001b[34m \u001b[0m│\u001b[34m      \u001b[0m\u001b[34m \u001b[0m│\u001b[32m       \u001b[0m\u001b[32m \u001b[0m│\u001b[32m      \u001b[0m\u001b[32m \u001b[0m│\u001b[32m              \u001b[0m\u001b[32m \u001b[0m│\u001b[33m      \u001b[0m\u001b[33m \u001b[0m│\u001b[37;40m    \u001b[0m  \n",
            " \u001b[2m \u001b[0m\u001b[2m  11\u001b[0m\u001b[2m \u001b[0m│\u001b[34m      \u001b[0m\u001b[34m \u001b[0m│\u001b[34m      \u001b[0m\u001b[34m \u001b[0m│\u001b[34m      \u001b[0m\u001b[34m \u001b[0m│\u001b[32m       \u001b[0m\u001b[32m \u001b[0m│\u001b[32m      \u001b[0m\u001b[32m \u001b[0m│\u001b[32m              \u001b[0m\u001b[32m \u001b[0m│\u001b[33m      \u001b[0m\u001b[33m \u001b[0m│\u001b[40m    \u001b[0m  \n",
            " \u001b[2m \u001b[0m\u001b[2m    \u001b[0m\u001b[2m \u001b[0m│\u001b[34m      \u001b[0m\u001b[34m \u001b[0m│\u001b[34m      \u001b[0m\u001b[34m \u001b[0m│\u001b[34m      \u001b[0m\u001b[34m \u001b[0m│\u001b[32m       \u001b[0m\u001b[32m \u001b[0m│\u001b[32m      \u001b[0m\u001b[32m \u001b[0m│\u001b[32m              \u001b[0m\u001b[32m \u001b[0m│\u001b[33m      \u001b[0m\u001b[33m \u001b[0m│      \n",
            "╶──────┼───────┼───────┼───────┼────────┼───────┼───────────────┼───────┼─────╴\n",
            " \u001b[2m \u001b[0m\u001b[2m    \u001b[0m\u001b[2m \u001b[0m│\u001b[34m      \u001b[0m\u001b[34m \u001b[0m│\u001b[34m      \u001b[0m\u001b[34m \u001b[0m│\u001b[34m      \u001b[0m\u001b[34m \u001b[0m│\u001b[32m       \u001b[0m\u001b[32m \u001b[0m│\u001b[32m      \u001b[0m\u001b[32m \u001b[0m│\u001b[32m              \u001b[0m\u001b[32m \u001b[0m│\u001b[33m      \u001b[0m\u001b[33m \u001b[0m│\u001b[1;3mfun…\u001b[0m  \n",
            " \u001b[2m \u001b[0m\u001b[2m   1\u001b[0m\u001b[2m \u001b[0m│\u001b[1;31m   57%\u001b[0m\u001b[34m \u001b[0m│\u001b[1;31m   35%\u001b[0m\u001b[34m \u001b[0m│\u001b[34m   8% \u001b[0m\u001b[34m \u001b[0m│\u001b[32m       \u001b[0m\u001b[32m \u001b[0m│\u001b[32m      \u001b[0m\u001b[32m \u001b[0m│\u001b[32m              \u001b[0m\u001b[32m \u001b[0m│\u001b[33m      \u001b[0m\u001b[33m \u001b[0m│\u001b[37;40mmai…\u001b[0m  \n",
            "       ╵       ╵       ╵       ╵        ╵       ╵               ╵       ╵      \n"
          ]
        }
      ]
    },
    {
      "cell_type": "code",
      "source": [
        "!scalene --use-virtual-time one.py"
      ],
      "metadata": {
        "colab": {
          "base_uri": "https://localhost:8080/"
        },
        "id": "IYI-QOc-w0d6",
        "outputId": "bc295fae-dead-4072-cc5b-3df37c6abfb8"
      },
      "execution_count": 43,
      "outputs": [
        {
          "output_type": "stream",
          "name": "stdout",
          "text": [
            "1099067\n",
            "\u001b[3m      /content/one.py: % of time = 100.00% (191.977ms) out of 191.977ms.       \u001b[0m\n",
            "       ╷       ╷       ╷       ╷        ╷       ╷               ╷       ╷      \n",
            " \u001b[1m      \u001b[0m│\u001b[1;34mTime\u001b[0m\u001b[1m  \u001b[0m\u001b[1m \u001b[0m│\u001b[1;34m––––––\u001b[0m\u001b[1m \u001b[0m│\u001b[1;34m––––––\u001b[0m\u001b[1m \u001b[0m│\u001b[1;32mMemory\u001b[0m\u001b[1m \u001b[0m\u001b[1m \u001b[0m│\u001b[1;32m––––––\u001b[0m\u001b[1m \u001b[0m│\u001b[1;32m–––––––––––\u001b[0m\u001b[1m   \u001b[0m\u001b[1m \u001b[0m│\u001b[1;33mCopy\u001b[0m\u001b[1m  \u001b[0m\u001b[1m \u001b[0m│\u001b[1m    \u001b[0m\u001b[1m \u001b[0m \n",
            " \u001b[1m \u001b[0m\u001b[1;2mLine\u001b[0m\u001b[1m \u001b[0m│\u001b[1;3;34mPython\u001b[0m\u001b[1m \u001b[0m│\u001b[1;3;34mnative\u001b[0m\u001b[1m \u001b[0m│\u001b[1;3;34msystem\u001b[0m\u001b[1m \u001b[0m│\u001b[1;3;32mPython\u001b[0m\u001b[1m \u001b[0m\u001b[1m \u001b[0m│\u001b[1;3;32mpeak\u001b[0m\u001b[1m  \u001b[0m\u001b[1m \u001b[0m│\u001b[1;3;32mtimeline\u001b[0m\u001b[1;32m/%\u001b[0m\u001b[1m    \u001b[0m\u001b[1m \u001b[0m│\u001b[1;3;33m(MB/s)\u001b[0m\u001b[1m \u001b[0m│\u001b[1m/co…\u001b[0m\u001b[1m \u001b[0m \n",
            "╺━━━━━━┿━━━━━━━┿━━━━━━━┿━━━━━━━┿━━━━━━━━┿━━━━━━━┿━━━━━━━━━━━━━━━┿━━━━━━━┿━━━━━╸\n",
            " \u001b[2m \u001b[0m\u001b[2m   1\u001b[0m\u001b[2m \u001b[0m│\u001b[34m      \u001b[0m\u001b[34m \u001b[0m│\u001b[34m      \u001b[0m\u001b[34m \u001b[0m│\u001b[34m      \u001b[0m\u001b[34m \u001b[0m│\u001b[32m       \u001b[0m\u001b[32m \u001b[0m│\u001b[32m      \u001b[0m\u001b[32m \u001b[0m│\u001b[32m              \u001b[0m\u001b[32m \u001b[0m│\u001b[33m      \u001b[0m\u001b[33m \u001b[0m│\u001b[93;40mdef\u001b[0m\u001b[37;40m \u001b[0m  \n",
            " \u001b[2m \u001b[0m\u001b[2m   2\u001b[0m\u001b[2m \u001b[0m│\u001b[34m      \u001b[0m\u001b[34m \u001b[0m│\u001b[34m      \u001b[0m\u001b[34m \u001b[0m│\u001b[34m      \u001b[0m\u001b[34m \u001b[0m│\u001b[32m       \u001b[0m\u001b[32m \u001b[0m│\u001b[32m      \u001b[0m\u001b[32m \u001b[0m│\u001b[32m              \u001b[0m\u001b[32m \u001b[0m│\u001b[33m      \u001b[0m\u001b[33m \u001b[0m│\u001b[37;40m    \u001b[0m  \n",
            " \u001b[2m \u001b[0m\u001b[2m   3\u001b[0m\u001b[2m \u001b[0m│\u001b[1;31m   21%\u001b[0m\u001b[34m \u001b[0m│\u001b[1;31m   36%\u001b[0m\u001b[34m \u001b[0m│\u001b[34m   4% \u001b[0m\u001b[34m \u001b[0m│\u001b[32m       \u001b[0m\u001b[32m \u001b[0m│\u001b[32m      \u001b[0m\u001b[32m \u001b[0m│\u001b[32m              \u001b[0m\u001b[32m \u001b[0m│\u001b[33m      \u001b[0m\u001b[33m \u001b[0m│\u001b[37;40m    \u001b[0m  \n",
            " \u001b[2m \u001b[0m\u001b[2m   4\u001b[0m\u001b[2m \u001b[0m│\u001b[34m   28%\u001b[0m\u001b[34m \u001b[0m│\u001b[34m    4%\u001b[0m\u001b[34m \u001b[0m│\u001b[34m   1% \u001b[0m\u001b[34m \u001b[0m│\u001b[32m       \u001b[0m\u001b[32m \u001b[0m│\u001b[32m      \u001b[0m\u001b[32m \u001b[0m│\u001b[32m              \u001b[0m\u001b[32m \u001b[0m│\u001b[33m      \u001b[0m\u001b[33m \u001b[0m│\u001b[37;40m    \u001b[0m  \n",
            " \u001b[2m \u001b[0m\u001b[2m   5\u001b[0m\u001b[2m \u001b[0m│\u001b[34m    6%\u001b[0m\u001b[34m \u001b[0m│\u001b[34m      \u001b[0m\u001b[34m \u001b[0m│\u001b[34m      \u001b[0m\u001b[34m \u001b[0m│\u001b[32m       \u001b[0m\u001b[32m \u001b[0m│\u001b[32m      \u001b[0m\u001b[32m \u001b[0m│\u001b[32m              \u001b[0m\u001b[32m \u001b[0m│\u001b[33m      \u001b[0m\u001b[33m \u001b[0m│\u001b[37;40m    \u001b[0m  \n",
            " \u001b[2m \u001b[0m\u001b[2m   6\u001b[0m\u001b[2m \u001b[0m│\u001b[34m      \u001b[0m\u001b[34m \u001b[0m│\u001b[34m      \u001b[0m\u001b[34m \u001b[0m│\u001b[34m      \u001b[0m\u001b[34m \u001b[0m│\u001b[32m       \u001b[0m\u001b[32m \u001b[0m│\u001b[32m      \u001b[0m\u001b[32m \u001b[0m│\u001b[32m              \u001b[0m\u001b[32m \u001b[0m│\u001b[33m      \u001b[0m\u001b[33m \u001b[0m│\u001b[37;40m    \u001b[0m  \n",
            " \u001b[2m \u001b[0m\u001b[2m   7\u001b[0m\u001b[2m \u001b[0m│\u001b[34m      \u001b[0m\u001b[34m \u001b[0m│\u001b[34m      \u001b[0m\u001b[34m \u001b[0m│\u001b[34m      \u001b[0m\u001b[34m \u001b[0m│\u001b[32m       \u001b[0m\u001b[32m \u001b[0m│\u001b[32m      \u001b[0m\u001b[32m \u001b[0m│\u001b[32m              \u001b[0m\u001b[32m \u001b[0m│\u001b[33m      \u001b[0m\u001b[33m \u001b[0m│\u001b[37;40m    \u001b[0m  \n",
            " \u001b[2m \u001b[0m\u001b[2m   8\u001b[0m\u001b[2m \u001b[0m│\u001b[34m      \u001b[0m\u001b[34m \u001b[0m│\u001b[34m      \u001b[0m\u001b[34m \u001b[0m│\u001b[34m      \u001b[0m\u001b[34m \u001b[0m│\u001b[32m       \u001b[0m\u001b[32m \u001b[0m│\u001b[32m      \u001b[0m\u001b[32m \u001b[0m│\u001b[32m              \u001b[0m\u001b[32m \u001b[0m│\u001b[33m      \u001b[0m\u001b[33m \u001b[0m│\u001b[40m    \u001b[0m  \n",
            " \u001b[2m \u001b[0m\u001b[2m   9\u001b[0m\u001b[2m \u001b[0m│\u001b[34m      \u001b[0m\u001b[34m \u001b[0m│\u001b[34m      \u001b[0m\u001b[34m \u001b[0m│\u001b[34m      \u001b[0m\u001b[34m \u001b[0m│\u001b[32m       \u001b[0m\u001b[32m \u001b[0m│\u001b[32m      \u001b[0m\u001b[32m \u001b[0m│\u001b[32m              \u001b[0m\u001b[32m \u001b[0m│\u001b[33m      \u001b[0m\u001b[33m \u001b[0m│\u001b[93;40mif\u001b[0m\u001b[37;40m \u001b[0m\u001b[36;40m_\u001b[0m  \n",
            " \u001b[2m \u001b[0m\u001b[2m  10\u001b[0m\u001b[2m \u001b[0m│\u001b[34m      \u001b[0m\u001b[34m \u001b[0m│\u001b[34m      \u001b[0m\u001b[34m \u001b[0m│\u001b[34m      \u001b[0m\u001b[34m \u001b[0m│\u001b[32m       \u001b[0m\u001b[32m \u001b[0m│\u001b[32m      \u001b[0m\u001b[32m \u001b[0m│\u001b[32m              \u001b[0m\u001b[32m \u001b[0m│\u001b[33m      \u001b[0m\u001b[33m \u001b[0m│\u001b[37;40m    \u001b[0m  \n",
            " \u001b[2m \u001b[0m\u001b[2m  11\u001b[0m\u001b[2m \u001b[0m│\u001b[34m      \u001b[0m\u001b[34m \u001b[0m│\u001b[34m      \u001b[0m\u001b[34m \u001b[0m│\u001b[34m      \u001b[0m\u001b[34m \u001b[0m│\u001b[32m       \u001b[0m\u001b[32m \u001b[0m│\u001b[32m      \u001b[0m\u001b[32m \u001b[0m│\u001b[32m              \u001b[0m\u001b[32m \u001b[0m│\u001b[33m      \u001b[0m\u001b[33m \u001b[0m│\u001b[40m    \u001b[0m  \n",
            " \u001b[2m \u001b[0m\u001b[2m    \u001b[0m\u001b[2m \u001b[0m│\u001b[34m      \u001b[0m\u001b[34m \u001b[0m│\u001b[34m      \u001b[0m\u001b[34m \u001b[0m│\u001b[34m      \u001b[0m\u001b[34m \u001b[0m│\u001b[32m       \u001b[0m\u001b[32m \u001b[0m│\u001b[32m      \u001b[0m\u001b[32m \u001b[0m│\u001b[32m              \u001b[0m\u001b[32m \u001b[0m│\u001b[33m      \u001b[0m\u001b[33m \u001b[0m│      \n",
            "╶──────┼───────┼───────┼───────┼────────┼───────┼───────────────┼───────┼─────╴\n",
            " \u001b[2m \u001b[0m\u001b[2m    \u001b[0m\u001b[2m \u001b[0m│\u001b[34m      \u001b[0m\u001b[34m \u001b[0m│\u001b[34m      \u001b[0m\u001b[34m \u001b[0m│\u001b[34m      \u001b[0m\u001b[34m \u001b[0m│\u001b[32m       \u001b[0m\u001b[32m \u001b[0m│\u001b[32m      \u001b[0m\u001b[32m \u001b[0m│\u001b[32m              \u001b[0m\u001b[32m \u001b[0m│\u001b[33m      \u001b[0m\u001b[33m \u001b[0m│\u001b[1;3mfun…\u001b[0m  \n",
            " \u001b[2m \u001b[0m\u001b[2m   1\u001b[0m\u001b[2m \u001b[0m│\u001b[1;31m   55%\u001b[0m\u001b[34m \u001b[0m│\u001b[1;31m   41%\u001b[0m\u001b[34m \u001b[0m│\u001b[34m   4% \u001b[0m\u001b[34m \u001b[0m│\u001b[32m       \u001b[0m\u001b[32m \u001b[0m│\u001b[32m      \u001b[0m\u001b[32m \u001b[0m│\u001b[32m              \u001b[0m\u001b[32m \u001b[0m│\u001b[33m      \u001b[0m\u001b[33m \u001b[0m│\u001b[37;40mmai…\u001b[0m  \n",
            "       ╵       ╵       ╵       ╵        ╵       ╵               ╵       ╵      \n"
          ]
        }
      ]
    },
    {
      "cell_type": "code",
      "source": [
        "!pip install -U memory_profiler"
      ],
      "metadata": {
        "colab": {
          "base_uri": "https://localhost:8080/"
        },
        "id": "4wqfG0CsxB9e",
        "outputId": "76513148-8e9a-4925-ee99-3fd1dc445dda"
      },
      "execution_count": 45,
      "outputs": [
        {
          "output_type": "stream",
          "name": "stdout",
          "text": [
            "Requirement already satisfied: memory_profiler in /usr/local/lib/python3.11/dist-packages (0.61.0)\n",
            "Requirement already satisfied: psutil in /usr/local/lib/python3.11/dist-packages (from memory_profiler) (5.9.5)\n"
          ]
        }
      ]
    },
    {
      "cell_type": "code",
      "source": [
        "import memory_profiler\n",
        "\n",
        "print(\"Memory Profiler Version : {}\".format(memory_profiler.__version__))"
      ],
      "metadata": {
        "colab": {
          "base_uri": "https://localhost:8080/"
        },
        "id": "pFGUT8HrxJta",
        "outputId": "9ce85967-d51f-41b3-eaab-e62b543a16b9"
      },
      "execution_count": 46,
      "outputs": [
        {
          "output_type": "stream",
          "name": "stdout",
          "text": [
            "Memory Profiler Version : 0.61.0\n"
          ]
        }
      ]
    },
    {
      "cell_type": "code",
      "source": [
        "%%writefile example1.py\n",
        "from memory_profiler import profile\n",
        "\n",
        "@profile\n",
        "def main_func():\n",
        "    import random\n",
        "    arr1 = [random.randint(1,10) for i in range(100000)]\n",
        "    arr2 = [random.randint(1,10) for i in range(100000)]\n",
        "    arr3 = [arr1[i]+arr2[i] for i in range(100000)]\n",
        "    del arr1\n",
        "    del arr2\n",
        "    tot = sum(arr3)\n",
        "    del arr3\n",
        "    print(tot)\n",
        "\n",
        "if __name__ == \"__main__\":\n",
        "    main_func()\n",
        "\n"
      ],
      "metadata": {
        "colab": {
          "base_uri": "https://localhost:8080/"
        },
        "id": "NmgtQ3XYxOrV",
        "outputId": "f144de95-20ef-4aaa-895c-4e28ef6230a4"
      },
      "execution_count": 47,
      "outputs": [
        {
          "output_type": "stream",
          "name": "stdout",
          "text": [
            "Writing example1.py\n"
          ]
        }
      ]
    },
    {
      "cell_type": "code",
      "source": [
        "!python -m memory_profiler example1.py"
      ],
      "metadata": {
        "colab": {
          "base_uri": "https://localhost:8080/"
        },
        "id": "VlPZD6b9xmBp",
        "outputId": "fcfd3f5a-1339-49a2-f12e-18865964bc29"
      },
      "execution_count": 48,
      "outputs": [
        {
          "output_type": "stream",
          "name": "stdout",
          "text": [
            "1100822\n",
            "Filename: example1.py\n",
            "\n",
            "Line #    Mem usage    Increment  Occurrences   Line Contents\n",
            "=============================================================\n",
            "     3     41.9 MiB     41.9 MiB           1   @profile\n",
            "     4                                         def main_func():\n",
            "     5     41.9 MiB      0.0 MiB           1       import random\n",
            "     6     43.0 MiB      1.1 MiB      100003       arr1 = [random.randint(1,10) for i in range(100000)]\n",
            "     7     43.7 MiB      0.8 MiB      100003       arr2 = [random.randint(1,10) for i in range(100000)]\n",
            "     8     44.5 MiB      0.8 MiB      100003       arr3 = [arr1[i]+arr2[i] for i in range(100000)]\n",
            "     9     43.8 MiB     -0.7 MiB           1       del arr1\n",
            "    10     43.1 MiB     -0.8 MiB           1       del arr2\n",
            "    11     43.1 MiB      0.0 MiB           1       tot = sum(arr3)\n",
            "    12     42.3 MiB     -0.8 MiB           1       del arr3\n",
            "    13     42.3 MiB      0.0 MiB           1       print(tot)\n",
            "\n",
            "\n"
          ]
        }
      ]
    },
    {
      "cell_type": "code",
      "source": [
        "%%writefile example1_modified.py\n",
        "from memory_profiler import profile\n",
        "\n",
        "@profile\n",
        "def main_func():\n",
        "    import random\n",
        "    arr1 = [random.randint(1,10) for i in range(100000)]\n",
        "    arr2 = [random.randint(1,10) for i in range(100000)]\n",
        "    arr3 = [arr1[i]+arr2[i] for i in range(100000)]\n",
        "    tot = sum(arr3)\n",
        "    print(tot)\n",
        "\n",
        "if __name__ == \"__main__\":\n",
        "    main_func()\n"
      ],
      "metadata": {
        "colab": {
          "base_uri": "https://localhost:8080/"
        },
        "id": "nrwrf2EAx7qA",
        "outputId": "17fa10a1-9031-45bc-f268-5b02ab8fb619"
      },
      "execution_count": 49,
      "outputs": [
        {
          "output_type": "stream",
          "name": "stdout",
          "text": [
            "Writing example1_modified.py\n"
          ]
        }
      ]
    },
    {
      "cell_type": "code",
      "source": [
        "!python -m memory_profiler example1_modified.py"
      ],
      "metadata": {
        "colab": {
          "base_uri": "https://localhost:8080/"
        },
        "id": "YFmeRPc-yFl7",
        "outputId": "516695e4-2d3b-428b-d496-8935c852e469"
      },
      "execution_count": 50,
      "outputs": [
        {
          "output_type": "stream",
          "name": "stdout",
          "text": [
            "1098642\n",
            "Filename: example1_modified.py\n",
            "\n",
            "Line #    Mem usage    Increment  Occurrences   Line Contents\n",
            "=============================================================\n",
            "     3     41.9 MiB     41.9 MiB           1   @profile\n",
            "     4                                         def main_func():\n",
            "     5     41.9 MiB      0.0 MiB           1       import random\n",
            "     6     43.0 MiB      1.1 MiB      100003       arr1 = [random.randint(1,10) for i in range(100000)]\n",
            "     7     43.7 MiB      0.8 MiB      100003       arr2 = [random.randint(1,10) for i in range(100000)]\n",
            "     8     44.5 MiB      0.8 MiB      100003       arr3 = [arr1[i]+arr2[i] for i in range(100000)]\n",
            "     9     44.5 MiB      0.0 MiB           1       tot = sum(arr3)\n",
            "    10     44.5 MiB      0.0 MiB           1       print(tot)\n",
            "\n",
            "\n"
          ]
        }
      ]
    },
    {
      "cell_type": "code",
      "source": [
        "%%writefile example1_modified2.py\n",
        "from memory_profiler import profile\n",
        "\n",
        "@profile(precision=4)\n",
        "def main_func():\n",
        "    import random\n",
        "    arr1 = [random.randint(1,10) for i in range(100000)]\n",
        "    arr2 = [random.randint(1,10) for i in range(100000)]\n",
        "    arr3 = [arr1[i]+arr2[i] for i in range(100000)]\n",
        "    tot = sum(arr3)\n",
        "    print(tot)\n",
        "\n",
        "if __name__ == \"__main__\":\n",
        "    main_func()"
      ],
      "metadata": {
        "colab": {
          "base_uri": "https://localhost:8080/"
        },
        "id": "OaPZ6L6lyZ77",
        "outputId": "936b64fb-c7f2-417c-8efc-73d0d46fa5ec"
      },
      "execution_count": 51,
      "outputs": [
        {
          "output_type": "stream",
          "name": "stdout",
          "text": [
            "Writing example1_modified2.py\n"
          ]
        }
      ]
    },
    {
      "cell_type": "code",
      "source": [
        "!python -m memory_profiler example1_modified2.py"
      ],
      "metadata": {
        "colab": {
          "base_uri": "https://localhost:8080/"
        },
        "id": "Gg1oNHJ7ylLD",
        "outputId": "a0ac3d26-8daf-4b55-8e6e-bf419aa35e9a"
      },
      "execution_count": 52,
      "outputs": [
        {
          "output_type": "stream",
          "name": "stdout",
          "text": [
            "1100451\n",
            "Filename: example1_modified2.py\n",
            "\n",
            "Line #    Mem usage    Increment  Occurrences   Line Contents\n",
            "=============================================================\n",
            "     3  41.8281 MiB  41.8281 MiB           1   @profile(precision=4)\n",
            "     4                                         def main_func():\n",
            "     5  41.8281 MiB   0.0000 MiB           1       import random\n",
            "     6  42.9961 MiB   1.1680 MiB      100003       arr1 = [random.randint(1,10) for i in range(100000)]\n",
            "     7  43.7617 MiB   0.7656 MiB      100003       arr2 = [random.randint(1,10) for i in range(100000)]\n",
            "     8  44.5273 MiB   0.7656 MiB      100003       arr3 = [arr1[i]+arr2[i] for i in range(100000)]\n",
            "     9  44.5273 MiB   0.0000 MiB           1       tot = sum(arr3)\n",
            "    10  44.5273 MiB   0.0000 MiB           1       print(tot)\n",
            "\n",
            "\n"
          ]
        }
      ]
    },
    {
      "cell_type": "markdown",
      "source": [
        "The mprof command provides us with information about the usage of memory over time of the execution of the script. This can be very useful for analysis to understand which part of the script is taking more memory as well as when the memory usage is rising.\n",
        "\n",
        "Apart from script, \"mprof\" command can be used to profile memory usage of Python module and Python executable as well.\n",
        "\n",
        "The mprof command records memory usage at every 0.1 second when the script is running and stores it in a .dat file.\n",
        "\n",
        "It even provides plotting functionality which plots memory usage as a function of time using matplotlib."
      ],
      "metadata": {
        "id": "kRenY15Oy4s6"
      }
    },
    {
      "cell_type": "code",
      "source": [
        "%%writefile random_number_generator.py\n",
        "import time\n",
        "import numpy as np\n",
        "\n",
        "@profile\n",
        "def very_slow_random_generator():\n",
        "    time.sleep(5)\n",
        "    arr1 = np.random.randint(1,100, size=(1000,1000))\n",
        "    avg = arr1.mean()\n",
        "    return avg\n",
        "\n",
        "@profile\n",
        "def slow_random_generator():\n",
        "    time.sleep(2)\n",
        "    arr1 = np.random.randint(1,100, size=(1000,1000))\n",
        "    avg = arr1.mean()\n",
        "    return avg\n",
        "\n",
        "@profile\n",
        "def fast_random_generator():\n",
        "    time.sleep(1)\n",
        "    arr1 = np.random.randint(1,100, size=(1000,1000))\n",
        "    avg = arr1.mean()\n",
        "    return avg\n",
        "\n",
        "@profile\n",
        "def main_func():\n",
        "    avg1 = fast_random_generator()\n",
        "    avg2 = slow_random_generator()\n",
        "    avg3 = very_slow_random_generator()\n",
        "\n",
        "    print(\"Averages: {:.3f}, {:.3f}, {:.3f}\".format(avg1,avg2,avg3))\n",
        "\n",
        "if __name__ == '__main__':\n",
        "    main_func()"
      ],
      "metadata": {
        "colab": {
          "base_uri": "https://localhost:8080/"
        },
        "id": "ETbqjqQRy_E0",
        "outputId": "e276bf93-97d6-4c85-a195-b772c853c403"
      },
      "execution_count": 55,
      "outputs": [
        {
          "output_type": "stream",
          "name": "stdout",
          "text": [
            "Overwriting random_number_generator.py\n"
          ]
        }
      ]
    },
    {
      "cell_type": "code",
      "source": [
        "!mprof run random_number_generator.py"
      ],
      "metadata": {
        "colab": {
          "base_uri": "https://localhost:8080/"
        },
        "id": "GTSLCA7czEjU",
        "outputId": "39174179-6280-441d-e1bd-11597bcc09e2"
      },
      "execution_count": 57,
      "outputs": [
        {
          "output_type": "stream",
          "name": "stdout",
          "text": [
            "mprof: Sampling memory every 0.1s\n",
            "running new process\n",
            "running as a Python program...\n",
            "Averages: 49.944, 50.040, 50.017\n"
          ]
        }
      ]
    },
    {
      "cell_type": "code",
      "source": [
        "!head -n 10 mprofile_20220803182143.dat"
      ],
      "metadata": {
        "colab": {
          "base_uri": "https://localhost:8080/"
        },
        "id": "12b5ClewzwWz",
        "outputId": "5d485b69-fe8b-48ec-b60b-f6daa0ad3e39"
      },
      "execution_count": 60,
      "outputs": [
        {
          "output_type": "stream",
          "name": "stdout",
          "text": [
            "CMDLINE /usr/bin/python3 random_number_generator.py\n",
            "MEM 0.007812 1750380395.9764\n",
            "MEM 16.609375 1750380396.0768\n",
            "MEM 25.328125 1750380396.1772\n",
            "MEM 32.062500 1750380396.2776\n",
            "MEM 38.609375 1750380396.3779\n",
            "MEM 42.312500 1750380396.4783\n",
            "MEM 49.199219 1750380396.5787\n",
            "MEM 52.281250 1750380396.6791\n",
            "MEM 52.281250 1750380396.7796\n"
          ]
        }
      ]
    },
    {
      "cell_type": "code",
      "source": [
        "!mprof list"
      ],
      "metadata": {
        "colab": {
          "base_uri": "https://localhost:8080/"
        },
        "id": "v7vtJ54e0JRh",
        "outputId": "ac145803-5903-4b6e-b57b-6d69b0660b9f"
      },
      "execution_count": 66,
      "outputs": [
        {
          "output_type": "stream",
          "name": "stdout",
          "text": [
            "0 mprofile_20250620004635.dat 00:46:35 20/06/2025\n",
            "1 mprofile_20250620005138.dat 00:51:38 20/06/2025\n"
          ]
        }
      ]
    },
    {
      "cell_type": "code",
      "source": [
        "!mprof run random_number_generator.py ARG1 ARG2"
      ],
      "metadata": {
        "colab": {
          "base_uri": "https://localhost:8080/"
        },
        "id": "AwtyGiNC0ban",
        "outputId": "6a26b4c6-9093-472e-9078-fba555fb400b"
      },
      "execution_count": 61,
      "outputs": [
        {
          "output_type": "stream",
          "name": "stdout",
          "text": [
            "mprof: Sampling memory every 0.1s\n",
            "running new process\n",
            "running as a Python program...\n",
            "Averages: 50.027, 49.967, 50.042\n"
          ]
        }
      ]
    },
    {
      "cell_type": "code",
      "source": [
        "!head -n 10 mprofile_20250620005138.dat"
      ],
      "metadata": {
        "colab": {
          "base_uri": "https://localhost:8080/"
        },
        "id": "3-oEoYed0lKw",
        "outputId": "8fc5f943-77fc-4d1c-ce69-d0cf88a8fb21"
      },
      "execution_count": 63,
      "outputs": [
        {
          "output_type": "stream",
          "name": "stdout",
          "text": [
            "CMDLINE /usr/bin/python3 random_number_generator.py ARG1 ARG2\n",
            "MEM 0.527344 1750380698.8886\n",
            "MEM 21.222656 1750380698.9893\n",
            "MEM 31.574219 1750380699.0897\n",
            "MEM 40.117188 1750380699.1901\n",
            "MEM 50.218750 1750380699.2904\n",
            "MEM 53.390625 1750380699.3908\n",
            "MEM 53.390625 1750380699.4912\n",
            "MEM 53.390625 1750380699.5918\n",
            "MEM 53.390625 1750380699.6921\n"
          ]
        }
      ]
    },
    {
      "cell_type": "code",
      "source": [
        "!mprof plot mprofile_20250620005138.dat --output  plot.png"
      ],
      "metadata": {
        "colab": {
          "base_uri": "https://localhost:8080/"
        },
        "collapsed": true,
        "id": "KTjIiCfQ0pYr",
        "outputId": "4fe7978e-0cdc-49bf-8a90-34a442aa716b"
      },
      "execution_count": 73,
      "outputs": [
        {
          "output_type": "stream",
          "name": "stdout",
          "text": [
            "usage: mprof plot [options] [file.dat]\n",
            "mprof: error: unrecognized arguments: plot.png\n"
          ]
        }
      ]
    },
    {
      "cell_type": "markdown",
      "source": [
        "![plot.png](data:image/png;base64,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)"
      ],
      "metadata": {
        "id": "4lykYlEM2NPn"
      }
    },
    {
      "cell_type": "code",
      "source": [
        "!mprof plot --help"
      ],
      "metadata": {
        "colab": {
          "base_uri": "https://localhost:8080/"
        },
        "id": "ipKu3WXe1bL0",
        "outputId": "b1608049-0a34-4bea-b422-b5bef9e579ff"
      },
      "execution_count": 69,
      "outputs": [
        {
          "output_type": "stream",
          "name": "stdout",
          "text": [
            "usage: mprof plot [options] [file.dat]\n",
            "\n",
            "Plots using matplotlib the data file `file.dat` generated using `mprof run`.\n",
            "If no .dat file is given, it will take the most recent such file in the\n",
            "current directory.\n",
            "\n",
            "positional arguments:\n",
            "  profiles              profiles made by mprof run\n",
            "\n",
            "options:\n",
            "  -h, --help            show this help message and exit\n",
            "  --version             show program's version number and exit\n",
            "  --title TITLE, -t TITLE\n",
            "                        String shown as plot title\n",
            "  --no-function-ts, -n  Do not display function timestamps on plot.\n",
            "  --output OUTPUT, -o OUTPUT\n",
            "                        Save plot to file instead of displaying it.\n",
            "  --window XLIM, -w XLIM\n",
            "                        Plot a time-subset of the data. E.g. to plot between 0\n",
            "                        and 20.5 seconds: --window 0,20.5\n",
            "  --flame, -f           Plot the timestamps as a flame-graph instead of the\n",
            "                        default brackets\n",
            "  --slope, -s           Plot a trend line and its numerical slope\n",
            "  --backend BACKEND     Specify the Matplotlib backend to use\n"
          ]
        }
      ]
    }
  ]
}